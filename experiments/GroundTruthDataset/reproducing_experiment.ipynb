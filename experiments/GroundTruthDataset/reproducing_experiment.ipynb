{
 "cells": [
  {
   "cell_type": "markdown",
   "id": "245a9ad2",
   "metadata": {},
   "source": [
    "# Reproducing experiment from Hruskal 2022\n",
    "\n",
    "Reproducing histograms and various technical experiments from the paper : Hruska, E., Zhao, L. & Liu, F. Ground truth explanation dataset for chemical property prediction on molecular graphs. ChemRxiv (2022)."
   ]
  },
  {
   "cell_type": "code",
   "execution_count": 21,
   "id": "bb683db6",
   "metadata": {},
   "outputs": [],
   "source": [
    "# Imports\n",
    "import pandas as pd\n",
    "import numpy as np\n",
    "import matplotlib.pyplot as plt\n",
    "import seaborn as sns"
   ]
  },
  {
   "cell_type": "code",
   "execution_count": 22,
   "id": "1f590eb3",
   "metadata": {},
   "outputs": [
    {
     "name": "stdout",
     "output_type": "stream",
     "text": [
      "(3619970, 5)\n"
     ]
    },
    {
     "data": {
      "text/html": [
       "<div>\n",
       "<style scoped>\n",
       "    .dataframe tbody tr th:only-of-type {\n",
       "        vertical-align: middle;\n",
       "    }\n",
       "\n",
       "    .dataframe tbody tr th {\n",
       "        vertical-align: top;\n",
       "    }\n",
       "\n",
       "    .dataframe thead th {\n",
       "        text-align: right;\n",
       "    }\n",
       "</style>\n",
       "<table border=\"1\" class=\"dataframe\">\n",
       "  <thead>\n",
       "    <tr style=\"text-align: right;\">\n",
       "      <th></th>\n",
       "      <th>molecule index</th>\n",
       "      <th>operation index</th>\n",
       "      <th>atom index</th>\n",
       "      <th>paired molecule index</th>\n",
       "      <th>explanation value</th>\n",
       "    </tr>\n",
       "  </thead>\n",
       "  <tbody>\n",
       "    <tr>\n",
       "      <th>0</th>\n",
       "      <td>3</td>\n",
       "      <td>0</td>\n",
       "      <td>13</td>\n",
       "      <td>2213220</td>\n",
       "      <td>-0.201364</td>\n",
       "    </tr>\n",
       "    <tr>\n",
       "      <th>1</th>\n",
       "      <td>7</td>\n",
       "      <td>1</td>\n",
       "      <td>1</td>\n",
       "      <td>2213226</td>\n",
       "      <td>-0.400007</td>\n",
       "    </tr>\n",
       "    <tr>\n",
       "      <th>2</th>\n",
       "      <td>10</td>\n",
       "      <td>0</td>\n",
       "      <td>7</td>\n",
       "      <td>34507</td>\n",
       "      <td>0.285720</td>\n",
       "    </tr>\n",
       "    <tr>\n",
       "      <th>3</th>\n",
       "      <td>20</td>\n",
       "      <td>0</td>\n",
       "      <td>12</td>\n",
       "      <td>3359972</td>\n",
       "      <td>-0.010885</td>\n",
       "    </tr>\n",
       "    <tr>\n",
       "      <th>4</th>\n",
       "      <td>21</td>\n",
       "      <td>1</td>\n",
       "      <td>0</td>\n",
       "      <td>3123855</td>\n",
       "      <td>0.027211</td>\n",
       "    </tr>\n",
       "  </tbody>\n",
       "</table>\n",
       "</div>"
      ],
      "text/plain": [
       "   molecule index  operation index  atom index  paired molecule index  \\\n",
       "0               3                0          13                2213220   \n",
       "1               7                1           1                2213226   \n",
       "2              10                0           7                  34507   \n",
       "3              20                0          12                3359972   \n",
       "4              21                1           0                3123855   \n",
       "\n",
       "   explanation value  \n",
       "0          -0.201364  \n",
       "1          -0.400007  \n",
       "2           0.285720  \n",
       "3          -0.010885  \n",
       "4           0.027211  "
      ]
     },
     "execution_count": 22,
     "metadata": {},
     "output_type": "execute_result"
    }
   ],
   "source": [
    "# Importing explainability datasets\n",
    "atom_df = pd.read_csv(\"ground-truth-explainability-PCQM4Mv2-atomwise.csv\")\n",
    "bond_df = pd.read_csv(\"ground-truth-explainability-PCQM4Mv2-bondwise.csv\")\n",
    "print(atom_df.shape)\n",
    "atom_df.head()"
   ]
  },
  {
   "cell_type": "code",
   "execution_count": 23,
   "id": "1649dd74",
   "metadata": {},
   "outputs": [
    {
     "name": "stdout",
     "output_type": "stream",
     "text": [
      "(1555262, 5)\n"
     ]
    },
    {
     "data": {
      "text/html": [
       "<div>\n",
       "<style scoped>\n",
       "    .dataframe tbody tr th:only-of-type {\n",
       "        vertical-align: middle;\n",
       "    }\n",
       "\n",
       "    .dataframe tbody tr th {\n",
       "        vertical-align: top;\n",
       "    }\n",
       "\n",
       "    .dataframe thead th {\n",
       "        text-align: right;\n",
       "    }\n",
       "</style>\n",
       "<table border=\"1\" class=\"dataframe\">\n",
       "  <thead>\n",
       "    <tr style=\"text-align: right;\">\n",
       "      <th></th>\n",
       "      <th>molecule index</th>\n",
       "      <th>operation index</th>\n",
       "      <th>bond index</th>\n",
       "      <th>paired molecule index</th>\n",
       "      <th>explanation value</th>\n",
       "    </tr>\n",
       "  </thead>\n",
       "  <tbody>\n",
       "    <tr>\n",
       "      <th>0</th>\n",
       "      <td>14</td>\n",
       "      <td>2</td>\n",
       "      <td>11</td>\n",
       "      <td>2213255</td>\n",
       "      <td>-0.919745</td>\n",
       "    </tr>\n",
       "    <tr>\n",
       "      <th>1</th>\n",
       "      <td>23</td>\n",
       "      <td>3</td>\n",
       "      <td>5</td>\n",
       "      <td>3111831</td>\n",
       "      <td>0.040817</td>\n",
       "    </tr>\n",
       "    <tr>\n",
       "      <th>2</th>\n",
       "      <td>24</td>\n",
       "      <td>3</td>\n",
       "      <td>4</td>\n",
       "      <td>2907660</td>\n",
       "      <td>0.527901</td>\n",
       "    </tr>\n",
       "    <tr>\n",
       "      <th>3</th>\n",
       "      <td>36</td>\n",
       "      <td>3</td>\n",
       "      <td>7</td>\n",
       "      <td>1668630</td>\n",
       "      <td>-0.402728</td>\n",
       "    </tr>\n",
       "    <tr>\n",
       "      <th>4</th>\n",
       "      <td>38</td>\n",
       "      <td>3</td>\n",
       "      <td>4</td>\n",
       "      <td>1894401</td>\n",
       "      <td>-0.187759</td>\n",
       "    </tr>\n",
       "  </tbody>\n",
       "</table>\n",
       "</div>"
      ],
      "text/plain": [
       "   molecule index  operation index  bond index  paired molecule index  \\\n",
       "0              14                2          11                2213255   \n",
       "1              23                3           5                3111831   \n",
       "2              24                3           4                2907660   \n",
       "3              36                3           7                1668630   \n",
       "4              38                3           4                1894401   \n",
       "\n",
       "   explanation value  \n",
       "0          -0.919745  \n",
       "1           0.040817  \n",
       "2           0.527901  \n",
       "3          -0.402728  \n",
       "4          -0.187759  "
      ]
     },
     "execution_count": 23,
     "metadata": {},
     "output_type": "execute_result"
    }
   ],
   "source": [
    "print(bond_df.shape)\n",
    "bond_df.head()"
   ]
  },
  {
   "cell_type": "code",
   "execution_count": 32,
   "id": "0fc8946e",
   "metadata": {},
   "outputs": [],
   "source": [
    "PCQM4Mv2_train_n_molecules = 3378606"
   ]
  },
  {
   "cell_type": "code",
   "execution_count": 25,
   "id": "76a2730b",
   "metadata": {},
   "outputs": [
    {
     "name": "stdout",
     "output_type": "stream",
     "text": [
      "Int64Index([     14,      23,      24,      36,      38,      44,      50,\n",
      "                 51,      52,      66,\n",
      "            ...\n",
      "            3378557, 3378561, 3378565, 3378566, 3378580, 3378595, 3378596,\n",
      "            3378601, 3378602, 3378605],\n",
      "           dtype='int64', name='molecule index', length=783788)\n",
      "0     79.080131\n",
      "1     10.741148\n",
      "2      4.447048\n",
      "3      3.048081\n",
      "4      1.537786\n",
      "5      0.638255\n",
      "6      0.299897\n",
      "7      0.122777\n",
      "8      0.051673\n",
      "9      0.021406\n",
      "10     0.007660\n",
      "11     0.002402\n",
      "12     0.001361\n",
      "13     0.000294\n",
      "14     0.000080\n",
      "dtype: float64\n"
     ]
    }
   ],
   "source": [
    "atom_values_per_mol = atom_df.groupby(\"molecule index\").count()[\"explanation value\"].value_counts()\n",
    "atom_values_per_mol = pd.concat([pd.Series([PCQM4Mv2_n_molecules-sum(atom_values_per_mol)]),atom_values_per_mol])\n",
    "atom_values_per_mol /= PCQM4Mv2_n_molecules\n",
    "\n",
    "bond_values_per_mol = bond_df.groupby(\"molecule index\").count()[\"explanation value\"].value_counts()\n",
    "print(bond_df.groupby(\"molecule index\").count().index)\n",
    "bond_values_per_mol = pd.concat([pd.Series([PCQM4Mv2_n_molecules-sum(bond_values_per_mol)]),bond_values_per_mol])\n",
    "bond_values_per_mol /= PCQM4Mv2_n_molecules\n",
    "\n",
    "print(bond_values_per_mol*100)"
   ]
  },
  {
   "cell_type": "code",
   "execution_count": 31,
   "id": "f9d0b824",
   "metadata": {},
   "outputs": [
    {
     "data": {
      "image/png": "[encoded data removed]",
      "text/plain": [
       "<Figure size 1000x300 with 2 Axes>"
      ]
     },
     "metadata": {},
     "output_type": "display_data"
    }
   ],
   "source": [
    "fig, ax = plt.subplots(ncols=2,figsize=(10,3))\n",
    "for i,data in enumerate([atom_values_per_mol,bond_values_per_mol]):\n",
    "    ax[i].bar(data.index,data.values)\n",
    "    ax[i].set_xticks(data.index);\n",
    "    ax[i].set_xlabel(\"values per molecule\")\n",
    "    ax[i].set_ylabel(\"dataset fraction [%]\")\n",
    "    title = (1-i)*\"atomwise\" + i*\"bondwise\"\n",
    "    ax[i].set_title(\"Explanation values distribution - \"+title)\n",
    "fig.tight_layout()\n",
    "fig.savefig(\"./hruska_expl_distribution.png\")\n",
    "#atom_values_per_mol.plot.bar(title=\"Distribution of explanation values in the dataset - Atomwise\",\n",
    "#                             ylabel=\"dataset fraction\",\n",
    "#                             xlabel=\"values per molecule\",\n",
    "#                             figsize=(10,5));"
   ]
  },
  {
   "cell_type": "code",
   "execution_count": 28,
   "id": "b49252fa",
   "metadata": {},
   "outputs": [],
   "source": [
    "from ogb.lsc import PCQM4Mv2Dataset\n",
    "dataset = PCQM4Mv2Dataset(root = '../../data/', only_smiles = True)"
   ]
  },
  {
   "cell_type": "code",
   "execution_count": 29,
   "id": "ea4f0244",
   "metadata": {},
   "outputs": [],
   "source": [
    "# Value of the chemical property for each molecule of the dataset\n",
    "prop_values=[]\n",
    "for dat in dataset:\n",
    "    prop_values.append(dat[1])\n",
    "prop_values_arr=np.array(prop_values)\n",
    "atom_prop_values_arr = prop_values_arr[atom_df[\"molecule index\"]]\n",
    "atom_prop_values_arr\n",
    "atom_df[\"HOMO-LUMO gap [eV]\"] = atom_prop_values_arr.T"
   ]
  },
  {
   "cell_type": "code",
   "execution_count": 30,
   "id": "d410730f",
   "metadata": {},
   "outputs": [
    {
     "data": {
      "text/plain": [
       "3746620"
      ]
     },
     "execution_count": 30,
     "metadata": {},
     "output_type": "execute_result"
    }
   ],
   "source": [
    "len(prop_values_arr)"
   ]
  },
  {
   "cell_type": "code",
   "execution_count": 55,
   "id": "dba9f063",
   "metadata": {},
   "outputs": [
    {
     "data": {
      "text/html": [
       "<div>\n",
       "<style scoped>\n",
       "    .dataframe tbody tr th:only-of-type {\n",
       "        vertical-align: middle;\n",
       "    }\n",
       "\n",
       "    .dataframe tbody tr th {\n",
       "        vertical-align: top;\n",
       "    }\n",
       "\n",
       "    .dataframe thead th {\n",
       "        text-align: right;\n",
       "    }\n",
       "</style>\n",
       "<table border=\"1\" class=\"dataframe\">\n",
       "  <thead>\n",
       "    <tr style=\"text-align: right;\">\n",
       "      <th></th>\n",
       "      <th>molecule index</th>\n",
       "      <th>operation index</th>\n",
       "      <th>atom index</th>\n",
       "      <th>paired molecule index</th>\n",
       "      <th>explanation value</th>\n",
       "      <th>HOMO-LUMO gap [eV]</th>\n",
       "    </tr>\n",
       "  </thead>\n",
       "  <tbody>\n",
       "    <tr>\n",
       "      <th>0</th>\n",
       "      <td>3</td>\n",
       "      <td>0</td>\n",
       "      <td>13</td>\n",
       "      <td>2213220</td>\n",
       "      <td>-0.201364</td>\n",
       "      <td>4.492600</td>\n",
       "    </tr>\n",
       "    <tr>\n",
       "      <th>1</th>\n",
       "      <td>7</td>\n",
       "      <td>1</td>\n",
       "      <td>1</td>\n",
       "      <td>2213226</td>\n",
       "      <td>-0.400007</td>\n",
       "      <td>4.242255</td>\n",
       "    </tr>\n",
       "    <tr>\n",
       "      <th>2</th>\n",
       "      <td>10</td>\n",
       "      <td>0</td>\n",
       "      <td>7</td>\n",
       "      <td>34507</td>\n",
       "      <td>0.285720</td>\n",
       "      <td>4.174226</td>\n",
       "    </tr>\n",
       "    <tr>\n",
       "      <th>3</th>\n",
       "      <td>20</td>\n",
       "      <td>0</td>\n",
       "      <td>12</td>\n",
       "      <td>3359972</td>\n",
       "      <td>-0.010885</td>\n",
       "      <td>4.100756</td>\n",
       "    </tr>\n",
       "    <tr>\n",
       "      <th>4</th>\n",
       "      <td>21</td>\n",
       "      <td>1</td>\n",
       "      <td>0</td>\n",
       "      <td>3123855</td>\n",
       "      <td>0.027211</td>\n",
       "      <td>5.994668</td>\n",
       "    </tr>\n",
       "  </tbody>\n",
       "</table>\n",
       "</div>"
      ],
      "text/plain": [
       "   molecule index  operation index  atom index  paired molecule index  \\\n",
       "0               3                0          13                2213220   \n",
       "1               7                1           1                2213226   \n",
       "2              10                0           7                  34507   \n",
       "3              20                0          12                3359972   \n",
       "4              21                1           0                3123855   \n",
       "\n",
       "   explanation value  HOMO-LUMO gap [eV]  \n",
       "0          -0.201364            4.492600  \n",
       "1          -0.400007            4.242255  \n",
       "2           0.285720            4.174226  \n",
       "3          -0.010885            4.100756  \n",
       "4           0.027211            5.994668  "
      ]
     },
     "execution_count": 55,
     "metadata": {},
     "output_type": "execute_result"
    }
   ],
   "source": [
    "atom_df.head()"
   ]
  },
  {
   "cell_type": "code",
   "execution_count": null,
   "id": "ca004cc5",
   "metadata": {},
   "outputs": [],
   "source": [
    "#sns.kdeplot(data=atom_df, x=\"explanation value\",y=\"HOMO-LUMO gap [eV]\")\n",
    "# too long"
   ]
  },
  {
   "cell_type": "code",
   "execution_count": null,
   "id": "bcdf114f",
   "metadata": {},
   "outputs": [],
   "source": []
  },
  {
   "cell_type": "markdown",
   "id": "8833d43a",
   "metadata": {},
   "source": [
    "# Getting the indexes for testing"
   ]
  },
  {
   "cell_type": "code",
   "execution_count": 33,
   "id": "f1c93c94",
   "metadata": {},
   "outputs": [
    {
     "ename": "NameError",
     "evalue": "name 'Chem' is not defined",
     "output_type": "error",
     "traceback": [
      "\u001b[0;31m---------------------------------------------------------------------------\u001b[0m",
      "\u001b[0;31mNameError\u001b[0m                                 Traceback (most recent call last)",
      "Cell \u001b[0;32mIn[33], line 1\u001b[0m\n\u001b[0;32m----> 1\u001b[0m suppl \u001b[38;5;241m=\u001b[39m \u001b[43mChem\u001b[49m\u001b[38;5;241m.\u001b[39mSDMolSupplier(\u001b[38;5;124m'\u001b[39m\u001b[38;5;124mpcqm4m-v2-train.sdf\u001b[39m\u001b[38;5;124m'\u001b[39m)\n\u001b[1;32m      2\u001b[0m \u001b[38;5;28;01mfor\u001b[39;00m idx, mol \u001b[38;5;129;01min\u001b[39;00m \u001b[38;5;28menumerate\u001b[39m(suppl):\n\u001b[1;32m      3\u001b[0m     \u001b[38;5;28mprint\u001b[39m(\u001b[38;5;124mf\u001b[39m\u001b[38;5;124m'\u001b[39m\u001b[38;5;132;01m{\u001b[39;00midx\u001b[38;5;132;01m}\u001b[39;00m\u001b[38;5;124m-th rdkit mol obj: \u001b[39m\u001b[38;5;132;01m{\u001b[39;00mmol\u001b[38;5;132;01m}\u001b[39;00m\u001b[38;5;124m'\u001b[39m)\n",
      "\u001b[0;31mNameError\u001b[0m: name 'Chem' is not defined"
     ]
    }
   ],
   "source": [
    "suppl = Chem.SDMolSupplier('pcqm4m-v2-train.sdf')\n",
    "for idx, mol in enumerate(suppl):\n",
    "    print(f'{idx}-th rdkit mol obj: {mol}')"
   ]
  },
  {
   "cell_type": "code",
   "execution_count": null,
   "id": "aed36780",
   "metadata": {},
   "outputs": [],
   "source": []
  }
 ],
 "metadata": {
  "kernelspec": {
   "display_name": "Python 3 (ipykernel)",
   "language": "python",
   "name": "python3"
  },
  "language_info": {
   "codemirror_mode": {
    "name": "ipython",
    "version": 3
   },
   "file_extension": ".py",
   "mimetype": "text/x-python",
   "name": "python",
   "nbconvert_exporter": "python",
   "pygments_lexer": "ipython3",
   "version": "3.9.7"
  }
 },
 "nbformat": 4,
 "nbformat_minor": 5
}
