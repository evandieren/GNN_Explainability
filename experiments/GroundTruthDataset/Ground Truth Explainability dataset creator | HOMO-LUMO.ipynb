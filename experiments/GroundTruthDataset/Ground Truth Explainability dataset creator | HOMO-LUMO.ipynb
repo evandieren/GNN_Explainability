{
 "cells": [
  {
   "cell_type": "code",
   "execution_count": null,
   "id": "56ebf436",
   "metadata": {},
   "outputs": [],
   "source": [
    "from tqdm import tqdm\n",
    "import os\n",
    "import numpy as np\n",
    "import pandas as pd\n",
    "from ogb.lsc import PCQM4Mv2Dataset,PygPCQM4Mv2Dataset\n",
    "import ogb\n",
    "import rdkit\n",
    "from rdkit import Chem\n",
    "from rdkit.Chem import AllChem\n",
    "import matplotlib.pyplot as plt\n",
    "from torch_geometric.utils.smiles import to_smiles, from_smiles"
   ]
  },
  {
   "cell_type": "code",
   "execution_count": null,
   "id": "36746d9f",
   "metadata": {},
   "outputs": [],
   "source": [
    "print(rdkit.__version__) #2021.03.5\n",
    "print(ogb.__version__) #1.3.3"
   ]
  },
  {
   "cell_type": "code",
   "execution_count": null,
   "id": "abdae9be",
   "metadata": {},
   "outputs": [],
   "source": [
    "suppl = Chem.SDMolSupplier('../../data/pcqm4m-v2-train.sdf')\n",
    "dataset = PCQM4Mv2Dataset(root = '../../data', only_smiles = True)\n",
    "data_pyg = PygPCQM4Mv2Dataset(root='../../data')"
   ]
  },
  {
   "cell_type": "code",
   "execution_count": null,
   "id": "22ea0f8a",
   "metadata": {},
   "outputs": [],
   "source": [
    "type(suppl[0])"
   ]
  },
  {
   "cell_type": "code",
   "execution_count": null,
   "id": "f7e311e7",
   "metadata": {
    "scrolled": true
   },
   "outputs": [],
   "source": [
    "print(dataset[0])\n",
    "mol = suppl[0]\n",
    "mol=Chem.RemoveHs(mol) # removes hydrogen from molecule\n",
    "Chem.Kekulize(mol, clearAromaticFlags=True)\n",
    "smile = Chem.MolToSmiles(mol,isomericSmiles=False, kekuleSmiles=True, canonical=True)\n",
    "print(smile) # same?"
   ]
  },
  {
   "cell_type": "code",
   "execution_count": null,
   "id": "1286f820",
   "metadata": {},
   "outputs": [],
   "source": [
    "print(to_smiles(from_smiles(smile,False,True)))\n",
    "\n",
    "#to_smiles(data_pyg[0])\n",
    "print(from_smiles(smile,False,True))\n",
    "print(data_pyg[0].edge_index)"
   ]
  },
  {
   "cell_type": "code",
   "execution_count": null,
   "id": "7ceaf101",
   "metadata": {},
   "outputs": [],
   "source": [
    "for bondi, bond in enumerate(mol.GetBonds()):\n",
    "    print(bond.GetIdx())\n",
    "    print([bondi, bond.GetBeginAtomIdx(), bond.GetEndAtomIdx()])\n",
    "# 9 = 1\n",
    "# 2 = 0"
   ]
  },
  {
   "cell_type": "code",
   "execution_count": null,
   "id": "585104be",
   "metadata": {},
   "outputs": [],
   "source": [
    "# Value of the chemical property for each molecule of the dataset\n",
    "prop_values=[]\n",
    "for dat in dataset:\n",
    "    prop_values.append(dat[1])\n",
    "prop_values_arr=np.array(prop_values)\n",
    "prop_values_arrt"
   ]
  },
  {
   "cell_type": "code",
   "execution_count": null,
   "id": "a86bfec3",
   "metadata": {},
   "outputs": [],
   "source": [
    "plt.hist(prop_values_arr)"
   ]
  },
  {
   "cell_type": "code",
   "execution_count": null,
   "id": "0cb26cb0",
   "metadata": {
    "scrolled": false
   },
   "outputs": [],
   "source": [
    "# We get all the smiles from the dataset, and those who do not get \"smiled\" are in the \"fail\" list\n",
    "atomlist=[]\n",
    "smilesall=[] # Simplified Molecular Input Line Entry Specification \n",
    "moliall=[]\n",
    "fail=[]\n",
    "isomericSmiles=False # chirality not considered\n",
    "kekuleSmiles=True\n",
    "for moli, mol in enumerate(tqdm(suppl)):   \n",
    "    mol=suppl[moli]\n",
    "    mol=Chem.RemoveHs(mol) # removes hydrogen from molecule\n",
    "    Chem.Kekulize(mol, clearAromaticFlags=True)\n",
    "    try: # trying to transform molecule to SMILE (easier for computer usage format)\n",
    "        smile = Chem.MolToSmiles(mol,isomericSmiles=isomericSmiles, kekuleSmiles=kekuleSmiles, canonical=True)\n",
    "        smilesall.append(smile)\n",
    "        moliall.append(moli)\n",
    "    except:\n",
    "        fail.append(moli)\n",
    "    for atom in mol.GetAtoms():\n",
    "        atomidx=atom.GetAtomicNum() # nombre de protons dans l'atome\n",
    "        if atomidx not in atomlist:\n",
    "            atomlist.append(atomidx)\n",
    "smilesall2=np.array(smilesall)\n",
    "print(smilesall2)"
   ]
  },
  {
   "cell_type": "code",
   "execution_count": null,
   "id": "4baaebee",
   "metadata": {},
   "outputs": [],
   "source": [
    "# Refactoring in dictionnary\n",
    "smilesdict={}\n",
    "for sidx, s in enumerate(smilesall):\n",
    "    smilesdict[s]=sidx"
   ]
  },
  {
   "cell_type": "code",
   "execution_count": null,
   "id": "cb7998f5",
   "metadata": {},
   "outputs": [],
   "source": [
    "# equivalent to decision tree in the paper\n",
    "results_all=[]\n",
    "verbose=False\n",
    "generatedsmilelist=[]\n",
    "singlebond = list(Chem.MolFromSmiles(\"CC\").GetBonds())[0]\n",
    "for molidx in range(len(suppl)):\n",
    "    if molidx%10000==0:\n",
    "        print(molidx, end=', ')\n",
    "    mol=suppl[molidx]\n",
    "    Chem.Kekulize(mol, clearAromaticFlags=True)\n",
    "    if mol:\n",
    "        results_arr=[]\n",
    "        canrm=[]\n",
    "        hetero=[]\n",
    "        for atomi, atom in enumerate(mol.GetAtoms()):\n",
    "            numnb=len(atom.GetNeighbors())\n",
    "            if numnb==1 and atom.GetAtomicNum()==6:\n",
    "                canrm.append(atomi)\n",
    "            if atom.GetAtomicNum()!=6:\n",
    "                hetero.append(atomi)\n",
    "          #print(atomi, numnb)\n",
    "        nonsingle=[]\n",
    "        inring=[]\n",
    "        for bondi, bond in enumerate(mol.GetBonds()):\n",
    "            bondtyp=bond.GetBondType()\n",
    "            if bondtyp!=Chem.BondType.SINGLE:\n",
    "                nonsingle.append(bondi)\n",
    "            if bond.IsInRing() and bondtyp==Chem.BondType.SINGLE:\n",
    "                inring.append([bondi, bond.GetBeginAtomIdx(), bond.GetEndAtomIdx()])\n",
    "        # remove atom if carbon end atom\n",
    "        for rmidx in canrm:\n",
    "            molcopy= Chem.RWMol(mol)\n",
    "            molcopy.RemoveAtom(rmidx)\n",
    "            generatedsmile=Chem.MolToSmiles(molcopy,isomericSmiles=isomericSmiles, kekuleSmiles=kekuleSmiles)\n",
    "            if generatedsmile in smilesdict:\n",
    "                match=smilesdict[generatedsmile]\n",
    "                if verbose:\n",
    "                    print(molidx,'r', rmidx, ':', match)\n",
    "                results_arr.append([molidx, 'r', rmidx, match])\n",
    "        # change atom to C if heteroatom\n",
    "        for cidx in hetero:\n",
    "            molcopy= Chem.RWMol(mol)\n",
    "            (molcopy.GetAtoms()[cidx]).SetAtomicNum(6)\n",
    "            try:\n",
    "                generatedsmile=Chem.MolToSmiles(molcopy,isomericSmiles=isomericSmiles, kekuleSmiles=kekuleSmiles)\n",
    "                if generatedsmile in smilesdict:\n",
    "                    match=smilesdict[generatedsmile]\n",
    "                    if verbose:\n",
    "                        print(molidx,'c', cidx, ':', match)\n",
    "                    results_arr.append([molidx,'c', cidx, match])\n",
    "            except:\n",
    "                match=0\n",
    "        # saturate bond\n",
    "        for bidx in nonsingle:\n",
    "            molcopy= Chem.RWMol(mol)\n",
    "            molcopy.ReplaceBond(bidx, singlebond, preserveProps=False)\n",
    "            try:\n",
    "                generatedsmile=Chem.MolToSmiles(molcopy,isomericSmiles=isomericSmiles, kekuleSmiles=kekuleSmiles)\n",
    "                if generatedsmile in smilesdict:\n",
    "                    match=smilesdict[generatedsmile]\n",
    "                    if verbose:\n",
    "                        print(molidx,'b', bidx, ':', match)\n",
    "                    results_arr.append([molidx,'b', bidx, match])\n",
    "            except:\n",
    "                match=0\n",
    "        # break ring bond if saturated\n",
    "        for didx in inring:\n",
    "            molcopy= Chem.RWMol(mol)\n",
    "            molcopy.RemoveBond(didx[1],didx[2])\n",
    "            try:\n",
    "                generatedsmile=Chem.MolToSmiles(molcopy,isomericSmiles=isomericSmiles, kekuleSmiles=kekuleSmiles)\n",
    "                if generatedsmile in smilesdict:\n",
    "                    match=smilesdict[generatedsmile]\n",
    "                    if verbose:\n",
    "                        print(molidx,'d', didx[0], ':', match)\n",
    "                    results_arr.append([molidx,'d', didx[0], match])\n",
    "            except:\n",
    "                match=0\n",
    "        if results_arr!=[]:\n",
    "            results_all.append(np.array(results_arr))\n",
    "            \n",
    "            \n",
    "results_all2=np.vstack(results_all)"
   ]
  },
  {
   "cell_type": "code",
   "execution_count": null,
   "id": "ed269b36",
   "metadata": {},
   "outputs": [],
   "source": [
    "# split atomwise, bondwise\n",
    "idx_first=results_all2[:,0].astype('int')\n",
    "operatoridx=results_all2[:,1]\n",
    "operatoridx[operatoridx=='c']=0\n",
    "operatoridx[operatoridx=='r']=1\n",
    "operatoridx[operatoridx=='b']=2\n",
    "operatoridx[operatoridx=='d']=3\n",
    "operatoridx=operatoridx.astype('int')\n",
    "atombondidx=results_all2[:,2].astype('int')\n",
    "idx_second=results_all2[:,3].astype('int')\n",
    "atomwise_idx=np.argwhere(operatoridx<2)[:,0]\n",
    "bondwise_idx=np.argwhere(operatoridx>=2)[:,0]"
   ]
  },
  {
   "cell_type": "code",
   "execution_count": null,
   "id": "c284282d",
   "metadata": {},
   "outputs": [],
   "source": [
    "# get explanation values for pairs\n",
    "explain_val=prop_values_arr[idx_first]-prop_values_arr[idx_second]\n",
    "results_modif=np.vstack((idx_first, operatoridx,atombondidx,idx_second,explain_val)).T"
   ]
  },
  {
   "cell_type": "code",
   "execution_count": null,
   "id": "493e57c4",
   "metadata": {},
   "outputs": [],
   "source": [
    "# Atomwise\n",
    "df = pd.DataFrame(results_modif[atomwise_idx,:])\n",
    "list_columns=['molecule index', 'operation index', 'atom index', 'paired molecule index', 'explanation value']\n",
    "\n",
    "df.columns =list_columns\n",
    "for key in list_columns[:-1]:\n",
    "    print(key)\n",
    "    tmp=df[key].values.astype(int)\n",
    "    df[key] = tmp\n",
    "\n",
    "key=list_columns[-1]\n",
    "tmp=df[key].values\n",
    "df[key] = np.round(tmp, 10)"
   ]
  },
  {
   "cell_type": "code",
   "execution_count": null,
   "id": "2537d0f1",
   "metadata": {},
   "outputs": [],
   "source": [
    "# Bondwise\n",
    "df2 = pd.DataFrame(results_modif[bondwise_idx,:])\n",
    "list_columns=['molecule index', 'operation index', 'bond index', 'paired molecule index', 'explanation value']\n",
    "\n",
    "df2.columns =list_columns\n",
    "for key in list_columns[:-1]:\n",
    "    print(key)\n",
    "    tmp=df2[key].values.astype(int)\n",
    "    df2[key] = tmp\n",
    "\n",
    "key=list_columns[-1]\n",
    "tmp=df2[key].values\n",
    "df2[key] = np.round(tmp, 10)"
   ]
  },
  {
   "cell_type": "code",
   "execution_count": null,
   "id": "1733729f",
   "metadata": {},
   "outputs": [],
   "source": []
  }
 ],
 "metadata": {
  "kernelspec": {
   "display_name": "Python 3 (ipykernel)",
   "language": "python",
   "name": "python3"
  },
  "language_info": {
   "codemirror_mode": {
    "name": "ipython",
    "version": 3
   },
   "file_extension": ".py",
   "mimetype": "text/x-python",
   "name": "python",
   "nbconvert_exporter": "python",
   "pygments_lexer": "ipython3",
   "version": "3.11.5"
  }
 },
 "nbformat": 4,
 "nbformat_minor": 5
}
