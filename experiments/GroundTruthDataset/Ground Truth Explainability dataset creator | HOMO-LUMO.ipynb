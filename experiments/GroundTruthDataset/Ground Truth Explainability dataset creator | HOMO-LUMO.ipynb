{
 "cells": [
  {
   "cell_type": "code",
   "execution_count": 1,
   "id": "56ebf436",
   "metadata": {},
   "outputs": [
    {
     "name": "stderr",
     "output_type": "stream",
     "text": [
      "WARNING:root:The OGB package is out of date. Your version is 1.3.5, while the latest version is 1.3.6.\n"
     ]
    }
   ],
   "source": [
    "from tqdm import tqdm\n",
    "import os\n",
    "import numpy as np\n",
    "import pandas as pd\n",
    "from ogb.lsc import PCQM4Mv2Dataset,PygPCQM4Mv2Dataset\n",
    "import ogb\n",
    "import rdkit\n",
    "from rdkit import Chem\n",
    "from rdkit.Chem import AllChem\n",
    "import matplotlib.pyplot as plt\n",
    "from torch_geometric.utils.smiles import to_smiles, from_smiles"
   ]
  },
  {
   "cell_type": "code",
   "execution_count": 2,
   "id": "36746d9f",
   "metadata": {},
   "outputs": [
    {
     "name": "stdout",
     "output_type": "stream",
     "text": [
      "2022.09.5\n",
      "1.3.5\n"
     ]
    }
   ],
   "source": [
    "print(rdkit.__version__) #2021.03.5\n",
    "print(ogb.__version__) #1.3.3"
   ]
  },
  {
   "cell_type": "code",
   "execution_count": 3,
   "id": "abdae9be",
   "metadata": {},
   "outputs": [],
   "source": [
    "suppl = Chem.SDMolSupplier('../../data/pcqm4m-v2-train.sdf')\n",
    "dataset = PCQM4Mv2Dataset(root = '../../data', only_smiles = True)\n",
    "data_pyg = PygPCQM4Mv2Dataset(root='../../data')"
   ]
  },
  {
   "cell_type": "code",
   "execution_count": 4,
   "id": "22ea0f8a",
   "metadata": {},
   "outputs": [
    {
     "data": {
      "text/plain": [
       "rdkit.Chem.rdchem.Mol"
      ]
     },
     "execution_count": 4,
     "metadata": {},
     "output_type": "execute_result"
    }
   ],
   "source": [
    "type(suppl[0])"
   ]
  },
  {
   "cell_type": "code",
   "execution_count": 5,
   "id": "f7e311e7",
   "metadata": {
    "scrolled": true
   },
   "outputs": [
    {
     "name": "stdout",
     "output_type": "stream",
     "text": [
      "('O=C1[N]c2ccncc2[CH][C@@H]1c1ccc(cc1)C', 3.0476751256)\n",
      "CC1=CC=C(C2[CH]C3=CN=CC=C3[N]C2=O)C=C1\n"
     ]
    }
   ],
   "source": [
    "print(dataset[0])\n",
    "mol = suppl[0]\n",
    "mol=Chem.RemoveHs(mol) # removes hydrogen from molecule\n",
    "Chem.Kekulize(mol, clearAromaticFlags=True)\n",
    "smile = Chem.MolToSmiles(mol,isomericSmiles=False, kekuleSmiles=True, canonical=True)\n",
    "print(smile) # same?"
   ]
  },
  {
   "cell_type": "code",
   "execution_count": 6,
   "id": "1286f820",
   "metadata": {},
   "outputs": [
    {
     "name": "stdout",
     "output_type": "stream",
     "text": [
      "Cc1ccc(C2[CH]c3cnccc3[N]C2=O)cc1\n",
      "Data(x=[18, 9], edge_index=[2, 40], edge_attr=[40, 3], smiles='CC1=CC=C(C2[CH]C3=CN=CC=C3[N]C2=O)C=C1')\n",
      "tensor([[ 0,  1,  1,  2,  2,  3,  3,  4,  4,  5,  5,  6,  6,  7,  7,  8,  8,  9,\n",
      "          9, 10, 10, 11, 11, 12, 12, 13, 13, 14, 14, 15, 15, 16, 14, 17, 10,  1,\n",
      "         16, 11,  8,  3],\n",
      "        [ 1,  0,  2,  1,  3,  2,  4,  3,  5,  4,  6,  5,  7,  6,  8,  7,  9,  8,\n",
      "         10,  9, 11, 10, 12, 11, 13, 12, 14, 13, 15, 14, 16, 15, 17, 14,  1, 10,\n",
      "         11, 16,  3,  8]])\n"
     ]
    }
   ],
   "source": [
    "print(to_smiles(from_smiles(smile,False,True)))\n",
    "\n",
    "#to_smiles(data_pyg[0])\n",
    "print(from_smiles(smile,False,True))\n",
    "print(data_pyg[0].edge_index)"
   ]
  },
  {
   "cell_type": "code",
   "execution_count": 8,
   "id": "7ceaf101",
   "metadata": {},
   "outputs": [
    {
     "name": "stdout",
     "output_type": "stream",
     "text": [
      "0\n",
      "[0, 2, 9]\n",
      "1\n",
      "[1, 3, 1]\n",
      "2\n",
      "[2, 4, 10]\n",
      "3\n",
      "[3, 4, 2]\n",
      "4\n",
      "[4, 5, 13]\n",
      "5\n",
      "[5, 6, 5]\n",
      "6\n",
      "[6, 7, 12]\n",
      "7\n",
      "[7, 8, 11]\n",
      "8\n",
      "[8, 9, 1]\n",
      "9\n",
      "[9, 9, 0]\n",
      "10\n",
      "[10, 10, 3]\n",
      "11\n",
      "[11, 11, 13]\n",
      "12\n",
      "[12, 11, 7]\n",
      "13\n",
      "[13, 12, 14]\n",
      "14\n",
      "[14, 12, 10]\n",
      "15\n",
      "[15, 13, 16]\n",
      "16\n",
      "[16, 14, 17]\n",
      "17\n",
      "[17, 15, 6]\n",
      "18\n",
      "[18, 15, 8]\n",
      "19\n",
      "[19, 16, 14]\n"
     ]
    }
   ],
   "source": [
    "for bondi, bond in enumerate(mol.GetBonds()):\n",
    "    print(bond.GetIdx())\n",
    "    print([bondi, bond.GetBeginAtomIdx(), bond.GetEndAtomIdx()])\n",
    "# 9 = 1\n",
    "# 2 = 0"
   ]
  },
  {
   "cell_type": "code",
   "execution_count": 7,
   "id": "585104be",
   "metadata": {},
   "outputs": [
    {
     "data": {
      "text/plain": [
       "array([3.04767513, 4.41096552, 4.63954115, ...,        nan,        nan,\n",
       "              nan])"
      ]
     },
     "execution_count": 7,
     "metadata": {},
     "output_type": "execute_result"
    }
   ],
   "source": [
    "# Value of the chemical property for each molecule of the dataset\n",
    "prop_values=[]\n",
    "for dat in dataset:\n",
    "    prop_values.append(dat[1])\n",
    "prop_values_arr=np.array(prop_values)\n",
    "prop_values_arrt"
   ]
  },
  {
   "cell_type": "code",
   "execution_count": 10,
   "id": "a86bfec3",
   "metadata": {},
   "outputs": [
    {
     "data": {
      "text/plain": [
       "(array([1.020763e+06, 2.425543e+06, 5.839000e+03, 3.000000e+00,\n",
       "        1.000000e+00, 0.000000e+00, 0.000000e+00, 0.000000e+00,\n",
       "        0.000000e+00, 2.000000e+00]),\n",
       " array([ 0.37551711,  5.04036485,  9.70521259, 14.37006033, 19.03490807,\n",
       "        23.69975581, 28.36460355, 33.02945129, 37.69429903, 42.35914677,\n",
       "        47.0239945 ]),\n",
       " <BarContainer object of 10 artists>)"
      ]
     },
     "execution_count": 10,
     "metadata": {},
     "output_type": "execute_result"
    },
    {
     "data": {
      "image/png": "[encoded data removed]",
      "text/plain": [
       "<Figure size 640x480 with 1 Axes>"
      ]
     },
     "metadata": {},
     "output_type": "display_data"
    }
   ],
   "source": [
    "plt.hist(prop_values_arr)"
   ]
  },
  {
   "cell_type": "code",
   "execution_count": 7,
   "id": "0cb26cb0",
   "metadata": {
    "scrolled": false
   },
   "outputs": [
    {
     "name": "stderr",
     "output_type": "stream",
     "text": [
      "  4%|█▎                             | 148425/3378606 [04:02<1:23:07, 647.60it/s][15:30:27] Warning: molecule is tagged as 3D, but all Z coords are zero\n",
      "[15:30:27] Warning: molecule is tagged as 3D, but all Z coords are zero\n",
      " 49%|███████████████▋                | 1652183/3378606 [45:44<44:37, 644.80it/s][16:12:09] WARNING: not removing hydrogen atom without neighbors\n",
      "[16:12:09] WARNING: not removing hydrogen atom without neighbors\n",
      "[16:12:09] WARNING: not removing hydrogen atom without neighbors\n",
      "[16:12:09] WARNING: not removing hydrogen atom without neighbors\n",
      "[16:12:09] WARNING: not removing hydrogen atom without neighbors\n",
      "[16:12:09] WARNING: not removing hydrogen atom without neighbors\n",
      "[16:12:09] WARNING: not removing hydrogen atom without neighbors\n",
      "[16:12:09] WARNING: not removing hydrogen atom without neighbors\n",
      "[16:12:09] WARNING: not removing hydrogen atom without neighbors\n",
      " 50%|████████████████▏               | 1704898/3378606 [47:07<44:22, 628.67it/s][16:13:32] WARNING: not removing hydrogen atom with neighbor that has non-tetrahedral stereochemistry\n",
      "[16:13:32] WARNING: not removing hydrogen atom with neighbor that has non-tetrahedral stereochemistry\n",
      "[16:13:32] WARNING: not removing hydrogen atom with neighbor that has non-tetrahedral stereochemistry\n",
      "[16:13:32] WARNING: not removing hydrogen atom with neighbor that has non-tetrahedral stereochemistry\n",
      "[16:13:32] WARNING: not removing hydrogen atom with neighbor that has non-tetrahedral stereochemistry\n",
      "[16:13:32] WARNING: not removing hydrogen atom with neighbor that has non-tetrahedral stereochemistry\n",
      "[16:13:32] WARNING: not removing hydrogen atom with neighbor that has non-tetrahedral stereochemistry\n",
      "[16:13:32] WARNING: not removing hydrogen atom with neighbor that has non-tetrahedral stereochemistry\n",
      "[16:13:32] WARNING: not removing hydrogen atom with neighbor that has non-tetrahedral stereochemistry\n",
      "[16:13:32] WARNING: not removing hydrogen atom with neighbor that has non-tetrahedral stereochemistry\n",
      "[16:13:32] WARNING: not removing hydrogen atom with neighbor that has non-tetrahedral stereochemistry\n",
      "[16:13:32] WARNING: not removing hydrogen atom with neighbor that has non-tetrahedral stereochemistry\n",
      "[16:13:32] WARNING: not removing hydrogen atom with neighbor that has non-tetrahedral stereochemistry\n",
      "[16:13:32] WARNING: not removing hydrogen atom with neighbor that has non-tetrahedral stereochemistry\n",
      "[16:13:32] WARNING: not removing hydrogen atom with neighbor that has non-tetrahedral stereochemistry\n",
      "[16:13:32] WARNING: not removing hydrogen atom with neighbor that has non-tetrahedral stereochemistry\n",
      "[16:13:32] WARNING: not removing hydrogen atom with neighbor that has non-tetrahedral stereochemistry\n",
      "[16:13:32] WARNING: not removing hydrogen atom with neighbor that has non-tetrahedral stereochemistry\n",
      " 51%|████████████████▍               | 1729133/3378606 [47:45<42:49, 641.91it/s][16:14:10] WARNING: not removing hydrogen atom with neighbor that has non-tetrahedral stereochemistry\n",
      "[16:14:10] WARNING: not removing hydrogen atom with neighbor that has non-tetrahedral stereochemistry\n",
      "[16:14:10] WARNING: not removing hydrogen atom with neighbor that has non-tetrahedral stereochemistry\n",
      "[16:14:10] WARNING: not removing hydrogen atom with neighbor that has non-tetrahedral stereochemistry\n",
      "[16:14:10] WARNING: not removing hydrogen atom with neighbor that has non-tetrahedral stereochemistry\n",
      "[16:14:10] WARNING: not removing hydrogen atom with neighbor that has non-tetrahedral stereochemistry\n",
      "[16:14:10] WARNING: not removing hydrogen atom with neighbor that has non-tetrahedral stereochemistry\n",
      "[16:14:10] WARNING: not removing hydrogen atom with neighbor that has non-tetrahedral stereochemistry\n",
      "[16:14:10] WARNING: not removing hydrogen atom with neighbor that has non-tetrahedral stereochemistry\n",
      " 52%|████████████████▋               | 1761810/3378606 [48:35<43:14, 623.25it/s][16:15:01] WARNING: not removing hydrogen atom without neighbors\n",
      "[16:15:01] WARNING: not removing hydrogen atom without neighbors\n",
      "[16:15:01] WARNING: not removing hydrogen atom without neighbors\n",
      "[16:15:01] WARNING: not removing hydrogen atom without neighbors\n",
      "[16:15:01] WARNING: not removing hydrogen atom without neighbors\n",
      "[16:15:01] WARNING: not removing hydrogen atom without neighbors\n",
      " 52%|████████████████▊               | 1771707/3378606 [48:51<42:17, 633.38it/s][16:15:16] WARNING: not removing hydrogen atom with neighbor that has non-tetrahedral stereochemistry\n",
      "[16:15:16] WARNING: not removing hydrogen atom with neighbor that has non-tetrahedral stereochemistry\n",
      "[16:15:16] WARNING: not removing hydrogen atom with neighbor that has non-tetrahedral stereochemistry\n",
      " 53%|████████████████▊               | 1774366/3378606 [48:55<42:06, 634.96it/s][16:15:20] WARNING: not removing hydrogen atom with neighbor that has non-tetrahedral stereochemistry\n",
      "[16:15:20] WARNING: not removing hydrogen atom with neighbor that has non-tetrahedral stereochemistry\n",
      "[16:15:20] WARNING: not removing hydrogen atom with neighbor that has non-tetrahedral stereochemistry\n",
      "[16:15:20] WARNING: not removing hydrogen atom with neighbor that has non-tetrahedral stereochemistry\n",
      "[16:15:20] WARNING: not removing hydrogen atom with neighbor that has non-tetrahedral stereochemistry\n",
      "[16:15:20] WARNING: not removing hydrogen atom with neighbor that has non-tetrahedral stereochemistry\n",
      "[16:15:20] WARNING: not removing hydrogen atom with neighbor that has non-tetrahedral stereochemistry\n",
      "[16:15:20] WARNING: not removing hydrogen atom with neighbor that has non-tetrahedral stereochemistry\n",
      "[16:15:20] WARNING: not removing hydrogen atom with neighbor that has non-tetrahedral stereochemistry\n",
      " 55%|█████████████████▌              | 1858685/3378606 [51:11<38:15, 662.09it/s][16:17:36] WARNING: not removing hydrogen atom with neighbor that has non-tetrahedral stereochemistry\n",
      "[16:17:36] WARNING: not removing hydrogen atom with neighbor that has non-tetrahedral stereochemistry\n",
      "[16:17:36] WARNING: not removing hydrogen atom with neighbor that has non-tetrahedral stereochemistry\n",
      " 56%|█████████████████▉              | 1894209/3378606 [52:06<37:29, 659.82it/s][16:18:31] WARNING: not removing hydrogen atom without neighbors\n",
      "[16:18:31] WARNING: not removing hydrogen atom without neighbors\n",
      "[16:18:31] WARNING: not removing hydrogen atom without neighbors\n",
      "[16:18:31] WARNING: not removing hydrogen atom without neighbors\n",
      "[16:18:31] WARNING: not removing hydrogen atom without neighbors\n",
      "[16:18:31] WARNING: not removing hydrogen atom without neighbors\n",
      "[16:18:31] WARNING: not removing hydrogen atom without neighbors\n",
      "[16:18:31] WARNING: not removing hydrogen atom without neighbors\n",
      "[16:18:31] WARNING: not removing hydrogen atom without neighbors\n",
      " 57%|██████████████████▏             | 1921364/3378606 [52:47<36:58, 656.88it/s][16:19:12] Conflicting single bond directions around double bond at index 4.\n",
      "[16:19:12]   BondStereo set to STEREONONE and single bond directions set to NONE.\n",
      "[16:19:12] Conflicting single bond directions around double bond at index 4.\n",
      "[16:19:12]   BondStereo set to STEREONONE and single bond directions set to NONE.\n",
      " 58%|██████████████████▌             | 1960715/3378606 [53:48<34:03, 693.79it/s][16:20:13] Warning: molecule is tagged as 3D, but all Z coords are zero\n",
      "[16:20:13] Warning: molecule is tagged as 3D, but all Z coords are zero\n",
      " 65%|████████████████████▋           | 2186005/3378606 [59:45<32:55, 603.58it/s][16:26:10] WARNING: not removing hydrogen atom with neighbor that has non-tetrahedral stereochemistry\n",
      "[16:26:10] WARNING: not removing hydrogen atom with neighbor that has non-tetrahedral stereochemistry\n",
      "[16:26:10] WARNING: not removing hydrogen atom with neighbor that has non-tetrahedral stereochemistry\n",
      " 65%|████████████████████▋           | 2187874/3378606 [59:48<30:58, 640.75it/s][16:26:13] WARNING: not removing hydrogen atom with neighbor that has non-tetrahedral stereochemistry\n",
      "[16:26:13] WARNING: not removing hydrogen atom with neighbor that has non-tetrahedral stereochemistry\n",
      "[16:26:13] WARNING: not removing hydrogen atom with neighbor that has non-tetrahedral stereochemistry\n",
      " 73%|█████████████████████▊        | 2463385/3378606 [1:07:14<24:57, 611.28it/s][16:33:39] WARNING: not removing hydrogen atom with neighbor that has non-tetrahedral stereochemistry\n",
      "[16:33:39] WARNING: not removing hydrogen atom with neighbor that has non-tetrahedral stereochemistry\n",
      "[16:33:39] WARNING: not removing hydrogen atom with neighbor that has non-tetrahedral stereochemistry\n"
     ]
    },
    {
     "name": "stderr",
     "output_type": "stream",
     "text": [
      " 75%|██████████████████████▋       | 2550533/3378606 [1:09:32<22:02, 626.12it/s][16:35:57] Warning: molecule is tagged as 3D, but all Z coords are zero\n",
      "[16:35:57] Warning: molecule is tagged as 3D, but all Z coords are zero\n",
      " 76%|██████████████████████▋       | 2555713/3378606 [1:09:40<22:07, 619.90it/s][16:36:05] WARNING: not removing hydrogen atom with neighbor that has non-tetrahedral stereochemistry\n",
      "[16:36:05] WARNING: not removing hydrogen atom with neighbor that has non-tetrahedral stereochemistry\n",
      "[16:36:05] WARNING: not removing hydrogen atom with neighbor that has non-tetrahedral stereochemistry\n",
      " 77%|███████████████████████       | 2597509/3378606 [1:10:46<20:19, 640.31it/s][16:37:11] Warning: molecule is tagged as 3D, but all Z coords are zero\n",
      "[16:37:11] Warning: molecule is tagged as 3D, but all Z coords are zero\n",
      " 82%|████████████████████████▋     | 2778645/3378606 [1:15:25<15:59, 625.21it/s][16:41:51] Warning: molecule is tagged as 3D, but all Z coords are zero\n",
      "[16:41:51] Warning: molecule is tagged as 3D, but all Z coords are zero\n",
      " 82%|████████████████████████▋     | 2786732/3378606 [1:15:38<15:14, 647.25it/s][16:42:03] Warning: molecule is tagged as 3D, but all Z coords are zero\n",
      "[16:42:03] Warning: molecule is tagged as 3D, but all Z coords are zero\n",
      " 84%|█████████████████████████     | 2821379/3378606 [1:16:31<14:36, 635.97it/s][16:42:57] Warning: molecule is tagged as 3D, but all Z coords are zero\n",
      "[16:42:57] Warning: molecule is tagged as 3D, but all Z coords are zero\n",
      " 85%|█████████████████████████▍    | 2861125/3378606 [1:17:33<13:02, 661.04it/s][16:43:58] Warning: molecule is tagged as 3D, but all Z coords are zero\n",
      "[16:43:58] Warning: molecule is tagged as 3D, but all Z coords are zero\n",
      " 85%|█████████████████████████▌    | 2880637/3378606 [1:18:04<12:30, 663.54it/s][16:44:30] WARNING: not removing hydrogen atom with neighbor that has non-tetrahedral stereochemistry\n",
      "[16:44:30] WARNING: not removing hydrogen atom with neighbor that has non-tetrahedral stereochemistry\n",
      "[16:44:30] WARNING: not removing hydrogen atom with neighbor that has non-tetrahedral stereochemistry\n",
      "[16:44:30] WARNING: not removing hydrogen atom with neighbor that has non-tetrahedral stereochemistry\n",
      "[16:44:30] WARNING: not removing hydrogen atom with neighbor that has non-tetrahedral stereochemistry\n",
      "[16:44:30] WARNING: not removing hydrogen atom with neighbor that has non-tetrahedral stereochemistry\n",
      " 85%|█████████████████████████▋    | 2888418/3378606 [1:18:16<12:19, 662.98it/s][16:44:41] Warning: molecule is tagged as 3D, but all Z coords are zero\n",
      "[16:44:41] Warning: molecule is tagged as 3D, but all Z coords are zero\n",
      " 87%|██████████████████████████    | 2934608/3378606 [1:19:26<10:56, 676.48it/s][16:45:51] Warning: molecule is tagged as 3D, but all Z coords are zero\n",
      "[16:45:51] Warning: molecule is tagged as 3D, but all Z coords are zero\n",
      " 88%|██████████████████████████▍   | 2980820/3378606 [1:20:37<09:11, 721.61it/s][16:47:02] Warning: molecule is tagged as 3D, but all Z coords are zero\n",
      "[16:47:02] Warning: molecule is tagged as 3D, but all Z coords are zero\n",
      " 89%|██████████████████████████▌   | 2991158/3378606 [1:20:53<09:41, 666.46it/s][16:47:18] Warning: molecule is tagged as 3D, but all Z coords are zero\n",
      "[16:47:18] Warning: molecule is tagged as 3D, but all Z coords are zero\n",
      "100%|██████████████████████████████| 3378606/3378606 [1:31:23<00:00, 616.17it/s]\n"
     ]
    }
   ],
   "source": [
    "# We get all the smiles from the dataset, and those who do not get \"smiled\" are in the \"fail\" list\n",
    "atomlist=[]\n",
    "smilesall=[] # Simplified Molecular Input Line Entry Specification \n",
    "moliall=[]\n",
    "fail=[]\n",
    "isomericSmiles=False # chirality not considered\n",
    "kekuleSmiles=True\n",
    "for moli, mol in enumerate(tqdm(suppl)):   \n",
    "    mol=suppl[moli]\n",
    "    mol=Chem.RemoveHs(mol) # removes hydrogen from molecule\n",
    "    Chem.Kekulize(mol, clearAromaticFlags=True)\n",
    "    try: # trying to transform molecule to SMILE (easier for computer usage format)\n",
    "        smile = Chem.MolToSmiles(mol,isomericSmiles=isomericSmiles, kekuleSmiles=kekuleSmiles, canonical=True)\n",
    "        smilesall.append(smile)\n",
    "        moliall.append(moli)\n",
    "    except:\n",
    "        fail.append(moli)\n",
    "    for atom in mol.GetAtoms():\n",
    "        atomidx=atom.GetAtomicNum() # nombre de protons dans l'atome\n",
    "        if atomidx not in atomlist:\n",
    "            atomlist.append(atomidx)\n",
    "smilesall2=np.array(smilesall)\n",
    "print(smilesall2)"
   ]
  },
  {
   "cell_type": "code",
   "execution_count": 8,
   "id": "4baaebee",
   "metadata": {},
   "outputs": [],
   "source": [
    "# Refactoring in dictionnary\n",
    "smilesdict={}\n",
    "for sidx, s in enumerate(smilesall):\n",
    "    smilesdict[s]=sidx"
   ]
  },
  {
   "cell_type": "code",
   "execution_count": 9,
   "id": "cb7998f5",
   "metadata": {},
   "outputs": [
    {
     "name": "stdout",
     "output_type": "stream",
     "text": [
      "0, "
     ]
    },
    {
     "ename": "KeyboardInterrupt",
     "evalue": "",
     "output_type": "error",
     "traceback": [
      "\u001b[0;31m---------------------------------------------------------------------------\u001b[0m",
      "\u001b[0;31mKeyboardInterrupt\u001b[0m                         Traceback (most recent call last)",
      "Cell \u001b[0;32mIn[9], line 14\u001b[0m\n\u001b[1;32m     12\u001b[0m canrm\u001b[38;5;241m=\u001b[39m[]\n\u001b[1;32m     13\u001b[0m hetero\u001b[38;5;241m=\u001b[39m[]\n\u001b[0;32m---> 14\u001b[0m \u001b[38;5;28;01mfor\u001b[39;00m atomi, atom \u001b[38;5;129;01min\u001b[39;00m \u001b[38;5;28menumerate\u001b[39m(mol\u001b[38;5;241m.\u001b[39mGetAtoms()):\n\u001b[1;32m     15\u001b[0m   numnb\u001b[38;5;241m=\u001b[39m\u001b[38;5;28mlen\u001b[39m(atom\u001b[38;5;241m.\u001b[39mGetNeighbors())\n\u001b[1;32m     16\u001b[0m   \u001b[38;5;28;01mif\u001b[39;00m numnb\u001b[38;5;241m==\u001b[39m\u001b[38;5;241m1\u001b[39m \u001b[38;5;129;01mand\u001b[39;00m atom\u001b[38;5;241m.\u001b[39mGetAtomicNum()\u001b[38;5;241m==\u001b[39m\u001b[38;5;241m6\u001b[39m:\n",
      "\u001b[0;31mKeyboardInterrupt\u001b[0m: "
     ]
    }
   ],
   "source": [
    "# equivalent to decision tree in the paper\n",
    "results_all=[]\n",
    "verbose=False\n",
    "generatedsmilelist=[]\n",
    "singlebond = list(Chem.MolFromSmiles(\"CC\").GetBonds())[0]\n",
    "for molidx in range(len(suppl)):\n",
    "    if molidx%10000==0:\n",
    "        print(molidx, end=', ')\n",
    "    mol=suppl[molidx]\n",
    "    Chem.Kekulize(mol, clearAromaticFlags=True)\n",
    "    if mol:\n",
    "        results_arr=[]\n",
    "        canrm=[]\n",
    "        hetero=[]\n",
    "        for atomi, atom in enumerate(mol.GetAtoms()):\n",
    "            numnb=len(atom.GetNeighbors())\n",
    "            if numnb==1 and atom.GetAtomicNum()==6:\n",
    "                canrm.append(atomi)\n",
    "            if atom.GetAtomicNum()!=6:\n",
    "                hetero.append(atomi)\n",
    "          #print(atomi, numnb)\n",
    "        nonsingle=[]\n",
    "        inring=[]\n",
    "        for bondi, bond in enumerate(mol.GetBonds()):\n",
    "            bondtyp=bond.GetBondType()\n",
    "            if bondtyp!=Chem.BondType.SINGLE:\n",
    "                nonsingle.append(bondi)\n",
    "            if bond.IsInRing() and bondtyp==Chem.BondType.SINGLE:\n",
    "                inring.append([bondi, bond.GetBeginAtomIdx(), bond.GetEndAtomIdx()])\n",
    "        # remove atom if carbon end atom\n",
    "        for rmidx in canrm:\n",
    "            molcopy= Chem.RWMol(mol)\n",
    "            molcopy.RemoveAtom(rmidx)\n",
    "            generatedsmile=Chem.MolToSmiles(molcopy,isomericSmiles=isomericSmiles, kekuleSmiles=kekuleSmiles)\n",
    "            if generatedsmile in smilesdict:\n",
    "                match=smilesdict[generatedsmile]\n",
    "                if verbose:\n",
    "                    print(molidx,'r', rmidx, ':', match)\n",
    "                results_arr.append([molidx, 'r', rmidx, match])\n",
    "        # change atom to C if heteroatom\n",
    "        for cidx in hetero:\n",
    "            molcopy= Chem.RWMol(mol)\n",
    "            (molcopy.GetAtoms()[cidx]).SetAtomicNum(6)\n",
    "            try:\n",
    "                generatedsmile=Chem.MolToSmiles(molcopy,isomericSmiles=isomericSmiles, kekuleSmiles=kekuleSmiles)\n",
    "                if generatedsmile in smilesdict:\n",
    "                    match=smilesdict[generatedsmile]\n",
    "                    if verbose:\n",
    "                        print(molidx,'c', cidx, ':', match)\n",
    "                    results_arr.append([molidx,'c', cidx, match])\n",
    "            except:\n",
    "                match=0\n",
    "        # saturate bond\n",
    "        for bidx in nonsingle:\n",
    "            molcopy= Chem.RWMol(mol)\n",
    "            molcopy.ReplaceBond(bidx, singlebond, preserveProps=False)\n",
    "            try:\n",
    "                generatedsmile=Chem.MolToSmiles(molcopy,isomericSmiles=isomericSmiles, kekuleSmiles=kekuleSmiles)\n",
    "                if generatedsmile in smilesdict:\n",
    "                    match=smilesdict[generatedsmile]\n",
    "                    if verbose:\n",
    "                        print(molidx,'b', bidx, ':', match)\n",
    "                    results_arr.append([molidx,'b', bidx, match])\n",
    "            except:\n",
    "                match=0\n",
    "        # break ring bond if saturated\n",
    "        for didx in inring:\n",
    "            molcopy= Chem.RWMol(mol)\n",
    "            molcopy.RemoveBond(didx[1],didx[2])\n",
    "            try:\n",
    "                generatedsmile=Chem.MolToSmiles(molcopy,isomericSmiles=isomericSmiles, kekuleSmiles=kekuleSmiles)\n",
    "                if generatedsmile in smilesdict:\n",
    "                    match=smilesdict[generatedsmile]\n",
    "                    if verbose:\n",
    "                        print(molidx,'d', didx[0], ':', match)\n",
    "                    results_arr.append([molidx,'d', didx[0], match])\n",
    "            except:\n",
    "                match=0\n",
    "        if results_arr!=[]:\n",
    "            results_all.append(np.array(results_arr))\n",
    "            \n",
    "            \n",
    "results_all2=np.vstack(results_all)"
   ]
  },
  {
   "cell_type": "code",
   "execution_count": null,
   "id": "ed269b36",
   "metadata": {},
   "outputs": [],
   "source": [
    "# split atomwise, bondwise\n",
    "idx_first=results_all2[:,0].astype('int')\n",
    "operatoridx=results_all2[:,1]\n",
    "operatoridx[operatoridx=='c']=0\n",
    "operatoridx[operatoridx=='r']=1\n",
    "operatoridx[operatoridx=='b']=2\n",
    "operatoridx[operatoridx=='d']=3\n",
    "operatoridx=operatoridx.astype('int')\n",
    "atombondidx=results_all2[:,2].astype('int')\n",
    "idx_second=results_all2[:,3].astype('int')\n",
    "atomwise_idx=np.argwhere(operatoridx<2)[:,0]\n",
    "bondwise_idx=np.argwhere(operatoridx>=2)[:,0]"
   ]
  },
  {
   "cell_type": "code",
   "execution_count": null,
   "id": "c284282d",
   "metadata": {},
   "outputs": [],
   "source": [
    "# get explanation values for pairs\n",
    "explain_val=prop_values_arr[idx_first]-prop_values_arr[idx_second]\n",
    "results_modif=np.vstack((idx_first, operatoridx,atombondidx,idx_second,explain_val)).T"
   ]
  },
  {
   "cell_type": "code",
   "execution_count": null,
   "id": "493e57c4",
   "metadata": {},
   "outputs": [],
   "source": [
    "# Atomwise\n",
    "df = pd.DataFrame(results_modif[atomwise_idx,:])\n",
    "list_columns=['molecule index', 'operation index', 'atom index', 'paired molecule index', 'explanation value']\n",
    "\n",
    "df.columns =list_columns\n",
    "for key in list_columns[:-1]:\n",
    "    print(key)\n",
    "    tmp=df[key].values.astype(int)\n",
    "    df[key] = tmp\n",
    "\n",
    "key=list_columns[-1]\n",
    "tmp=df[key].values\n",
    "df[key] = np.round(tmp, 10)"
   ]
  },
  {
   "cell_type": "code",
   "execution_count": null,
   "id": "2537d0f1",
   "metadata": {},
   "outputs": [],
   "source": [
    "# Bondwise\n",
    "df2 = pd.DataFrame(results_modif[bondwise_idx,:])\n",
    "list_columns=['molecule index', 'operation index', 'bond index', 'paired molecule index', 'explanation value']\n",
    "\n",
    "df2.columns =list_columns\n",
    "for key in list_columns[:-1]:\n",
    "    print(key)\n",
    "    tmp=df2[key].values.astype(int)\n",
    "    df2[key] = tmp\n",
    "\n",
    "key=list_columns[-1]\n",
    "tmp=df2[key].values\n",
    "df2[key] = np.round(tmp, 10)"
   ]
  },
  {
   "cell_type": "code",
   "execution_count": null,
   "id": "1733729f",
   "metadata": {},
   "outputs": [],
   "source": []
  }
 ],
 "metadata": {
  "kernelspec": {
   "display_name": "Python 3 (ipykernel)",
   "language": "python",
   "name": "python3"
  },
  "language_info": {
   "codemirror_mode": {
    "name": "ipython",
    "version": 3
   },
   "file_extension": ".py",
   "mimetype": "text/x-python",
   "name": "python",
   "nbconvert_exporter": "python",
   "pygments_lexer": "ipython3",
   "version": "3.9.7"
  }
 },
 "nbformat": 4,
 "nbformat_minor": 5
}
