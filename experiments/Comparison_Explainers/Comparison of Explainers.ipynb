{
 "cells": [
  {
   "cell_type": "markdown",
   "id": "f45558b2",
   "metadata": {},
   "source": [
    "# Comparison of Explainers : GNNExplainer, EdgeSHAPer, regSHAP"
   ]
  },
  {
   "cell_type": "code",
   "execution_count": 2,
   "id": "52b4cc94",
   "metadata": {},
   "outputs": [
    {
     "name": "stdout",
     "output_type": "stream",
     "text": [
      "The autoreload extension is already loaded. To reload it, use:\n",
      "  %reload_ext autoreload\n"
     ]
    }
   ],
   "source": [
    "# Imports\n",
    "%load_ext autoreload\n",
    "%autoreload 2\n",
    "\n",
    "import sys\n",
    "sys.path.insert(0, '../../EdgeSHAPer/src/')\n",
    "sys.path.insert(0,'../../models/pcqm4m-v2_ogb/')\n",
    "sys.path.insert(0,'../../utils/')\n",
    "sys.path.insert(0,'../../../AMLD-2021-Graphs/src/')\n",
    "\n",
    "import pandas as pd\n",
    "import numpy as np\n",
    "import matplotlib\n",
    "import matplotlib.pyplot as plt\n",
    "from ipywidgets import interact\n",
    "from tkinter import *\n",
    "matplotlib.use('TkAgg')\n",
    "\n",
    "# PyTorch related\n",
    "import torch\n",
    "import torch.nn.functional as F\n",
    "from torch_geometric.data.data import Data\n",
    "from torch_geometric.utils import to_undirected\n",
    "from torch_geometric.explain import Explainer,GNNExplainer,PGExplainer\n",
    "from torch_geometric.explain.metric import fidelity\n",
    "from gnn import GNN\n",
    "from visualization import * # AMDL-2021-Graphs\n",
    "from torch_geometric.utils import to_networkx\n",
    "import networkx as nx\n",
    "\n",
    "from utils import *\n",
    "\n",
    "from regSHAPer import regSHAP\n",
    "from edgeshaper import edgeshaper\n",
    "from scipy.special import binom\n",
    "from itertools import combinations\n",
    "\n",
    "# Dataset-related\n",
    "import ogb\n",
    "from ogb.lsc import PCQM4Mv2Dataset, PygPCQM4Mv2Dataset\n",
    "from ogb.utils import smiles2graph\n",
    "\n",
    "# Chemistry related\n",
    "import rdkit\n",
    "from rdkit import Chem\n",
    "from rdkit.Chem import AllChem"
   ]
  },
  {
   "cell_type": "code",
   "execution_count": 3,
   "id": "af3b7e1f",
   "metadata": {},
   "outputs": [],
   "source": [
    "# ================== #\n",
    "# Importing datasets #\n",
    "# ================== #\n",
    "path_data = \"../../data/\"\n",
    "dataset_smiles = PCQM4Mv2Dataset(root=path_data,only_smiles = True)\n",
    "dataset_PyG = PygPCQM4Mv2Dataset(root=path_data)\n",
    "suppl = Chem.SDMolSupplier(path_data+'pcqm4m-v2-train.sdf')\n",
    "n_train = 3378606 # Number of molecules in the train subset of pcqm4m-v2 dataset"
   ]
  },
  {
   "cell_type": "code",
   "execution_count": 4,
   "id": "7ba921d8",
   "metadata": {},
   "outputs": [
    {
     "name": "stdout",
     "output_type": "stream",
     "text": [
      "cpu\n",
      "75\n"
     ]
    }
   ],
   "source": [
    "# =================== #\n",
    "# Importing the model #\n",
    "# =================== #\n",
    "path_model = \"../../models/pcqm4m-v2_ogb/\"\n",
    "model_pt = torch.load(path_model+\"model_trained.pt\",map_location=torch.device('cpu'))\n",
    "\n",
    "shared_params = {\n",
    "        'num_layers': 5,\n",
    "        'emb_dim': 600,\n",
    "        'drop_ratio': 0,\n",
    "        'graph_pooling': 'sum'\n",
    "    }\n",
    "device = torch.device(\"cuda:\" + str(args.device)) if torch.cuda.is_available() else torch.device(\"cpu\")\n",
    "print(device)\n",
    "model = GNN(gnn_type = 'gcn', virtual_node = False, **shared_params).to('cpu')\n",
    "model.load_state_dict(model_pt['model_state_dict'])\n",
    "epoch = model_pt['epoch']\n",
    "print(epoch)"
   ]
  },
  {
   "cell_type": "code",
   "execution_count": 5,
   "id": "38538873",
   "metadata": {},
   "outputs": [
    {
     "name": "stdout",
     "output_type": "stream",
     "text": [
      "42929 molecules for GNNExplainer\n",
      "8100 molecules for EdgeSHAPer\n",
      "11775 molecules for regSHAPer\n"
     ]
    }
   ],
   "source": [
    "# ====================== #\n",
    "# Importing explanations #\n",
    "# ====================== #\n",
    "path_script = \"scripts/\"\n",
    "algo_files = {\"GNNExplainer\":\"gnnexplainer/model_5gr_gnnexpl_dict.pt\",\n",
    "            \"EdgeSHAPer\":\"EdgeSHAPer/5gr_edgeSHAPexpl_dict.pt\",\n",
    "            \"regSHAPer\":\"regSHAPer/diff_5gr_regSHAP_dict.pt\"}\n",
    "algorithms = list(algo_files.keys())\n",
    "\n",
    "algo_dicts = {}\n",
    "algo_mol_indices = {}\n",
    "for alg in algorithms:\n",
    "    algo_dicts[alg] = torch.load(path_script+algo_files[alg])\n",
    "    print(len(algo_dicts[alg].keys()), \"molecules for \"+alg)\n",
    "    algo_mol_indices[alg] = list(algo_dicts[alg].keys())"
   ]
  },
  {
   "cell_type": "code",
   "execution_count": 6,
   "id": "f5807483",
   "metadata": {},
   "outputs": [],
   "source": [
    "# ===================== #\n",
    "# Creating GNNExplainer #\n",
    "# ===================== #\n",
    "gnn_explainer = Explainer(\n",
    "        model=model,\n",
    "        algorithm=GNNExplainer(epochs=500),\n",
    "        explanation_type=\"model\",\n",
    "        node_mask_type=None,\n",
    "        edge_mask_type=\"object\",\n",
    "        model_config=dict(\n",
    "            mode='regression',\n",
    "            task_level='graph',\n",
    "            return_type='raw',\n",
    "        )\n",
    "    )"
   ]
  },
  {
   "cell_type": "markdown",
   "id": "1b7f1051",
   "metadata": {},
   "source": [
    "## Metrics and visualization"
   ]
  },
  {
   "cell_type": "markdown",
   "id": "100c4ae5",
   "metadata": {},
   "source": [
    "### Metrics"
   ]
  },
  {
   "cell_type": "markdown",
   "id": "e297935f",
   "metadata": {},
   "source": [
    "#### FID +/-"
   ]
  },
  {
   "cell_type": "code",
   "execution_count": 6,
   "id": "fb318326",
   "metadata": {
    "scrolled": false
   },
   "outputs": [
    {
     "name": "stdout",
     "output_type": "stream",
     "text": [
      "number of mols : 5000\n",
      "tensor([0.0123, 0.9764, 0.9788, 0.9806, 0.0135, 0.9693, 0.9879, 0.9849, 0.9717,\n",
      "        0.0122, 0.9740, 0.9762, 0.9717, 0.0842, 0.9786, 0.9835, 0.0151, 0.0114,\n",
      "        0.0182, 0.0159, 0.0145, 0.0184, 0.0123, 0.0134, 0.0125, 0.0196, 0.9823,\n",
      "        0.9724])\n",
      "top-k 5\n"
     ]
    },
    {
     "name": "stderr",
     "output_type": "stream",
     "text": [
      "/var/folders/83/jd8c7w3s1p71rrnmtg0jd57w0000gn/T/ipykernel_20888/839069268.py:7: UserWarning: To copy construct from a tensor, it is recommended to use sourceTensor.clone().detach() or sourceTensor.clone().detach().requires_grad_(True), rather than torch.tensor(sourceTensor).\n",
      "  explanations = [torch.abs(torch.tensor(algo_dicts[alg][i])) for i in idx_mols]\n"
     ]
    },
    {
     "name": "stdout",
     "output_type": "stream",
     "text": [
      "(0.13126346272422962, 0.12505835782113012)\n",
      "tensor([0.0052, 0.0399, 0.0022, 0.1177, 0.1430, 0.2785, 0.2788, 0.0370, 0.5538,\n",
      "        0.1996, 0.0658, 0.0411, 0.2846, 0.1403, 0.2365, 0.0371, 0.0333, 0.0135,\n",
      "        0.0178, 0.0581, 0.0043, 0.0078, 0.0108, 0.0381, 0.1350, 0.0399, 0.1013,\n",
      "        0.0805], dtype=torch.float64)\n",
      "top-k 5\n",
      "(0.1310265111841072, 0.09681812852029278)\n",
      "tensor([0.0466, 0.0656, 0.0675, 0.0285, 0.1390, 0.1062, 0.3056, 0.0676, 0.0683,\n",
      "        0.0415, 0.0214, 0.0844, 0.0127, 0.0523], dtype=torch.float64)\n",
      "top-k 5\n",
      "(0.09989096711973033, 0.07042292326653166)\n"
     ]
    }
   ],
   "source": [
    "idx_expl = np.arange(0,5000,1)\n",
    "print(\"number of mols :\",len(idx_expl))\n",
    "idx_mols = np.array([algo_mol_indices[\"EdgeSHAPer\"][i] for i in idx_expl])\n",
    "list_graphs = dataset_PyG[idx_mols]\n",
    "positive = False\n",
    "for alg in algorithms:\n",
    "    explanations = [torch.abs(torch.tensor(algo_dicts[alg][i])) for i in idx_mols]\n",
    "    print(explanations[0])\n",
    "    print(compute_fid(model,list_graphs,positive,explanations,5,None))"
   ]
  },
  {
   "cell_type": "markdown",
   "id": "d82769e2",
   "metadata": {},
   "source": [
    "#### GEF"
   ]
  },
  {
   "cell_type": "code",
   "execution_count": 7,
   "id": "bb17f82d",
   "metadata": {},
   "outputs": [
    {
     "name": "stderr",
     "output_type": "stream",
     "text": [
      "/Users/evandieren/Desktop/epfl/Q2/GNN_Explainability/experiments/Comparison_Explainers/../../utils/utils.py:305: UserWarning: To copy construct from a tensor, it is recommended to use sourceTensor.clone().detach() or sourceTensor.clone().detach().requires_grad_(True), rather than torch.tensor(sourceTensor).\n",
      "  expl = [torch.tensor(np.abs(algo_dicts[alg][i])) for i in idx_mols]\n",
      "100%|██████████████████████████████████████| 5000/5000 [00:45<00:00, 109.92it/s]\n",
      "/Users/evandieren/Desktop/epfl/Q2/GNN_Explainability/experiments/Comparison_Explainers/../../utils/utils.py:266: RuntimeWarning: divide by zero encountered in divide\n",
      "  D_KL = lambda p,q: np.sum(p*np.where(p*q != 0, np.log(p/q), 0))\n",
      "/Users/evandieren/Desktop/epfl/Q2/GNN_Explainability/experiments/Comparison_Explainers/../../utils/utils.py:266: RuntimeWarning: invalid value encountered in divide\n",
      "  D_KL = lambda p,q: np.sum(p*np.where(p*q != 0, np.log(p/q), 0))\n",
      "/Users/evandieren/Desktop/epfl/Q2/GNN_Explainability/experiments/Comparison_Explainers/../../utils/utils.py:266: RuntimeWarning: divide by zero encountered in log\n",
      "  D_KL = lambda p,q: np.sum(p*np.where(p*q != 0, np.log(p/q), 0))\n"
     ]
    },
    {
     "name": "stdout",
     "output_type": "stream",
     "text": [
      "GEF GNNExplainer :  0.4019372073618389\n"
     ]
    },
    {
     "name": "stderr",
     "output_type": "stream",
     "text": [
      "100%|██████████████████████████████████████| 5000/5000 [00:43<00:00, 114.30it/s]\n"
     ]
    },
    {
     "name": "stdout",
     "output_type": "stream",
     "text": [
      "GEF EdgeSHAPer :  0.3619845126284843\n"
     ]
    },
    {
     "name": "stderr",
     "output_type": "stream",
     "text": [
      "100%|██████████████████████████████████████| 5000/5000 [00:41<00:00, 119.51it/s]"
     ]
    },
    {
     "name": "stdout",
     "output_type": "stream",
     "text": [
      "GEF regSHAPer :  0.26564437405896824\n"
     ]
    },
    {
     "name": "stderr",
     "output_type": "stream",
     "text": [
      "\n"
     ]
    }
   ],
   "source": [
    "# Creating list of graphs and explanations\n",
    "idx_mols = algo_mol_indices[alg][:5000]\n",
    "list_graphs = dataset_PyG[idx_mols]\n",
    "\n",
    "expl = [torch.tensor(algo_dicts[alg][i]) for i in idx_mols]\n",
    "k = 5\n",
    "dict_gef = compute_gef(idx_mols,list_graphs,algo_dicts,model,k,algorithms)"
   ]
  },
  {
   "cell_type": "code",
   "execution_count": 10,
   "id": "8e2d7423",
   "metadata": {},
   "outputs": [
    {
     "name": "stdout",
     "output_type": "stream",
     "text": [
      "GNNExplainer: 0.4019372073618389\n",
      "EdgeSHAPer: 0.3619845126284843\n",
      "regSHAPer: 0.26564437405896824\n"
     ]
    }
   ],
   "source": [
    "print(\"GNNExplainer:\",dict_gef[\"GNNExplainer\"][1])\n",
    "print(\"EdgeSHAPer:\",dict_gef[\"EdgeSHAPer\"][1])\n",
    "print(\"regSHAPer:\",dict_gef[\"regSHAPer\"][1])\n",
    "# regSHAP is better for this metric. (the lower the better)"
   ]
  },
  {
   "cell_type": "code",
   "execution_count": 11,
   "id": "29fe5cd4",
   "metadata": {},
   "outputs": [
    {
     "name": "stdout",
     "output_type": "stream",
     "text": [
      "tensor(6.9843)\n",
      "6.6923107493400575\n"
     ]
    }
   ],
   "source": [
    "# verif mean\n",
    "y = torch.tensor([data.y for data in list_graphs])\n",
    "print(torch.mean(y))\n",
    "print(np.mean(dict_gef[\"GNNExplainer\"][0][:,1]))"
   ]
  },
  {
   "cell_type": "markdown",
   "id": "50e32a59",
   "metadata": {},
   "source": [
    "### Plots for the report"
   ]
  },
  {
   "cell_type": "markdown",
   "id": "ed0f057e",
   "metadata": {},
   "source": [
    "#### Graph vs Subgraph predictions"
   ]
  },
  {
   "cell_type": "code",
   "execution_count": 7,
   "id": "7779d870",
   "metadata": {},
   "outputs": [],
   "source": [
    "# Showing graph vs subgraph\n",
    "col_dict = {\"GNNExplainer\":\"red\",\n",
    "            \"EdgeSHAPer\":\"mediumblue\",\n",
    "            \"regSHAPer\":\"orange\"}\n",
    "# Creating list of graphs and explanations\n",
    "idx_mols = algo_mol_indices[alg][:5000]\n",
    "list_graphs = dataset_PyG[idx_mols]"
   ]
  },
  {
   "cell_type": "code",
   "execution_count": 8,
   "id": "372b5450",
   "metadata": {},
   "outputs": [
    {
     "name": "stderr",
     "output_type": "stream",
     "text": [
      "/Users/evandieren/Desktop/epfl/Q2/GNN_Explainability/experiments/Comparison_Explainers/../../utils/utils.py:305: UserWarning: To copy construct from a tensor, it is recommended to use sourceTensor.clone().detach() or sourceTensor.clone().detach().requires_grad_(True), rather than torch.tensor(sourceTensor).\n",
      "  expl = [torch.tensor(np.abs(algo_dicts[alg][i])) for i in idx_mols]\n",
      "100%|███████████████████████████████████████| 5000/5000 [00:56<00:00, 87.90it/s]\n",
      "/Users/evandieren/Desktop/epfl/Q2/GNN_Explainability/experiments/Comparison_Explainers/../../utils/utils.py:266: RuntimeWarning: divide by zero encountered in divide\n",
      "  D_KL = lambda p,q: np.sum(p*np.where(p*q != 0, np.log(p/q), 0))\n",
      "/Users/evandieren/Desktop/epfl/Q2/GNN_Explainability/experiments/Comparison_Explainers/../../utils/utils.py:266: RuntimeWarning: invalid value encountered in divide\n",
      "  D_KL = lambda p,q: np.sum(p*np.where(p*q != 0, np.log(p/q), 0))\n",
      "/Users/evandieren/Desktop/epfl/Q2/GNN_Explainability/experiments/Comparison_Explainers/../../utils/utils.py:266: RuntimeWarning: divide by zero encountered in log\n",
      "  D_KL = lambda p,q: np.sum(p*np.where(p*q != 0, np.log(p/q), 0))\n"
     ]
    },
    {
     "name": "stdout",
     "output_type": "stream",
     "text": [
      "GEF GNNExplainer :  0.4355784716115939\n"
     ]
    },
    {
     "name": "stderr",
     "output_type": "stream",
     "text": [
      "100%|██████████████████████████████████████| 5000/5000 [00:48<00:00, 102.55it/s]\n"
     ]
    },
    {
     "name": "stdout",
     "output_type": "stream",
     "text": [
      "GEF EdgeSHAPer :  0.4252967821093995\n"
     ]
    },
    {
     "name": "stderr",
     "output_type": "stream",
     "text": [
      "100%|██████████████████████████████████████| 5000/5000 [00:45<00:00, 110.48it/s]\n"
     ]
    },
    {
     "name": "stdout",
     "output_type": "stream",
     "text": [
      "GEF regSHAPer :  0.35654405651939636\n"
     ]
    },
    {
     "name": "stderr",
     "output_type": "stream",
     "text": [
      "100%|██████████████████████████████████████| 5000/5000 [00:45<00:00, 109.07it/s]\n"
     ]
    },
    {
     "name": "stdout",
     "output_type": "stream",
     "text": [
      "GEF GNNExplainer :  0.4019372073618389\n"
     ]
    },
    {
     "name": "stderr",
     "output_type": "stream",
     "text": [
      "100%|██████████████████████████████████████| 5000/5000 [00:44<00:00, 112.15it/s]\n"
     ]
    },
    {
     "name": "stdout",
     "output_type": "stream",
     "text": [
      "GEF EdgeSHAPer :  0.3619845126284843\n"
     ]
    },
    {
     "name": "stderr",
     "output_type": "stream",
     "text": [
      "100%|██████████████████████████████████████| 5000/5000 [00:45<00:00, 109.08it/s]\n"
     ]
    },
    {
     "name": "stdout",
     "output_type": "stream",
     "text": [
      "GEF regSHAPer :  0.26564437405896824\n"
     ]
    },
    {
     "name": "stderr",
     "output_type": "stream",
     "text": [
      "  5%|█▊                                     | 226/5000 [00:02<00:37, 126.56it/s]"
     ]
    },
    {
     "name": "stdout",
     "output_type": "stream",
     "text": [
      "k is bigger than the number of bonds !\n"
     ]
    },
    {
     "name": "stderr",
     "output_type": "stream",
     "text": [
      "  8%|███▏                                   | 411/5000 [00:03<00:40, 114.71it/s]"
     ]
    },
    {
     "name": "stdout",
     "output_type": "stream",
     "text": [
      "k is bigger than the number of bonds !\n"
     ]
    },
    {
     "name": "stderr",
     "output_type": "stream",
     "text": [
      " 11%|████▏                                  | 529/5000 [00:04<00:40, 111.44it/s]"
     ]
    },
    {
     "name": "stdout",
     "output_type": "stream",
     "text": [
      "k is bigger than the number of bonds !\n"
     ]
    },
    {
     "name": "stderr",
     "output_type": "stream",
     "text": [
      " 12%|█████                                   | 625/5000 [00:05<00:47, 92.35it/s]"
     ]
    },
    {
     "name": "stdout",
     "output_type": "stream",
     "text": [
      "k is bigger than the number of bonds !\n",
      "k is bigger than the number of bonds !\n"
     ]
    },
    {
     "name": "stderr",
     "output_type": "stream",
     "text": [
      " 15%|█████▋                                 | 735/5000 [00:06<00:41, 103.43it/s]"
     ]
    },
    {
     "name": "stdout",
     "output_type": "stream",
     "text": [
      "k is bigger than the number of bonds !\n",
      "k is bigger than the number of bonds !\n",
      "k is bigger than the number of bonds !\n",
      "k is bigger than the number of bonds !\n",
      "k is bigger than the number of bonds !\n"
     ]
    },
    {
     "name": "stderr",
     "output_type": "stream",
     "text": [
      "\r",
      " 15%|█████▉                                  | 746/5000 [00:07<00:43, 98.32it/s]"
     ]
    },
    {
     "name": "stdout",
     "output_type": "stream",
     "text": [
      "k is bigger than the number of bonds !\n"
     ]
    },
    {
     "name": "stderr",
     "output_type": "stream",
     "text": [
      " 19%|███████▍                               | 953/5000 [00:09<00:33, 119.79it/s]"
     ]
    },
    {
     "name": "stdout",
     "output_type": "stream",
     "text": [
      "k is bigger than the number of bonds !\n"
     ]
    },
    {
     "name": "stderr",
     "output_type": "stream",
     "text": [
      " 21%|███████▊                              | 1028/5000 [00:09<00:35, 110.59it/s]"
     ]
    },
    {
     "name": "stdout",
     "output_type": "stream",
     "text": [
      "k is bigger than the number of bonds !\n",
      "k is bigger than the number of bonds !\n"
     ]
    },
    {
     "name": "stderr",
     "output_type": "stream",
     "text": [
      " 22%|████████▍                             | 1113/5000 [00:10<00:35, 110.39it/s]"
     ]
    },
    {
     "name": "stdout",
     "output_type": "stream",
     "text": [
      "k is bigger than the number of bonds !\n"
     ]
    },
    {
     "name": "stderr",
     "output_type": "stream",
     "text": [
      " 23%|████████▉                             | 1171/5000 [00:11<00:34, 110.29it/s]"
     ]
    },
    {
     "name": "stdout",
     "output_type": "stream",
     "text": [
      "k is bigger than the number of bonds !\n"
     ]
    },
    {
     "name": "stderr",
     "output_type": "stream",
     "text": [
      " 26%|█████████▋                            | 1277/5000 [00:12<00:33, 110.51it/s]"
     ]
    },
    {
     "name": "stdout",
     "output_type": "stream",
     "text": [
      "k is bigger than the number of bonds !\n"
     ]
    },
    {
     "name": "stderr",
     "output_type": "stream",
     "text": [
      " 33%|████████████▋                         | 1670/5000 [00:15<00:28, 116.29it/s]"
     ]
    },
    {
     "name": "stdout",
     "output_type": "stream",
     "text": [
      "k is bigger than the number of bonds !\n"
     ]
    },
    {
     "name": "stderr",
     "output_type": "stream",
     "text": [
      " 35%|█████████████▍                        | 1763/5000 [00:16<00:25, 125.90it/s]"
     ]
    },
    {
     "name": "stdout",
     "output_type": "stream",
     "text": [
      "k is bigger than the number of bonds !\n"
     ]
    },
    {
     "name": "stderr",
     "output_type": "stream",
     "text": [
      " 38%|██████████████▎                       | 1883/5000 [00:17<00:24, 125.33it/s]"
     ]
    },
    {
     "name": "stdout",
     "output_type": "stream",
     "text": [
      "k is bigger than the number of bonds !\n",
      "k is bigger than the number of bonds !\n",
      "k is bigger than the number of bonds !\n"
     ]
    },
    {
     "name": "stderr",
     "output_type": "stream",
     "text": [
      " 40%|███████████████▎                      | 2012/5000 [00:18<00:25, 116.85it/s]"
     ]
    },
    {
     "name": "stdout",
     "output_type": "stream",
     "text": [
      "k is bigger than the number of bonds !\n"
     ]
    },
    {
     "name": "stderr",
     "output_type": "stream",
     "text": [
      " 47%|█████████████████▊                    | 2339/5000 [00:21<00:22, 120.46it/s]"
     ]
    },
    {
     "name": "stdout",
     "output_type": "stream",
     "text": [
      "k is bigger than the number of bonds !\n",
      "k is bigger than the number of bonds !\n"
     ]
    },
    {
     "name": "stderr",
     "output_type": "stream",
     "text": [
      " 48%|██████████████████                    | 2378/5000 [00:21<00:21, 123.87it/s]"
     ]
    },
    {
     "name": "stdout",
     "output_type": "stream",
     "text": [
      "k is bigger than the number of bonds !\n"
     ]
    },
    {
     "name": "stderr",
     "output_type": "stream",
     "text": [
      " 49%|██████████████████▍                   | 2433/5000 [00:22<00:19, 129.32it/s]"
     ]
    },
    {
     "name": "stdout",
     "output_type": "stream",
     "text": [
      "k is bigger than the number of bonds !\n"
     ]
    },
    {
     "name": "stderr",
     "output_type": "stream",
     "text": [
      " 51%|███████████████████▍                  | 2551/5000 [00:22<00:19, 125.80it/s]"
     ]
    },
    {
     "name": "stdout",
     "output_type": "stream",
     "text": [
      "k is bigger than the number of bonds !\n"
     ]
    },
    {
     "name": "stderr",
     "output_type": "stream",
     "text": [
      " 52%|███████████████████▉                  | 2616/5000 [00:23<00:19, 121.52it/s]"
     ]
    },
    {
     "name": "stdout",
     "output_type": "stream",
     "text": [
      "k is bigger than the number of bonds !\n"
     ]
    },
    {
     "name": "stderr",
     "output_type": "stream",
     "text": [
      "100%|██████████████████████████████████████| 5000/5000 [00:46<00:00, 107.86it/s]\n"
     ]
    },
    {
     "name": "stdout",
     "output_type": "stream",
     "text": [
      "GEF GNNExplainer :  0.24009752963859754\n"
     ]
    },
    {
     "name": "stderr",
     "output_type": "stream",
     "text": [
      "  4%|█▋                                     | 222/5000 [00:02<00:45, 104.93it/s]"
     ]
    },
    {
     "name": "stdout",
     "output_type": "stream",
     "text": [
      "k is bigger than the number of bonds !\n"
     ]
    },
    {
     "name": "stderr",
     "output_type": "stream",
     "text": [
      "  8%|███▏                                   | 414/5000 [00:03<00:38, 118.45it/s]"
     ]
    },
    {
     "name": "stdout",
     "output_type": "stream",
     "text": [
      "k is bigger than the number of bonds !\n"
     ]
    },
    {
     "name": "stderr",
     "output_type": "stream",
     "text": [
      " 11%|████▏                                  | 530/5000 [00:04<00:41, 108.59it/s]"
     ]
    },
    {
     "name": "stdout",
     "output_type": "stream",
     "text": [
      "k is bigger than the number of bonds !\n"
     ]
    },
    {
     "name": "stderr",
     "output_type": "stream",
     "text": [
      " 13%|████▉                                  | 632/5000 [00:05<00:35, 123.28it/s]"
     ]
    },
    {
     "name": "stdout",
     "output_type": "stream",
     "text": [
      "k is bigger than the number of bonds !\n",
      "k is bigger than the number of bonds !\n"
     ]
    },
    {
     "name": "stderr",
     "output_type": "stream",
     "text": [
      " 15%|█████▋                                 | 736/5000 [00:06<00:34, 123.37it/s]"
     ]
    },
    {
     "name": "stdout",
     "output_type": "stream",
     "text": [
      "k is bigger than the number of bonds !\n",
      "k is bigger than the number of bonds !\n",
      "k is bigger than the number of bonds !\n",
      "k is bigger than the number of bonds !\n",
      "k is bigger than the number of bonds !\n",
      "k is bigger than the number of bonds !\n"
     ]
    },
    {
     "name": "stderr",
     "output_type": "stream",
     "text": [
      " 19%|███████▍                               | 957/5000 [00:08<00:36, 112.19it/s]"
     ]
    },
    {
     "name": "stdout",
     "output_type": "stream",
     "text": [
      "k is bigger than the number of bonds !\n"
     ]
    },
    {
     "name": "stderr",
     "output_type": "stream",
     "text": [
      " 20%|███████▋                              | 1019/5000 [00:09<00:32, 120.80it/s]"
     ]
    },
    {
     "name": "stdout",
     "output_type": "stream",
     "text": [
      "k is bigger than the number of bonds !\n",
      "k is bigger than the number of bonds !\n"
     ]
    },
    {
     "name": "stderr",
     "output_type": "stream",
     "text": [
      " 22%|████████▍                             | 1114/5000 [00:10<00:35, 108.25it/s]"
     ]
    },
    {
     "name": "stdout",
     "output_type": "stream",
     "text": [
      "k is bigger than the number of bonds !\n"
     ]
    },
    {
     "name": "stderr",
     "output_type": "stream",
     "text": [
      " 23%|████████▉                             | 1170/5000 [00:10<00:36, 105.90it/s]"
     ]
    },
    {
     "name": "stdout",
     "output_type": "stream",
     "text": [
      "k is bigger than the number of bonds !\n"
     ]
    },
    {
     "name": "stderr",
     "output_type": "stream",
     "text": [
      " 26%|█████████▋                            | 1276/5000 [00:11<00:34, 108.04it/s]"
     ]
    },
    {
     "name": "stdout",
     "output_type": "stream",
     "text": [
      "k is bigger than the number of bonds !\n"
     ]
    },
    {
     "name": "stderr",
     "output_type": "stream",
     "text": [
      " 33%|█████████████                          | 1673/5000 [00:15<00:36, 91.88it/s]"
     ]
    },
    {
     "name": "stdout",
     "output_type": "stream",
     "text": [
      "k is bigger than the number of bonds !\n"
     ]
    },
    {
     "name": "stderr",
     "output_type": "stream",
     "text": [
      " 35%|█████████████▊                         | 1765/5000 [00:16<00:32, 99.97it/s]"
     ]
    },
    {
     "name": "stdout",
     "output_type": "stream",
     "text": [
      "k is bigger than the number of bonds !\n"
     ]
    },
    {
     "name": "stderr",
     "output_type": "stream",
     "text": [
      " 38%|██████████████▍                       | 1892/5000 [00:17<00:28, 110.89it/s]"
     ]
    },
    {
     "name": "stdout",
     "output_type": "stream",
     "text": [
      "k is bigger than the number of bonds !\n",
      "k is bigger than the number of bonds !\n",
      "k is bigger than the number of bonds !\n"
     ]
    },
    {
     "name": "stderr",
     "output_type": "stream",
     "text": [
      " 40%|███████████████▎                      | 2009/5000 [00:18<00:28, 104.51it/s]"
     ]
    },
    {
     "name": "stdout",
     "output_type": "stream",
     "text": [
      "k is bigger than the number of bonds !\n"
     ]
    },
    {
     "name": "stderr",
     "output_type": "stream",
     "text": [
      " 47%|█████████████████▊                    | 2340/5000 [00:21<00:22, 120.83it/s]"
     ]
    },
    {
     "name": "stdout",
     "output_type": "stream",
     "text": [
      "k is bigger than the number of bonds !\n",
      "k is bigger than the number of bonds !\n"
     ]
    },
    {
     "name": "stderr",
     "output_type": "stream",
     "text": [
      " 48%|██████████████████                    | 2378/5000 [00:21<00:23, 113.57it/s]"
     ]
    },
    {
     "name": "stdout",
     "output_type": "stream",
     "text": [
      "k is bigger than the number of bonds !\n"
     ]
    },
    {
     "name": "stderr",
     "output_type": "stream",
     "text": [
      " 49%|██████████████████▍                   | 2428/5000 [00:22<00:21, 117.16it/s]"
     ]
    },
    {
     "name": "stdout",
     "output_type": "stream",
     "text": [
      "k is bigger than the number of bonds !\n"
     ]
    },
    {
     "name": "stderr",
     "output_type": "stream",
     "text": [
      " 51%|███████████████████▍                  | 2553/5000 [00:23<00:21, 112.84it/s]"
     ]
    },
    {
     "name": "stdout",
     "output_type": "stream",
     "text": [
      "k is bigger than the number of bonds !\n"
     ]
    },
    {
     "name": "stderr",
     "output_type": "stream",
     "text": [
      " 52%|███████████████████▊                  | 2614/5000 [00:24<00:21, 108.97it/s]"
     ]
    },
    {
     "name": "stdout",
     "output_type": "stream",
     "text": [
      "k is bigger than the number of bonds !\n"
     ]
    },
    {
     "name": "stderr",
     "output_type": "stream",
     "text": [
      "100%|██████████████████████████████████████| 5000/5000 [00:46<00:00, 107.32it/s]\n"
     ]
    },
    {
     "name": "stdout",
     "output_type": "stream",
     "text": [
      "GEF EdgeSHAPer :  0.23298757790653224\n"
     ]
    },
    {
     "name": "stderr",
     "output_type": "stream",
     "text": [
      "  5%|█▊                                     | 231/5000 [00:02<00:42, 111.33it/s]"
     ]
    },
    {
     "name": "stdout",
     "output_type": "stream",
     "text": [
      "k is bigger than the number of bonds !\n"
     ]
    },
    {
     "name": "stderr",
     "output_type": "stream",
     "text": [
      "  8%|███▏                                   | 413/5000 [00:03<00:45, 101.01it/s]"
     ]
    },
    {
     "name": "stdout",
     "output_type": "stream",
     "text": [
      "k is bigger than the number of bonds !\n"
     ]
    },
    {
     "name": "stderr",
     "output_type": "stream",
     "text": [
      " 10%|████▏                                   | 516/5000 [00:05<00:49, 90.47it/s]"
     ]
    },
    {
     "name": "stdout",
     "output_type": "stream",
     "text": [
      "k is bigger than the number of bonds !\n"
     ]
    },
    {
     "name": "stderr",
     "output_type": "stream",
     "text": [
      " 13%|█████                                   | 627/5000 [00:06<00:45, 96.47it/s]"
     ]
    },
    {
     "name": "stdout",
     "output_type": "stream",
     "text": [
      "k is bigger than the number of bonds !\n",
      "k is bigger than the number of bonds !\n"
     ]
    },
    {
     "name": "stderr",
     "output_type": "stream",
     "text": [
      " 15%|█████▋                                 | 733/5000 [00:07<00:38, 110.22it/s]"
     ]
    },
    {
     "name": "stdout",
     "output_type": "stream",
     "text": [
      "k is bigger than the number of bonds !\n",
      "k is bigger than the number of bonds !\n",
      "k is bigger than the number of bonds !\n",
      "k is bigger than the number of bonds !\n",
      "k is bigger than the number of bonds !\n"
     ]
    },
    {
     "name": "stderr",
     "output_type": "stream",
     "text": [
      " 15%|█████▉                                 | 758/5000 [00:07<00:38, 109.80it/s]"
     ]
    },
    {
     "name": "stdout",
     "output_type": "stream",
     "text": [
      "k is bigger than the number of bonds !\n"
     ]
    },
    {
     "name": "stderr",
     "output_type": "stream",
     "text": [
      " 19%|███████▍                               | 953/5000 [00:09<00:34, 117.36it/s]"
     ]
    },
    {
     "name": "stdout",
     "output_type": "stream",
     "text": [
      "k is bigger than the number of bonds !\n"
     ]
    },
    {
     "name": "stderr",
     "output_type": "stream",
     "text": [
      " 20%|███████▊                              | 1024/5000 [00:09<00:36, 108.40it/s]"
     ]
    },
    {
     "name": "stdout",
     "output_type": "stream",
     "text": [
      "k is bigger than the number of bonds !\n",
      "k is bigger than the number of bonds !\n"
     ]
    },
    {
     "name": "stderr",
     "output_type": "stream",
     "text": [
      " 22%|████████▌                             | 1121/5000 [00:10<00:35, 109.57it/s]"
     ]
    },
    {
     "name": "stdout",
     "output_type": "stream",
     "text": [
      "k is bigger than the number of bonds !\n"
     ]
    },
    {
     "name": "stderr",
     "output_type": "stream",
     "text": [
      " 23%|████████▉                             | 1172/5000 [00:11<00:31, 121.63it/s]"
     ]
    },
    {
     "name": "stdout",
     "output_type": "stream",
     "text": [
      "k is bigger than the number of bonds !\n"
     ]
    },
    {
     "name": "stderr",
     "output_type": "stream",
     "text": [
      " 25%|█████████▋                            | 1272/5000 [00:11<00:31, 118.75it/s]"
     ]
    },
    {
     "name": "stdout",
     "output_type": "stream",
     "text": [
      "k is bigger than the number of bonds !\n"
     ]
    },
    {
     "name": "stderr",
     "output_type": "stream",
     "text": [
      " 33%|████████████▋                         | 1672/5000 [00:15<00:31, 104.67it/s]"
     ]
    },
    {
     "name": "stdout",
     "output_type": "stream",
     "text": [
      "k is bigger than the number of bonds !\n"
     ]
    },
    {
     "name": "stderr",
     "output_type": "stream",
     "text": [
      " 35%|█████████████▍                        | 1768/5000 [00:16<00:28, 113.75it/s]"
     ]
    },
    {
     "name": "stdout",
     "output_type": "stream",
     "text": [
      "k is bigger than the number of bonds !\n"
     ]
    },
    {
     "name": "stderr",
     "output_type": "stream",
     "text": [
      " 38%|██████████████▎                       | 1887/5000 [00:17<00:29, 104.87it/s]"
     ]
    },
    {
     "name": "stdout",
     "output_type": "stream",
     "text": [
      "k is bigger than the number of bonds !\n",
      "k is bigger than the number of bonds !\n",
      "k is bigger than the number of bonds !\n"
     ]
    },
    {
     "name": "stderr",
     "output_type": "stream",
     "text": [
      " 40%|███████████████▎                      | 2007/5000 [00:18<00:25, 115.69it/s]"
     ]
    },
    {
     "name": "stdout",
     "output_type": "stream",
     "text": [
      "k is bigger than the number of bonds !\n"
     ]
    },
    {
     "name": "stderr",
     "output_type": "stream",
     "text": [
      " 47%|█████████████████▊                    | 2339/5000 [00:21<00:21, 124.82it/s]"
     ]
    },
    {
     "name": "stdout",
     "output_type": "stream",
     "text": [
      "k is bigger than the number of bonds !\n"
     ]
    },
    {
     "name": "stderr",
     "output_type": "stream",
     "text": [
      " 47%|█████████████████▉                    | 2365/5000 [00:21<00:23, 114.46it/s]"
     ]
    },
    {
     "name": "stdout",
     "output_type": "stream",
     "text": [
      "k is bigger than the number of bonds !\n",
      "k is bigger than the number of bonds !\n"
     ]
    },
    {
     "name": "stderr",
     "output_type": "stream",
     "text": [
      " 49%|██████████████████▍                   | 2426/5000 [00:22<00:21, 117.69it/s]"
     ]
    },
    {
     "name": "stdout",
     "output_type": "stream",
     "text": [
      "k is bigger than the number of bonds !\n"
     ]
    },
    {
     "name": "stderr",
     "output_type": "stream",
     "text": [
      " 51%|███████████████████▍                  | 2554/5000 [00:23<00:21, 115.43it/s]"
     ]
    },
    {
     "name": "stdout",
     "output_type": "stream",
     "text": [
      "k is bigger than the number of bonds !\n"
     ]
    },
    {
     "name": "stderr",
     "output_type": "stream",
     "text": [
      " 52%|███████████████████▊                  | 2615/5000 [00:24<00:20, 114.64it/s]"
     ]
    },
    {
     "name": "stdout",
     "output_type": "stream",
     "text": [
      "k is bigger than the number of bonds !\n"
     ]
    },
    {
     "name": "stderr",
     "output_type": "stream",
     "text": [
      "100%|███████████████████████████████████████| 5000/5000 [00:51<00:00, 96.72it/s]\n"
     ]
    },
    {
     "name": "stdout",
     "output_type": "stream",
     "text": [
      "GEF regSHAPer :  0.1459887376893011\n"
     ]
    },
    {
     "name": "stderr",
     "output_type": "stream",
     "text": [
      "  0%|▏                                        | 25/5000 [00:00<00:55, 88.84it/s]"
     ]
    },
    {
     "name": "stdout",
     "output_type": "stream",
     "text": [
      "k is bigger than the number of bonds !\n",
      "k is bigger than the number of bonds !\n"
     ]
    },
    {
     "name": "stderr",
     "output_type": "stream",
     "text": [
      "  2%|▊                                      | 104/5000 [00:01<00:48, 101.31it/s]"
     ]
    },
    {
     "name": "stdout",
     "output_type": "stream",
     "text": [
      "k is bigger than the number of bonds !\n",
      "k is bigger than the number of bonds !\n"
     ]
    },
    {
     "name": "stderr",
     "output_type": "stream",
     "text": [
      "  4%|█▍                                      | 179/5000 [00:02<01:06, 72.65it/s]"
     ]
    },
    {
     "name": "stdout",
     "output_type": "stream",
     "text": [
      "k is bigger than the number of bonds !\n",
      "k is bigger than the number of bonds !\n"
     ]
    },
    {
     "name": "stderr",
     "output_type": "stream",
     "text": [
      "  4%|█▊                                      | 222/5000 [00:02<00:50, 94.89it/s]"
     ]
    },
    {
     "name": "stdout",
     "output_type": "stream",
     "text": [
      "k is bigger than the number of bonds !\n",
      "k is bigger than the number of bonds !\n",
      "k is bigger than the number of bonds !\n",
      "k is bigger than the number of bonds !\n"
     ]
    },
    {
     "name": "stderr",
     "output_type": "stream",
     "text": [
      "  5%|█▉                                      | 245/5000 [00:02<00:50, 93.52it/s]"
     ]
    },
    {
     "name": "stdout",
     "output_type": "stream",
     "text": [
      "k is bigger than the number of bonds !\n",
      "k is bigger than the number of bonds !\n",
      "k is bigger than the number of bonds !\n"
     ]
    },
    {
     "name": "stderr",
     "output_type": "stream",
     "text": [
      "  6%|██▏                                     | 275/5000 [00:03<00:53, 88.30it/s]"
     ]
    },
    {
     "name": "stdout",
     "output_type": "stream",
     "text": [
      "k is bigger than the number of bonds !\n"
     ]
    },
    {
     "name": "stderr",
     "output_type": "stream",
     "text": [
      "  6%|██▍                                     | 305/5000 [00:03<00:55, 84.49it/s]"
     ]
    },
    {
     "name": "stdout",
     "output_type": "stream",
     "text": [
      "k is bigger than the number of bonds !\n"
     ]
    },
    {
     "name": "stderr",
     "output_type": "stream",
     "text": [
      "  8%|██▉                                    | 377/5000 [00:04<00:45, 102.21it/s]"
     ]
    },
    {
     "name": "stdout",
     "output_type": "stream",
     "text": [
      "k is bigger than the number of bonds !\n",
      "k is bigger than the number of bonds !\n",
      "k is bigger than the number of bonds !\n"
     ]
    },
    {
     "name": "stderr",
     "output_type": "stream",
     "text": [
      "  8%|███▏                                   | 404/5000 [00:04<00:39, 116.06it/s]"
     ]
    },
    {
     "name": "stdout",
     "output_type": "stream",
     "text": [
      "k is bigger than the number of bonds !\n",
      "k is bigger than the number of bonds !\n"
     ]
    },
    {
     "name": "stderr",
     "output_type": "stream",
     "text": [
      "  9%|███▎                                   | 430/5000 [00:04<00:37, 121.12it/s]"
     ]
    },
    {
     "name": "stdout",
     "output_type": "stream",
     "text": [
      "k is bigger than the number of bonds !\n",
      "k is bigger than the number of bonds !\n",
      "k is bigger than the number of bonds !\n",
      "k is bigger than the number of bonds !\n",
      "k is bigger than the number of bonds !\n"
     ]
    },
    {
     "name": "stderr",
     "output_type": "stream",
     "text": [
      "  9%|███▌                                   | 456/5000 [00:04<00:36, 123.25it/s]"
     ]
    },
    {
     "name": "stdout",
     "output_type": "stream",
     "text": [
      "k is bigger than the number of bonds !\n",
      "k is bigger than the number of bonds !\n",
      "k is bigger than the number of bonds !\n"
     ]
    },
    {
     "name": "stderr",
     "output_type": "stream",
     "text": [
      " 10%|███▊                                   | 482/5000 [00:05<00:36, 123.37it/s]"
     ]
    },
    {
     "name": "stdout",
     "output_type": "stream",
     "text": [
      "k is bigger than the number of bonds !\n",
      "k is bigger than the number of bonds !\n"
     ]
    },
    {
     "name": "stderr",
     "output_type": "stream",
     "text": [
      " 10%|████                                   | 519/5000 [00:05<00:39, 114.31it/s]"
     ]
    },
    {
     "name": "stdout",
     "output_type": "stream",
     "text": [
      "k is bigger than the number of bonds !\n",
      "k is bigger than the number of bonds !\n"
     ]
    },
    {
     "name": "stderr",
     "output_type": "stream",
     "text": [
      " 11%|████▎                                  | 555/5000 [00:05<00:39, 111.38it/s]"
     ]
    },
    {
     "name": "stdout",
     "output_type": "stream",
     "text": [
      "k is bigger than the number of bonds !\n",
      "k is bigger than the number of bonds !\n",
      "k is bigger than the number of bonds !\n",
      "k is bigger than the number of bonds !\n",
      "k is bigger than the number of bonds !\n"
     ]
    },
    {
     "name": "stderr",
     "output_type": "stream",
     "text": [
      " 12%|████▌                                  | 579/5000 [00:05<00:40, 110.10it/s]"
     ]
    },
    {
     "name": "stdout",
     "output_type": "stream",
     "text": [
      "k is bigger than the number of bonds !\n",
      "k is bigger than the number of bonds !\n"
     ]
    },
    {
     "name": "stderr",
     "output_type": "stream",
     "text": [
      " 12%|████▊                                  | 619/5000 [00:06<00:36, 120.94it/s]"
     ]
    },
    {
     "name": "stdout",
     "output_type": "stream",
     "text": [
      "k is bigger than the number of bonds !\n",
      "k is bigger than the number of bonds !\n",
      "k is bigger than the number of bonds !\n",
      "k is bigger than the number of bonds !\n",
      "k is bigger than the number of bonds !\n",
      "k is bigger than the number of bonds !\n",
      "k is bigger than the number of bonds !\n",
      "k is bigger than the number of bonds !\n",
      "k is bigger than the number of bonds !\n"
     ]
    },
    {
     "name": "stderr",
     "output_type": "stream",
     "text": [
      " 13%|█████                                  | 645/5000 [00:06<00:36, 119.64it/s]"
     ]
    },
    {
     "name": "stdout",
     "output_type": "stream",
     "text": [
      "k is bigger than the number of bonds !\n",
      "k is bigger than the number of bonds !\n"
     ]
    },
    {
     "name": "stderr",
     "output_type": "stream",
     "text": [
      " 13%|█████▏                                 | 669/5000 [00:06<00:37, 114.68it/s]"
     ]
    },
    {
     "name": "stdout",
     "output_type": "stream",
     "text": [
      "k is bigger than the number of bonds !\n",
      "k is bigger than the number of bonds !\n",
      "k is bigger than the number of bonds !\n",
      "k is bigger than the number of bonds !\n",
      "k is bigger than the number of bonds !\n"
     ]
    },
    {
     "name": "stderr",
     "output_type": "stream",
     "text": [
      " 14%|█████▍                                 | 693/5000 [00:06<00:38, 111.73it/s]"
     ]
    },
    {
     "name": "stdout",
     "output_type": "stream",
     "text": [
      "k is bigger than the number of bonds !\n",
      "k is bigger than the number of bonds !\n",
      "k is bigger than the number of bonds !\n",
      "k is bigger than the number of bonds !\n"
     ]
    },
    {
     "name": "stderr",
     "output_type": "stream",
     "text": [
      "\r",
      " 14%|█████▋                                  | 705/5000 [00:07<00:42, 99.98it/s]"
     ]
    },
    {
     "name": "stdout",
     "output_type": "stream",
     "text": [
      "k is bigger than the number of bonds !\n",
      "k is bigger than the number of bonds !\n",
      "k is bigger than the number of bonds !\n",
      "k is bigger than the number of bonds !\n",
      "k is bigger than the number of bonds !\n",
      "k is bigger than the number of bonds !\n"
     ]
    },
    {
     "name": "stderr",
     "output_type": "stream",
     "text": [
      " 15%|█████▊                                  | 726/5000 [00:07<00:49, 85.76it/s]"
     ]
    },
    {
     "name": "stdout",
     "output_type": "stream",
     "text": [
      "k is bigger than the number of bonds !\n",
      "k is bigger than the number of bonds !\n",
      "k is bigger than the number of bonds !\n",
      "k is bigger than the number of bonds !\n",
      "k is bigger than the number of bonds !\n",
      "k is bigger than the number of bonds !\n",
      "k is bigger than the number of bonds !\n",
      "k is bigger than the number of bonds !\n",
      "k is bigger than the number of bonds !\n",
      "k is bigger than the number of bonds !\n",
      "k is bigger than the number of bonds !\n",
      "k is bigger than the number of bonds !\n"
     ]
    },
    {
     "name": "stderr",
     "output_type": "stream",
     "text": [
      " 15%|█████▉                                  | 748/5000 [00:07<00:45, 94.19it/s]"
     ]
    },
    {
     "name": "stdout",
     "output_type": "stream",
     "text": [
      "k is bigger than the number of bonds !\n",
      "k is bigger than the number of bonds !\n",
      "k is bigger than the number of bonds !\n",
      "k is bigger than the number of bonds !\n",
      "k is bigger than the number of bonds !\n",
      "k is bigger than the number of bonds !\n",
      "k is bigger than the number of bonds !\n"
     ]
    },
    {
     "name": "stderr",
     "output_type": "stream",
     "text": [
      " 16%|██████▍                                 | 801/5000 [00:08<00:44, 94.33it/s]"
     ]
    },
    {
     "name": "stdout",
     "output_type": "stream",
     "text": [
      "k is bigger than the number of bonds !\n",
      "k is bigger than the number of bonds !\n",
      "k is bigger than the number of bonds !\n",
      "k is bigger than the number of bonds !\n",
      "k is bigger than the number of bonds !\n"
     ]
    },
    {
     "name": "stderr",
     "output_type": "stream",
     "text": [
      " 17%|██████▋                                | 853/5000 [00:08<00:34, 119.73it/s]"
     ]
    },
    {
     "name": "stdout",
     "output_type": "stream",
     "text": [
      "k is bigger than the number of bonds !\n",
      "k is bigger than the number of bonds !\n",
      "k is bigger than the number of bonds !\n"
     ]
    },
    {
     "name": "stderr",
     "output_type": "stream",
     "text": [
      " 18%|██████▊                                | 879/5000 [00:08<00:34, 121.11it/s]"
     ]
    },
    {
     "name": "stdout",
     "output_type": "stream",
     "text": [
      "k is bigger than the number of bonds !\n",
      "k is bigger than the number of bonds !\n",
      "k is bigger than the number of bonds !\n",
      "k is bigger than the number of bonds !\n"
     ]
    },
    {
     "name": "stderr",
     "output_type": "stream",
     "text": [
      " 18%|███████                                | 904/5000 [00:09<00:36, 111.89it/s]"
     ]
    },
    {
     "name": "stdout",
     "output_type": "stream",
     "text": [
      "k is bigger than the number of bonds !\n"
     ]
    },
    {
     "name": "stderr",
     "output_type": "stream",
     "text": [
      " 19%|███████▎                               | 944/5000 [00:09<00:32, 123.65it/s]"
     ]
    },
    {
     "name": "stdout",
     "output_type": "stream",
     "text": [
      "k is bigger than the number of bonds !\n",
      "k is bigger than the number of bonds !\n",
      "k is bigger than the number of bonds !\n",
      "k is bigger than the number of bonds !\n",
      "k is bigger than the number of bonds !\n",
      "k is bigger than the number of bonds !\n",
      "k is bigger than the number of bonds !\n",
      "k is bigger than the number of bonds !\n",
      "k is bigger than the number of bonds !\n"
     ]
    },
    {
     "name": "stderr",
     "output_type": "stream",
     "text": [
      " 19%|███████▌                               | 970/5000 [00:09<00:33, 119.62it/s]"
     ]
    },
    {
     "name": "stdout",
     "output_type": "stream",
     "text": [
      "k is bigger than the number of bonds !\n",
      "k is bigger than the number of bonds !\n",
      "k is bigger than the number of bonds !\n"
     ]
    },
    {
     "name": "stderr",
     "output_type": "stream",
     "text": [
      " 20%|███████▊                               | 996/5000 [00:09<00:34, 117.72it/s]"
     ]
    },
    {
     "name": "stdout",
     "output_type": "stream",
     "text": [
      "k is bigger than the number of bonds !\n",
      "k is bigger than the number of bonds !\n"
     ]
    },
    {
     "name": "stderr",
     "output_type": "stream",
     "text": [
      "\r",
      " 20%|███████▊                               | 1008/5000 [00:09<00:40, 98.87it/s]"
     ]
    },
    {
     "name": "stdout",
     "output_type": "stream",
     "text": [
      "k is bigger than the number of bonds !\n",
      "k is bigger than the number of bonds !\n",
      "k is bigger than the number of bonds !\n",
      "k is bigger than the number of bonds !\n"
     ]
    },
    {
     "name": "stderr",
     "output_type": "stream",
     "text": [
      " 21%|████████                               | 1041/5000 [00:10<00:43, 91.70it/s]"
     ]
    },
    {
     "name": "stdout",
     "output_type": "stream",
     "text": [
      "k is bigger than the number of bonds !\n",
      "k is bigger than the number of bonds !\n",
      "k is bigger than the number of bonds !\n",
      "k is bigger than the number of bonds !\n",
      "k is bigger than the number of bonds !\n",
      "k is bigger than the number of bonds !\n"
     ]
    },
    {
     "name": "stderr",
     "output_type": "stream",
     "text": [
      " 21%|████████▏                             | 1074/5000 [00:10<00:39, 100.24it/s]"
     ]
    },
    {
     "name": "stdout",
     "output_type": "stream",
     "text": [
      "k is bigger than the number of bonds !\n",
      "k is bigger than the number of bonds !\n"
     ]
    },
    {
     "name": "stderr",
     "output_type": "stream",
     "text": [
      " 22%|████████▎                             | 1096/5000 [00:10<00:37, 103.29it/s]"
     ]
    },
    {
     "name": "stdout",
     "output_type": "stream",
     "text": [
      "k is bigger than the number of bonds !\n",
      "k is bigger than the number of bonds !\n",
      "k is bigger than the number of bonds !\n"
     ]
    },
    {
     "name": "stderr",
     "output_type": "stream",
     "text": [
      " 22%|████████▌                             | 1121/5000 [00:11<00:35, 109.79it/s]"
     ]
    },
    {
     "name": "stdout",
     "output_type": "stream",
     "text": [
      "k is bigger than the number of bonds !\n",
      "k is bigger than the number of bonds !\n",
      "k is bigger than the number of bonds !\n",
      "k is bigger than the number of bonds !\n",
      "k is bigger than the number of bonds !\n"
     ]
    },
    {
     "name": "stderr",
     "output_type": "stream",
     "text": [
      "\r",
      " 23%|████████▌                             | 1133/5000 [00:11<00:35, 110.18it/s]"
     ]
    },
    {
     "name": "stdout",
     "output_type": "stream",
     "text": [
      "k is bigger than the number of bonds !\n",
      "k is bigger than the number of bonds !\n",
      "k is bigger than the number of bonds !\n",
      "k is bigger than the number of bonds !\n"
     ]
    },
    {
     "name": "stderr",
     "output_type": "stream",
     "text": [
      " 23%|████████▉                             | 1169/5000 [00:11<00:34, 110.16it/s]"
     ]
    },
    {
     "name": "stdout",
     "output_type": "stream",
     "text": [
      "k is bigger than the number of bonds !\n",
      "k is bigger than the number of bonds !\n",
      "k is bigger than the number of bonds !\n"
     ]
    },
    {
     "name": "stderr",
     "output_type": "stream",
     "text": [
      " 24%|█████████                             | 1193/5000 [00:11<00:35, 107.76it/s]"
     ]
    },
    {
     "name": "stdout",
     "output_type": "stream",
     "text": [
      "k is bigger than the number of bonds !\n",
      "k is bigger than the number of bonds !\n"
     ]
    },
    {
     "name": "stderr",
     "output_type": "stream",
     "text": [
      " 24%|█████████▌                             | 1225/5000 [00:12<00:47, 79.97it/s]"
     ]
    },
    {
     "name": "stdout",
     "output_type": "stream",
     "text": [
      "k is bigger than the number of bonds !\n"
     ]
    },
    {
     "name": "stderr",
     "output_type": "stream",
     "text": [
      " 25%|█████████▋                             | 1246/5000 [00:12<00:42, 87.81it/s]"
     ]
    },
    {
     "name": "stdout",
     "output_type": "stream",
     "text": [
      "k is bigger than the number of bonds !\n",
      "k is bigger than the number of bonds !\n"
     ]
    },
    {
     "name": "stderr",
     "output_type": "stream",
     "text": [
      " 25%|█████████▋                            | 1271/5000 [00:12<00:36, 102.64it/s]"
     ]
    },
    {
     "name": "stdout",
     "output_type": "stream",
     "text": [
      "k is bigger than the number of bonds !\n",
      "k is bigger than the number of bonds !\n",
      "k is bigger than the number of bonds !\n"
     ]
    },
    {
     "name": "stderr",
     "output_type": "stream",
     "text": [
      " 26%|█████████▉                            | 1307/5000 [00:12<00:36, 101.28it/s]"
     ]
    },
    {
     "name": "stdout",
     "output_type": "stream",
     "text": [
      "k is bigger than the number of bonds !\n",
      "k is bigger than the number of bonds !\n",
      "k is bigger than the number of bonds !\n",
      "k is bigger than the number of bonds !\n",
      "k is bigger than the number of bonds !\n"
     ]
    },
    {
     "name": "stderr",
     "output_type": "stream",
     "text": [
      " 27%|██████████▏                           | 1343/5000 [00:13<00:34, 107.26it/s]"
     ]
    },
    {
     "name": "stdout",
     "output_type": "stream",
     "text": [
      "k is bigger than the number of bonds !\n",
      "k is bigger than the number of bonds !\n"
     ]
    },
    {
     "name": "stderr",
     "output_type": "stream",
     "text": [
      " 28%|██████████▍                           | 1376/5000 [00:13<00:34, 103.67it/s]"
     ]
    },
    {
     "name": "stdout",
     "output_type": "stream",
     "text": [
      "k is bigger than the number of bonds !\n",
      "k is bigger than the number of bonds !\n",
      "k is bigger than the number of bonds !\n",
      "k is bigger than the number of bonds !\n"
     ]
    },
    {
     "name": "stderr",
     "output_type": "stream",
     "text": [
      " 28%|██████████▋                           | 1401/5000 [00:13<00:33, 107.30it/s]"
     ]
    },
    {
     "name": "stdout",
     "output_type": "stream",
     "text": [
      "k is bigger than the number of bonds !\n",
      "k is bigger than the number of bonds !\n"
     ]
    },
    {
     "name": "stderr",
     "output_type": "stream",
     "text": [
      " 29%|██████████▉                           | 1437/5000 [00:14<00:33, 107.11it/s]"
     ]
    },
    {
     "name": "stdout",
     "output_type": "stream",
     "text": [
      "k is bigger than the number of bonds !\n",
      "k is bigger than the number of bonds !\n"
     ]
    },
    {
     "name": "stderr",
     "output_type": "stream",
     "text": [
      " 30%|███████████▏                          | 1476/5000 [00:14<00:29, 117.93it/s]"
     ]
    },
    {
     "name": "stdout",
     "output_type": "stream",
     "text": [
      "k is bigger than the number of bonds !\n",
      "k is bigger than the number of bonds !\n",
      "k is bigger than the number of bonds !\n"
     ]
    },
    {
     "name": "stderr",
     "output_type": "stream",
     "text": [
      " 30%|███████████▌                          | 1515/5000 [00:14<00:28, 122.02it/s]"
     ]
    },
    {
     "name": "stdout",
     "output_type": "stream",
     "text": [
      "k is bigger than the number of bonds !\n"
     ]
    },
    {
     "name": "stderr",
     "output_type": "stream",
     "text": [
      " 31%|███████████▉                          | 1568/5000 [00:15<00:27, 124.95it/s]"
     ]
    },
    {
     "name": "stdout",
     "output_type": "stream",
     "text": [
      "k is bigger than the number of bonds !\n",
      "k is bigger than the number of bonds !\n",
      "k is bigger than the number of bonds !\n",
      "k is bigger than the number of bonds !\n",
      "k is bigger than the number of bonds !\n"
     ]
    },
    {
     "name": "stderr",
     "output_type": "stream",
     "text": [
      " 32%|████████████▏                         | 1607/5000 [00:15<00:27, 121.32it/s]"
     ]
    },
    {
     "name": "stdout",
     "output_type": "stream",
     "text": [
      "k is bigger than the number of bonds !\n"
     ]
    },
    {
     "name": "stderr",
     "output_type": "stream",
     "text": [
      " 33%|████████████▍                         | 1634/5000 [00:15<00:26, 125.01it/s]"
     ]
    },
    {
     "name": "stdout",
     "output_type": "stream",
     "text": [
      "k is bigger than the number of bonds !\n",
      "k is bigger than the number of bonds !\n",
      "k is bigger than the number of bonds !\n",
      "k is bigger than the number of bonds !\n",
      "k is bigger than the number of bonds !\n",
      "k is bigger than the number of bonds !\n"
     ]
    },
    {
     "name": "stderr",
     "output_type": "stream",
     "text": [
      " 33%|████████████▋                         | 1674/5000 [00:16<00:26, 127.01it/s]"
     ]
    },
    {
     "name": "stdout",
     "output_type": "stream",
     "text": [
      "k is bigger than the number of bonds !\n"
     ]
    },
    {
     "name": "stderr",
     "output_type": "stream",
     "text": [
      " 34%|█████████████                         | 1714/5000 [00:16<00:25, 129.21it/s]"
     ]
    },
    {
     "name": "stdout",
     "output_type": "stream",
     "text": [
      "k is bigger than the number of bonds !\n",
      "k is bigger than the number of bonds !\n",
      "k is bigger than the number of bonds !\n"
     ]
    },
    {
     "name": "stderr",
     "output_type": "stream",
     "text": [
      " 35%|█████████████▎                        | 1753/5000 [00:16<00:25, 128.23it/s]"
     ]
    },
    {
     "name": "stdout",
     "output_type": "stream",
     "text": [
      "k is bigger than the number of bonds !\n",
      "k is bigger than the number of bonds !\n",
      "k is bigger than the number of bonds !\n"
     ]
    },
    {
     "name": "stderr",
     "output_type": "stream",
     "text": [
      " 36%|█████████████▌                        | 1780/5000 [00:16<00:25, 127.25it/s]"
     ]
    },
    {
     "name": "stdout",
     "output_type": "stream",
     "text": [
      "k is bigger than the number of bonds !\n",
      "k is bigger than the number of bonds !\n",
      "k is bigger than the number of bonds !\n",
      "k is bigger than the number of bonds !\n",
      "k is bigger than the number of bonds !\n"
     ]
    },
    {
     "name": "stderr",
     "output_type": "stream",
     "text": [
      " 36%|█████████████▊                        | 1820/5000 [00:17<00:24, 128.42it/s]"
     ]
    },
    {
     "name": "stdout",
     "output_type": "stream",
     "text": [
      "k is bigger than the number of bonds !\n",
      "k is bigger than the number of bonds !\n",
      "k is bigger than the number of bonds !\n",
      "k is bigger than the number of bonds !\n",
      "k is bigger than the number of bonds !\n",
      "k is bigger than the number of bonds !\n"
     ]
    },
    {
     "name": "stderr",
     "output_type": "stream",
     "text": [
      " 37%|██████████████▏                       | 1860/5000 [00:17<00:24, 128.40it/s]"
     ]
    },
    {
     "name": "stdout",
     "output_type": "stream",
     "text": [
      "k is bigger than the number of bonds !\n",
      "k is bigger than the number of bonds !\n",
      "k is bigger than the number of bonds !\n"
     ]
    },
    {
     "name": "stderr",
     "output_type": "stream",
     "text": [
      "\r",
      " 37%|██████████████▏                       | 1873/5000 [00:17<00:25, 121.95it/s]"
     ]
    },
    {
     "name": "stdout",
     "output_type": "stream",
     "text": [
      "k is bigger than the number of bonds !\n",
      "k is bigger than the number of bonds !\n",
      "k is bigger than the number of bonds !\n",
      "k is bigger than the number of bonds !\n",
      "k is bigger than the number of bonds !\n",
      "k is bigger than the number of bonds !\n"
     ]
    },
    {
     "name": "stderr",
     "output_type": "stream",
     "text": [
      " 38%|██████████████▍                       | 1898/5000 [00:17<00:28, 107.97it/s]"
     ]
    },
    {
     "name": "stdout",
     "output_type": "stream",
     "text": [
      "k is bigger than the number of bonds !\n",
      "k is bigger than the number of bonds !\n",
      "k is bigger than the number of bonds !\n",
      "k is bigger than the number of bonds !\n"
     ]
    },
    {
     "name": "stderr",
     "output_type": "stream",
     "text": [
      "\r",
      " 38%|██████████████▉                        | 1909/5000 [00:18<00:35, 87.30it/s]"
     ]
    },
    {
     "name": "stdout",
     "output_type": "stream",
     "text": [
      "k is bigger than the number of bonds !\n",
      "k is bigger than the number of bonds !\n",
      "k is bigger than the number of bonds !\n",
      "k is bigger than the number of bonds !\n",
      "k is bigger than the number of bonds !\n",
      "k is bigger than the number of bonds !\n",
      "k is bigger than the number of bonds !\n"
     ]
    },
    {
     "name": "stderr",
     "output_type": "stream",
     "text": [
      " 39%|███████████████▏                       | 1952/5000 [00:18<00:42, 72.11it/s]"
     ]
    },
    {
     "name": "stdout",
     "output_type": "stream",
     "text": [
      "k is bigger than the number of bonds !\n",
      "k is bigger than the number of bonds !\n",
      "k is bigger than the number of bonds !\n"
     ]
    },
    {
     "name": "stderr",
     "output_type": "stream",
     "text": [
      " 40%|███████████████▍                       | 1983/5000 [00:19<00:33, 90.77it/s]"
     ]
    },
    {
     "name": "stdout",
     "output_type": "stream",
     "text": [
      "k is bigger than the number of bonds !\n",
      "k is bigger than the number of bonds !\n",
      "k is bigger than the number of bonds !\n",
      "k is bigger than the number of bonds !\n",
      "k is bigger than the number of bonds !\n"
     ]
    },
    {
     "name": "stderr",
     "output_type": "stream",
     "text": [
      " 40%|███████████████▎                      | 2010/5000 [00:19<00:27, 109.31it/s]"
     ]
    },
    {
     "name": "stdout",
     "output_type": "stream",
     "text": [
      "k is bigger than the number of bonds !\n",
      "k is bigger than the number of bonds !\n",
      "k is bigger than the number of bonds !\n",
      "k is bigger than the number of bonds !\n",
      "k is bigger than the number of bonds !\n",
      "k is bigger than the number of bonds !\n"
     ]
    },
    {
     "name": "stderr",
     "output_type": "stream",
     "text": [
      "\r",
      " 40%|███████████████▊                       | 2022/5000 [00:19<00:30, 99.26it/s]"
     ]
    },
    {
     "name": "stdout",
     "output_type": "stream",
     "text": [
      "k is bigger than the number of bonds !\n",
      "k is bigger than the number of bonds !\n",
      "k is bigger than the number of bonds !\n"
     ]
    },
    {
     "name": "stderr",
     "output_type": "stream",
     "text": [
      " 41%|████████████████                       | 2056/5000 [00:19<00:31, 93.56it/s]"
     ]
    },
    {
     "name": "stdout",
     "output_type": "stream",
     "text": [
      "k is bigger than the number of bonds !\n",
      "k is bigger than the number of bonds !\n",
      "k is bigger than the number of bonds !\n",
      "k is bigger than the number of bonds !\n",
      "k is bigger than the number of bonds !\n",
      "k is bigger than the number of bonds !\n",
      "k is bigger than the number of bonds !\n",
      "k is bigger than the number of bonds !\n",
      "k is bigger than the number of bonds !\n"
     ]
    },
    {
     "name": "stderr",
     "output_type": "stream",
     "text": [
      " 42%|███████████████▊                      | 2082/5000 [00:20<00:27, 108.03it/s]"
     ]
    },
    {
     "name": "stdout",
     "output_type": "stream",
     "text": [
      "k is bigger than the number of bonds !\n",
      "k is bigger than the number of bonds !\n",
      "k is bigger than the number of bonds !\n"
     ]
    },
    {
     "name": "stderr",
     "output_type": "stream",
     "text": [
      " 42%|████████████████                      | 2106/5000 [00:20<00:26, 109.04it/s]"
     ]
    },
    {
     "name": "stdout",
     "output_type": "stream",
     "text": [
      "k is bigger than the number of bonds !\n",
      "k is bigger than the number of bonds !\n",
      "k is bigger than the number of bonds !\n"
     ]
    },
    {
     "name": "stderr",
     "output_type": "stream",
     "text": [
      " 43%|████████████████▋                      | 2138/5000 [00:20<00:32, 86.77it/s]"
     ]
    },
    {
     "name": "stdout",
     "output_type": "stream",
     "text": [
      "k is bigger than the number of bonds !\n",
      "k is bigger than the number of bonds !\n",
      "k is bigger than the number of bonds !\n"
     ]
    },
    {
     "name": "stderr",
     "output_type": "stream",
     "text": [
      " 43%|████████████████▊                      | 2163/5000 [00:21<00:38, 74.65it/s]"
     ]
    },
    {
     "name": "stdout",
     "output_type": "stream",
     "text": [
      "k is bigger than the number of bonds !\n",
      "k is bigger than the number of bonds !\n",
      "k is bigger than the number of bonds !\n"
     ]
    },
    {
     "name": "stderr",
     "output_type": "stream",
     "text": [
      " 44%|█████████████████                      | 2193/5000 [00:21<00:32, 86.08it/s]"
     ]
    },
    {
     "name": "stdout",
     "output_type": "stream",
     "text": [
      "k is bigger than the number of bonds !\n",
      "k is bigger than the number of bonds !\n",
      "k is bigger than the number of bonds !\n",
      "k is bigger than the number of bonds !\n",
      "k is bigger than the number of bonds !\n"
     ]
    },
    {
     "name": "stderr",
     "output_type": "stream",
     "text": [
      " 44%|████████████████▊                     | 2219/5000 [00:21<00:26, 105.89it/s]"
     ]
    },
    {
     "name": "stdout",
     "output_type": "stream",
     "text": [
      "k is bigger than the number of bonds !\n",
      "k is bigger than the number of bonds !\n",
      "k is bigger than the number of bonds !\n",
      "k is bigger than the number of bonds !\n",
      "k is bigger than the number of bonds !\n"
     ]
    },
    {
     "name": "stderr",
     "output_type": "stream",
     "text": [
      " 45%|█████████████████                     | 2245/5000 [00:21<00:23, 115.82it/s]"
     ]
    },
    {
     "name": "stdout",
     "output_type": "stream",
     "text": [
      "k is bigger than the number of bonds !\n",
      "k is bigger than the number of bonds !\n",
      "k is bigger than the number of bonds !\n",
      "k is bigger than the number of bonds !\n",
      "k is bigger than the number of bonds !\n",
      "k is bigger than the number of bonds !\n",
      "k is bigger than the number of bonds !\n"
     ]
    },
    {
     "name": "stderr",
     "output_type": "stream",
     "text": [
      " 45%|█████████████████▎                    | 2270/5000 [00:22<00:23, 117.04it/s]"
     ]
    },
    {
     "name": "stdout",
     "output_type": "stream",
     "text": [
      "k is bigger than the number of bonds !\n",
      "k is bigger than the number of bonds !\n",
      "k is bigger than the number of bonds !\n",
      "k is bigger than the number of bonds !\n",
      "k is bigger than the number of bonds !\n",
      "k is bigger than the number of bonds !\n"
     ]
    },
    {
     "name": "stderr",
     "output_type": "stream",
     "text": [
      " 46%|█████████████████▍                    | 2295/5000 [00:22<00:22, 119.45it/s]"
     ]
    },
    {
     "name": "stdout",
     "output_type": "stream",
     "text": [
      "k is bigger than the number of bonds !\n",
      "k is bigger than the number of bonds !\n",
      "k is bigger than the number of bonds !\n"
     ]
    },
    {
     "name": "stderr",
     "output_type": "stream",
     "text": [
      " 47%|█████████████████▋                    | 2334/5000 [00:22<00:21, 123.49it/s]"
     ]
    },
    {
     "name": "stdout",
     "output_type": "stream",
     "text": [
      "k is bigger than the number of bonds !\n",
      "k is bigger than the number of bonds !\n",
      "k is bigger than the number of bonds !\n",
      "k is bigger than the number of bonds !\n"
     ]
    },
    {
     "name": "stderr",
     "output_type": "stream",
     "text": [
      " 47%|█████████████████▉                    | 2361/5000 [00:22<00:20, 126.65it/s]"
     ]
    },
    {
     "name": "stdout",
     "output_type": "stream",
     "text": [
      "k is bigger than the number of bonds !\n",
      "k is bigger than the number of bonds !\n",
      "k is bigger than the number of bonds !\n",
      "k is bigger than the number of bonds !\n",
      "k is bigger than the number of bonds !\n",
      "k is bigger than the number of bonds !\n",
      "k is bigger than the number of bonds !\n"
     ]
    },
    {
     "name": "stderr",
     "output_type": "stream",
     "text": [
      " 48%|██████████████████▏                   | 2401/5000 [00:23<00:20, 127.15it/s]"
     ]
    },
    {
     "name": "stdout",
     "output_type": "stream",
     "text": [
      "k is bigger than the number of bonds !\n",
      "k is bigger than the number of bonds !\n"
     ]
    },
    {
     "name": "stderr",
     "output_type": "stream",
     "text": [
      " 49%|██████████████████▍                   | 2428/5000 [00:23<00:19, 129.05it/s]"
     ]
    },
    {
     "name": "stdout",
     "output_type": "stream",
     "text": [
      "k is bigger than the number of bonds !\n",
      "k is bigger than the number of bonds !\n",
      "k is bigger than the number of bonds !\n",
      "k is bigger than the number of bonds !\n",
      "k is bigger than the number of bonds !\n",
      "k is bigger than the number of bonds !\n",
      "k is bigger than the number of bonds !\n",
      "k is bigger than the number of bonds !\n",
      "k is bigger than the number of bonds !\n",
      "k is bigger than the number of bonds !\n"
     ]
    },
    {
     "name": "stderr",
     "output_type": "stream",
     "text": [
      " 49%|██████████████████▋                   | 2454/5000 [00:23<00:19, 129.24it/s]"
     ]
    },
    {
     "name": "stdout",
     "output_type": "stream",
     "text": [
      "k is bigger than the number of bonds !\n",
      "k is bigger than the number of bonds !\n",
      "k is bigger than the number of bonds !\n",
      "k is bigger than the number of bonds !\n",
      "k is bigger than the number of bonds !\n"
     ]
    },
    {
     "name": "stderr",
     "output_type": "stream",
     "text": [
      " 50%|██████████████████▉                   | 2493/5000 [00:23<00:19, 127.34it/s]"
     ]
    },
    {
     "name": "stdout",
     "output_type": "stream",
     "text": [
      "k is bigger than the number of bonds !\n"
     ]
    },
    {
     "name": "stderr",
     "output_type": "stream",
     "text": [
      " 50%|███████████████████▏                  | 2519/5000 [00:24<00:19, 126.95it/s]"
     ]
    },
    {
     "name": "stdout",
     "output_type": "stream",
     "text": [
      "k is bigger than the number of bonds !\n",
      "k is bigger than the number of bonds !\n",
      "k is bigger than the number of bonds !\n"
     ]
    },
    {
     "name": "stderr",
     "output_type": "stream",
     "text": [
      " 51%|███████████████████▍                  | 2559/5000 [00:24<00:18, 128.83it/s]"
     ]
    },
    {
     "name": "stdout",
     "output_type": "stream",
     "text": [
      "k is bigger than the number of bonds !\n",
      "k is bigger than the number of bonds !\n",
      "k is bigger than the number of bonds !\n",
      "k is bigger than the number of bonds !\n",
      "k is bigger than the number of bonds !\n",
      "k is bigger than the number of bonds !\n",
      "k is bigger than the number of bonds !\n",
      "k is bigger than the number of bonds !\n",
      "k is bigger than the number of bonds !\n"
     ]
    },
    {
     "name": "stderr",
     "output_type": "stream",
     "text": [
      " 52%|███████████████████▋                  | 2585/5000 [00:24<00:19, 126.61it/s]"
     ]
    },
    {
     "name": "stdout",
     "output_type": "stream",
     "text": [
      "k is bigger than the number of bonds !\n",
      "k is bigger than the number of bonds !\n",
      "k is bigger than the number of bonds !\n",
      "k is bigger than the number of bonds !\n",
      "k is bigger than the number of bonds !\n"
     ]
    },
    {
     "name": "stderr",
     "output_type": "stream",
     "text": [
      " 52%|███████████████████▉                  | 2624/5000 [00:24<00:18, 125.93it/s]"
     ]
    },
    {
     "name": "stdout",
     "output_type": "stream",
     "text": [
      "k is bigger than the number of bonds !\n",
      "k is bigger than the number of bonds !\n",
      "k is bigger than the number of bonds !\n"
     ]
    },
    {
     "name": "stderr",
     "output_type": "stream",
     "text": [
      " 53%|████████████████████▏                 | 2650/5000 [00:25<00:18, 125.27it/s]"
     ]
    },
    {
     "name": "stdout",
     "output_type": "stream",
     "text": [
      "k is bigger than the number of bonds !\n",
      "k is bigger than the number of bonds !\n",
      "k is bigger than the number of bonds !\n",
      "k is bigger than the number of bonds !\n",
      "k is bigger than the number of bonds !\n"
     ]
    },
    {
     "name": "stderr",
     "output_type": "stream",
     "text": [
      " 54%|████████████████████▎                 | 2676/5000 [00:25<00:18, 125.47it/s]"
     ]
    },
    {
     "name": "stdout",
     "output_type": "stream",
     "text": [
      "k is bigger than the number of bonds !\n"
     ]
    },
    {
     "name": "stderr",
     "output_type": "stream",
     "text": [
      " 54%|████████████████████▌                 | 2703/5000 [00:25<00:17, 128.46it/s]"
     ]
    },
    {
     "name": "stdout",
     "output_type": "stream",
     "text": [
      "k is bigger than the number of bonds !\n",
      "k is bigger than the number of bonds !\n",
      "k is bigger than the number of bonds !\n",
      "k is bigger than the number of bonds !\n"
     ]
    },
    {
     "name": "stderr",
     "output_type": "stream",
     "text": [
      " 57%|█████████████████████▍                | 2827/5000 [00:26<00:18, 119.75it/s]"
     ]
    },
    {
     "name": "stdout",
     "output_type": "stream",
     "text": [
      "k is bigger than the number of bonds !\n"
     ]
    },
    {
     "name": "stderr",
     "output_type": "stream",
     "text": [
      " 74%|████████████████████████████          | 3687/5000 [00:34<00:10, 122.43it/s]"
     ]
    },
    {
     "name": "stdout",
     "output_type": "stream",
     "text": [
      "k is bigger than the number of bonds !\n",
      "k is bigger than the number of bonds !\n"
     ]
    },
    {
     "name": "stderr",
     "output_type": "stream",
     "text": [
      " 75%|████████████████████████████▍         | 3739/5000 [00:34<00:10, 122.20it/s]"
     ]
    },
    {
     "name": "stdout",
     "output_type": "stream",
     "text": [
      "k is bigger than the number of bonds !\n"
     ]
    },
    {
     "name": "stderr",
     "output_type": "stream",
     "text": [
      " 82%|███████████████████████████████▉       | 4096/5000 [00:38<00:09, 92.85it/s]"
     ]
    },
    {
     "name": "stdout",
     "output_type": "stream",
     "text": [
      "k is bigger than the number of bonds !\n"
     ]
    },
    {
     "name": "stderr",
     "output_type": "stream",
     "text": [
      " 83%|████████████████████████████████▏      | 4128/5000 [00:39<00:08, 98.46it/s]"
     ]
    },
    {
     "name": "stdout",
     "output_type": "stream",
     "text": [
      "k is bigger than the number of bonds !\n"
     ]
    },
    {
     "name": "stderr",
     "output_type": "stream",
     "text": [
      " 83%|███████████████████████████████▋      | 4162/5000 [00:39<00:08, 102.61it/s]"
     ]
    },
    {
     "name": "stdout",
     "output_type": "stream",
     "text": [
      "k is bigger than the number of bonds !\n"
     ]
    },
    {
     "name": "stderr",
     "output_type": "stream",
     "text": [
      " 94%|███████████████████████████████████▋  | 4698/5000 [00:44<00:02, 112.12it/s]"
     ]
    },
    {
     "name": "stdout",
     "output_type": "stream",
     "text": [
      "k is bigger than the number of bonds !\n",
      "k is bigger than the number of bonds !\n"
     ]
    },
    {
     "name": "stderr",
     "output_type": "stream",
     "text": [
      "100%|█████████████████████████████████████▉| 4992/5000 [00:47<00:00, 109.46it/s]"
     ]
    },
    {
     "name": "stdout",
     "output_type": "stream",
     "text": [
      "k is bigger than the number of bonds !\n",
      "k is bigger than the number of bonds !\n",
      "k is bigger than the number of bonds !\n"
     ]
    },
    {
     "name": "stderr",
     "output_type": "stream",
     "text": [
      "100%|██████████████████████████████████████| 5000/5000 [00:47<00:00, 104.73it/s]\n"
     ]
    },
    {
     "name": "stdout",
     "output_type": "stream",
     "text": [
      "GEF GNNExplainer :  0.14980596530722834\n"
     ]
    },
    {
     "name": "stderr",
     "output_type": "stream",
     "text": [
      "  0%|                                        | 13/5000 [00:00<00:38, 129.68it/s]"
     ]
    },
    {
     "name": "stdout",
     "output_type": "stream",
     "text": [
      "k is bigger than the number of bonds !\n"
     ]
    },
    {
     "name": "stderr",
     "output_type": "stream",
     "text": [
      "\r",
      "  1%|▏                                       | 26/5000 [00:00<00:39, 126.67it/s]"
     ]
    },
    {
     "name": "stdout",
     "output_type": "stream",
     "text": [
      "k is bigger than the number of bonds !\n"
     ]
    },
    {
     "name": "stderr",
     "output_type": "stream",
     "text": [
      "  2%|▊                                        | 99/5000 [00:00<00:49, 98.66it/s]"
     ]
    },
    {
     "name": "stdout",
     "output_type": "stream",
     "text": [
      "k is bigger than the number of bonds !\n",
      "k is bigger than the number of bonds !\n"
     ]
    },
    {
     "name": "stderr",
     "output_type": "stream",
     "text": [
      "  4%|█▍                                     | 178/5000 [00:01<00:46, 104.43it/s]"
     ]
    },
    {
     "name": "stdout",
     "output_type": "stream",
     "text": [
      "k is bigger than the number of bonds !\n",
      "k is bigger than the number of bonds !\n"
     ]
    },
    {
     "name": "stderr",
     "output_type": "stream",
     "text": [
      "  4%|█▊                                      | 221/5000 [00:02<00:49, 97.05it/s]"
     ]
    },
    {
     "name": "stdout",
     "output_type": "stream",
     "text": [
      "k is bigger than the number of bonds !\n",
      "k is bigger than the number of bonds !\n",
      "k is bigger than the number of bonds !\n",
      "k is bigger than the number of bonds !\n"
     ]
    },
    {
     "name": "stderr",
     "output_type": "stream",
     "text": [
      "  5%|█▉                                     | 256/5000 [00:02<00:45, 103.23it/s]"
     ]
    },
    {
     "name": "stdout",
     "output_type": "stream",
     "text": [
      "k is bigger than the number of bonds !\n",
      "k is bigger than the number of bonds !\n",
      "k is bigger than the number of bonds !\n"
     ]
    },
    {
     "name": "stderr",
     "output_type": "stream",
     "text": [
      "  6%|██▏                                    | 279/5000 [00:02<00:45, 104.53it/s]"
     ]
    },
    {
     "name": "stdout",
     "output_type": "stream",
     "text": [
      "k is bigger than the number of bonds !\n"
     ]
    },
    {
     "name": "stderr",
     "output_type": "stream",
     "text": [
      "  6%|██▎                                    | 301/5000 [00:02<00:45, 103.68it/s]"
     ]
    },
    {
     "name": "stdout",
     "output_type": "stream",
     "text": [
      "k is bigger than the number of bonds !\n"
     ]
    },
    {
     "name": "stderr",
     "output_type": "stream",
     "text": [
      "  7%|██▉                                    | 372/5000 [00:03<00:39, 116.27it/s]"
     ]
    },
    {
     "name": "stdout",
     "output_type": "stream",
     "text": [
      "k is bigger than the number of bonds !\n",
      "k is bigger than the number of bonds !\n",
      "k is bigger than the number of bonds !\n",
      "k is bigger than the number of bonds !\n"
     ]
    },
    {
     "name": "stderr",
     "output_type": "stream",
     "text": [
      "  8%|███▏                                   | 412/5000 [00:03<00:40, 113.26it/s]"
     ]
    },
    {
     "name": "stdout",
     "output_type": "stream",
     "text": [
      "k is bigger than the number of bonds !\n",
      "k is bigger than the number of bonds !\n",
      "k is bigger than the number of bonds !\n",
      "k is bigger than the number of bonds !\n"
     ]
    },
    {
     "name": "stderr",
     "output_type": "stream",
     "text": [
      "  9%|███▍                                   | 435/5000 [00:04<00:43, 104.93it/s]"
     ]
    },
    {
     "name": "stdout",
     "output_type": "stream",
     "text": [
      "k is bigger than the number of bonds !\n",
      "k is bigger than the number of bonds !\n",
      "k is bigger than the number of bonds !\n"
     ]
    },
    {
     "name": "stderr",
     "output_type": "stream",
     "text": [
      "  9%|███▌                                   | 461/5000 [00:04<00:40, 112.93it/s]"
     ]
    },
    {
     "name": "stdout",
     "output_type": "stream",
     "text": [
      "k is bigger than the number of bonds !\n",
      "k is bigger than the number of bonds !\n",
      "k is bigger than the number of bonds !\n"
     ]
    },
    {
     "name": "stderr",
     "output_type": "stream",
     "text": [
      " 10%|███▉                                   | 508/5000 [00:04<00:41, 107.96it/s]"
     ]
    },
    {
     "name": "stdout",
     "output_type": "stream",
     "text": [
      "k is bigger than the number of bonds !\n",
      "k is bigger than the number of bonds !\n",
      "k is bigger than the number of bonds !\n"
     ]
    },
    {
     "name": "stderr",
     "output_type": "stream",
     "text": [
      " 11%|████▎                                  | 553/5000 [00:05<00:43, 101.98it/s]"
     ]
    },
    {
     "name": "stdout",
     "output_type": "stream",
     "text": [
      "k is bigger than the number of bonds !\n",
      "k is bigger than the number of bonds !\n",
      "k is bigger than the number of bonds !\n",
      "k is bigger than the number of bonds !\n"
     ]
    },
    {
     "name": "stderr",
     "output_type": "stream",
     "text": [
      " 12%|████▍                                  | 576/5000 [00:05<00:42, 103.35it/s]"
     ]
    },
    {
     "name": "stdout",
     "output_type": "stream",
     "text": [
      "k is bigger than the number of bonds !\n",
      "k is bigger than the number of bonds !\n"
     ]
    },
    {
     "name": "stderr",
     "output_type": "stream",
     "text": [
      " 12%|████▊                                   | 598/5000 [00:05<00:44, 98.62it/s]"
     ]
    },
    {
     "name": "stdout",
     "output_type": "stream",
     "text": [
      "k is bigger than the number of bonds !\n",
      "k is bigger than the number of bonds !\n",
      "k is bigger than the number of bonds !\n"
     ]
    },
    {
     "name": "stderr",
     "output_type": "stream",
     "text": [
      " 12%|████▊                                  | 621/5000 [00:05<00:41, 104.82it/s]"
     ]
    },
    {
     "name": "stdout",
     "output_type": "stream",
     "text": [
      "k is bigger than the number of bonds !\n",
      "k is bigger than the number of bonds !\n",
      "k is bigger than the number of bonds !\n",
      "k is bigger than the number of bonds !\n",
      "k is bigger than the number of bonds !\n",
      "k is bigger than the number of bonds !\n",
      "k is bigger than the number of bonds !\n",
      "k is bigger than the number of bonds !\n"
     ]
    },
    {
     "name": "stderr",
     "output_type": "stream",
     "text": [
      " 13%|█████▏                                  | 653/5000 [00:06<00:46, 94.11it/s]"
     ]
    },
    {
     "name": "stdout",
     "output_type": "stream",
     "text": [
      "k is bigger than the number of bonds !\n"
     ]
    },
    {
     "name": "stderr",
     "output_type": "stream",
     "text": [
      " 13%|█████▍                                  | 674/5000 [00:06<00:44, 97.51it/s]"
     ]
    },
    {
     "name": "stdout",
     "output_type": "stream",
     "text": [
      "k is bigger than the number of bonds !\n",
      "k is bigger than the number of bonds !\n",
      "k is bigger than the number of bonds !\n",
      "k is bigger than the number of bonds !\n"
     ]
    },
    {
     "name": "stderr",
     "output_type": "stream",
     "text": [
      " 14%|█████▍                                 | 698/5000 [00:06<00:39, 107.78it/s]"
     ]
    },
    {
     "name": "stdout",
     "output_type": "stream",
     "text": [
      "k is bigger than the number of bonds !\n",
      "k is bigger than the number of bonds !\n",
      "k is bigger than the number of bonds !\n",
      "k is bigger than the number of bonds !\n",
      "k is bigger than the number of bonds !\n",
      "k is bigger than the number of bonds !\n"
     ]
    },
    {
     "name": "stderr",
     "output_type": "stream",
     "text": [
      " 14%|█████▌                                 | 721/5000 [00:06<00:40, 105.98it/s]"
     ]
    },
    {
     "name": "stdout",
     "output_type": "stream",
     "text": [
      "k is bigger than the number of bonds !\n",
      "k is bigger than the number of bonds !\n",
      "k is bigger than the number of bonds !\n",
      "k is bigger than the number of bonds !\n",
      "k is bigger than the number of bonds !\n",
      "k is bigger than the number of bonds !\n",
      "k is bigger than the number of bonds !\n",
      "k is bigger than the number of bonds !\n",
      "k is bigger than the number of bonds !\n",
      "k is bigger than the number of bonds !\n",
      "k is bigger than the number of bonds !\n",
      "k is bigger than the number of bonds !\n",
      "k is bigger than the number of bonds !\n",
      "k is bigger than the number of bonds !\n",
      "k is bigger than the number of bonds !\n"
     ]
    },
    {
     "name": "stderr",
     "output_type": "stream",
     "text": [
      " 15%|█████▊                                 | 747/5000 [00:07<00:36, 116.21it/s]"
     ]
    },
    {
     "name": "stdout",
     "output_type": "stream",
     "text": [
      "k is bigger than the number of bonds !\n",
      "k is bigger than the number of bonds !\n",
      "k is bigger than the number of bonds !\n",
      "k is bigger than the number of bonds !\n",
      "k is bigger than the number of bonds !\n",
      "k is bigger than the number of bonds !\n",
      "k is bigger than the number of bonds !\n",
      "k is bigger than the number of bonds !\n",
      "k is bigger than the number of bonds !\n"
     ]
    },
    {
     "name": "stderr",
     "output_type": "stream",
     "text": [
      " 16%|██████▏                                | 795/5000 [00:07<00:37, 112.33it/s]"
     ]
    },
    {
     "name": "stdout",
     "output_type": "stream",
     "text": [
      "k is bigger than the number of bonds !\n",
      "k is bigger than the number of bonds !\n",
      "k is bigger than the number of bonds !\n",
      "k is bigger than the number of bonds !\n"
     ]
    },
    {
     "name": "stderr",
     "output_type": "stream",
     "text": [
      " 16%|██████▌                                 | 817/5000 [00:07<00:51, 81.70it/s]"
     ]
    },
    {
     "name": "stdout",
     "output_type": "stream",
     "text": [
      "k is bigger than the number of bonds !\n"
     ]
    },
    {
     "name": "stderr",
     "output_type": "stream",
     "text": [
      " 17%|██████▋                                 | 840/5000 [00:08<00:45, 91.62it/s]"
     ]
    },
    {
     "name": "stdout",
     "output_type": "stream",
     "text": [
      "k is bigger than the number of bonds !\n",
      "k is bigger than the number of bonds !\n"
     ]
    },
    {
     "name": "stderr",
     "output_type": "stream",
     "text": [
      " 17%|██████▉                                 | 863/5000 [00:08<00:43, 95.64it/s]"
     ]
    },
    {
     "name": "stdout",
     "output_type": "stream",
     "text": [
      "k is bigger than the number of bonds !\n",
      "k is bigger than the number of bonds !\n"
     ]
    },
    {
     "name": "stderr",
     "output_type": "stream",
     "text": [
      " 18%|██████▉                                | 897/5000 [00:08<00:39, 104.74it/s]"
     ]
    },
    {
     "name": "stdout",
     "output_type": "stream",
     "text": [
      "k is bigger than the number of bonds !\n",
      "k is bigger than the number of bonds !\n",
      "k is bigger than the number of bonds !\n",
      "k is bigger than the number of bonds !\n"
     ]
    },
    {
     "name": "stderr",
     "output_type": "stream",
     "text": [
      " 19%|███████▎                               | 930/5000 [00:08<00:39, 102.49it/s]"
     ]
    },
    {
     "name": "stdout",
     "output_type": "stream",
     "text": [
      "k is bigger than the number of bonds !\n",
      "k is bigger than the number of bonds !\n",
      "k is bigger than the number of bonds !\n",
      "k is bigger than the number of bonds !\n",
      "k is bigger than the number of bonds !\n",
      "k is bigger than the number of bonds !\n"
     ]
    },
    {
     "name": "stderr",
     "output_type": "stream",
     "text": [
      " 19%|███████▍                               | 952/5000 [00:09<00:40, 100.88it/s]"
     ]
    },
    {
     "name": "stdout",
     "output_type": "stream",
     "text": [
      "k is bigger than the number of bonds !\n",
      "k is bigger than the number of bonds !\n",
      "k is bigger than the number of bonds !\n",
      "k is bigger than the number of bonds !\n",
      "k is bigger than the number of bonds !\n",
      "k is bigger than the number of bonds !\n"
     ]
    },
    {
     "name": "stderr",
     "output_type": "stream",
     "text": [
      " 20%|███████▋                               | 985/5000 [00:09<00:39, 101.84it/s]"
     ]
    },
    {
     "name": "stdout",
     "output_type": "stream",
     "text": [
      "k is bigger than the number of bonds !\n",
      "k is bigger than the number of bonds !\n"
     ]
    },
    {
     "name": "stderr",
     "output_type": "stream",
     "text": [
      " 20%|███████▋                              | 1019/5000 [00:09<00:37, 107.54it/s]"
     ]
    },
    {
     "name": "stdout",
     "output_type": "stream",
     "text": [
      "k is bigger than the number of bonds !\n",
      "k is bigger than the number of bonds !\n",
      "k is bigger than the number of bonds !\n",
      "k is bigger than the number of bonds !\n"
     ]
    },
    {
     "name": "stderr",
     "output_type": "stream",
     "text": [
      " 21%|███████▉                              | 1044/5000 [00:10<00:36, 109.52it/s]"
     ]
    },
    {
     "name": "stdout",
     "output_type": "stream",
     "text": [
      "k is bigger than the number of bonds !\n",
      "k is bigger than the number of bonds !\n",
      "k is bigger than the number of bonds !\n",
      "k is bigger than the number of bonds !\n",
      "k is bigger than the number of bonds !\n",
      "k is bigger than the number of bonds !\n"
     ]
    },
    {
     "name": "stderr",
     "output_type": "stream",
     "text": [
      " 21%|████████                              | 1068/5000 [00:10<00:34, 112.80it/s]"
     ]
    },
    {
     "name": "stdout",
     "output_type": "stream",
     "text": [
      "k is bigger than the number of bonds !\n",
      "k is bigger than the number of bonds !\n",
      "k is bigger than the number of bonds !\n"
     ]
    },
    {
     "name": "stderr",
     "output_type": "stream",
     "text": [
      " 22%|████████▍                             | 1106/5000 [00:10<00:32, 118.94it/s]"
     ]
    },
    {
     "name": "stdout",
     "output_type": "stream",
     "text": [
      "k is bigger than the number of bonds !\n",
      "k is bigger than the number of bonds !\n",
      "k is bigger than the number of bonds !\n",
      "k is bigger than the number of bonds !\n",
      "k is bigger than the number of bonds !\n",
      "k is bigger than the number of bonds !\n"
     ]
    },
    {
     "name": "stderr",
     "output_type": "stream",
     "text": [
      " 23%|████████▌                             | 1130/5000 [00:10<00:34, 113.62it/s]"
     ]
    },
    {
     "name": "stdout",
     "output_type": "stream",
     "text": [
      "k is bigger than the number of bonds !\n",
      "k is bigger than the number of bonds !\n",
      "k is bigger than the number of bonds !\n",
      "k is bigger than the number of bonds !\n"
     ]
    },
    {
     "name": "stderr",
     "output_type": "stream",
     "text": [
      " 23%|████████▊                             | 1154/5000 [00:10<00:34, 110.13it/s]"
     ]
    },
    {
     "name": "stdout",
     "output_type": "stream",
     "text": [
      "k is bigger than the number of bonds !\n",
      "k is bigger than the number of bonds !\n",
      "k is bigger than the number of bonds !\n"
     ]
    },
    {
     "name": "stderr",
     "output_type": "stream",
     "text": [
      " 24%|████████▉                             | 1179/5000 [00:11<00:33, 113.04it/s]"
     ]
    },
    {
     "name": "stdout",
     "output_type": "stream",
     "text": [
      "k is bigger than the number of bonds !\n",
      "k is bigger than the number of bonds !\n",
      "k is bigger than the number of bonds !\n"
     ]
    },
    {
     "name": "stderr",
     "output_type": "stream",
     "text": [
      " 25%|█████████▎                            | 1226/5000 [00:11<00:35, 106.71it/s]"
     ]
    },
    {
     "name": "stdout",
     "output_type": "stream",
     "text": [
      "k is bigger than the number of bonds !\n",
      "k is bigger than the number of bonds !\n"
     ]
    },
    {
     "name": "stderr",
     "output_type": "stream",
     "text": [
      " 25%|█████████▌                            | 1259/5000 [00:11<00:36, 101.96it/s]"
     ]
    },
    {
     "name": "stdout",
     "output_type": "stream",
     "text": [
      "k is bigger than the number of bonds !\n",
      "k is bigger than the number of bonds !\n"
     ]
    },
    {
     "name": "stderr",
     "output_type": "stream",
     "text": [
      " 26%|█████████▉                             | 1281/5000 [00:12<00:37, 99.87it/s]"
     ]
    },
    {
     "name": "stdout",
     "output_type": "stream",
     "text": [
      "k is bigger than the number of bonds !\n",
      "k is bigger than the number of bonds !\n"
     ]
    },
    {
     "name": "stderr",
     "output_type": "stream",
     "text": [
      " 26%|█████████▉                            | 1306/5000 [00:12<00:33, 111.65it/s]"
     ]
    },
    {
     "name": "stdout",
     "output_type": "stream",
     "text": [
      "k is bigger than the number of bonds !\n",
      "k is bigger than the number of bonds !\n",
      "k is bigger than the number of bonds !\n",
      "k is bigger than the number of bonds !\n",
      "k is bigger than the number of bonds !\n"
     ]
    },
    {
     "name": "stderr",
     "output_type": "stream",
     "text": [
      " 27%|██████████▏                           | 1343/5000 [00:12<00:33, 108.60it/s]"
     ]
    },
    {
     "name": "stdout",
     "output_type": "stream",
     "text": [
      "k is bigger than the number of bonds !\n",
      "k is bigger than the number of bonds !\n"
     ]
    },
    {
     "name": "stderr",
     "output_type": "stream",
     "text": [
      " 28%|██████████▍                           | 1376/5000 [00:13<00:35, 103.02it/s]"
     ]
    },
    {
     "name": "stdout",
     "output_type": "stream",
     "text": [
      "k is bigger than the number of bonds !\n",
      "k is bigger than the number of bonds !\n",
      "k is bigger than the number of bonds !\n",
      "k is bigger than the number of bonds !\n"
     ]
    },
    {
     "name": "stderr",
     "output_type": "stream",
     "text": [
      " 28%|██████████▌                           | 1398/5000 [00:13<00:35, 101.70it/s]"
     ]
    },
    {
     "name": "stdout",
     "output_type": "stream",
     "text": [
      "k is bigger than the number of bonds !\n",
      "k is bigger than the number of bonds !\n"
     ]
    },
    {
     "name": "stderr",
     "output_type": "stream",
     "text": [
      " 29%|██████████▉                           | 1431/5000 [00:13<00:35, 100.87it/s]"
     ]
    },
    {
     "name": "stdout",
     "output_type": "stream",
     "text": [
      "k is bigger than the number of bonds !\n",
      "k is bigger than the number of bonds !\n"
     ]
    },
    {
     "name": "stderr",
     "output_type": "stream",
     "text": [
      " 29%|███████████▏                          | 1465/5000 [00:13<00:33, 105.29it/s]"
     ]
    },
    {
     "name": "stdout",
     "output_type": "stream",
     "text": [
      "k is bigger than the number of bonds !\n",
      "k is bigger than the number of bonds !\n",
      "k is bigger than the number of bonds !\n"
     ]
    },
    {
     "name": "stderr",
     "output_type": "stream",
     "text": [
      " 30%|███████████▌                          | 1514/5000 [00:14<00:32, 108.51it/s]"
     ]
    },
    {
     "name": "stdout",
     "output_type": "stream",
     "text": [
      "k is bigger than the number of bonds !\n"
     ]
    },
    {
     "name": "stderr",
     "output_type": "stream",
     "text": [
      " 31%|████████████▏                          | 1568/5000 [00:14<00:34, 98.40it/s]"
     ]
    },
    {
     "name": "stdout",
     "output_type": "stream",
     "text": [
      "k is bigger than the number of bonds !\n",
      "k is bigger than the number of bonds !\n",
      "k is bigger than the number of bonds !\n",
      "k is bigger than the number of bonds !\n"
     ]
    },
    {
     "name": "stderr",
     "output_type": "stream",
     "text": [
      " 32%|████████████▍                          | 1588/5000 [00:15<00:34, 98.17it/s]"
     ]
    },
    {
     "name": "stdout",
     "output_type": "stream",
     "text": [
      "k is bigger than the number of bonds !\n",
      "k is bigger than the number of bonds !\n"
     ]
    },
    {
     "name": "stderr",
     "output_type": "stream",
     "text": [
      " 33%|████████████▋                          | 1629/5000 [00:15<00:35, 95.17it/s]"
     ]
    },
    {
     "name": "stdout",
     "output_type": "stream",
     "text": [
      "k is bigger than the number of bonds !\n",
      "k is bigger than the number of bonds !\n",
      "k is bigger than the number of bonds !\n",
      "k is bigger than the number of bonds !\n",
      "k is bigger than the number of bonds !\n",
      "k is bigger than the number of bonds !\n"
     ]
    },
    {
     "name": "stderr",
     "output_type": "stream",
     "text": [
      " 34%|████████████▊                         | 1679/5000 [00:16<00:29, 111.21it/s]"
     ]
    },
    {
     "name": "stdout",
     "output_type": "stream",
     "text": [
      "k is bigger than the number of bonds !\n"
     ]
    },
    {
     "name": "stderr",
     "output_type": "stream",
     "text": [
      " 34%|████████████▉                         | 1704/5000 [00:16<00:28, 115.64it/s]"
     ]
    },
    {
     "name": "stdout",
     "output_type": "stream",
     "text": [
      "k is bigger than the number of bonds !\n",
      "k is bigger than the number of bonds !\n"
     ]
    },
    {
     "name": "stderr",
     "output_type": "stream",
     "text": [
      " 35%|█████████████▏                        | 1729/5000 [00:16<00:27, 117.51it/s]"
     ]
    },
    {
     "name": "stdout",
     "output_type": "stream",
     "text": [
      "k is bigger than the number of bonds !\n"
     ]
    },
    {
     "name": "stderr",
     "output_type": "stream",
     "text": [
      " 35%|█████████████▎                        | 1753/5000 [00:16<00:28, 113.10it/s]"
     ]
    },
    {
     "name": "stdout",
     "output_type": "stream",
     "text": [
      "k is bigger than the number of bonds !\n",
      "k is bigger than the number of bonds !\n",
      "k is bigger than the number of bonds !\n"
     ]
    },
    {
     "name": "stderr",
     "output_type": "stream",
     "text": [
      " 36%|█████████████▍                        | 1776/5000 [00:16<00:30, 104.21it/s]"
     ]
    },
    {
     "name": "stdout",
     "output_type": "stream",
     "text": [
      "k is bigger than the number of bonds !\n",
      "k is bigger than the number of bonds !\n",
      "k is bigger than the number of bonds !\n",
      "k is bigger than the number of bonds !\n"
     ]
    },
    {
     "name": "stderr",
     "output_type": "stream",
     "text": [
      " 36%|█████████████▋                        | 1801/5000 [00:17<00:28, 113.48it/s]"
     ]
    },
    {
     "name": "stdout",
     "output_type": "stream",
     "text": [
      "k is bigger than the number of bonds !\n",
      "k is bigger than the number of bonds !\n"
     ]
    },
    {
     "name": "stderr",
     "output_type": "stream",
     "text": [
      " 37%|█████████████▉                        | 1837/5000 [00:17<00:28, 111.39it/s]"
     ]
    },
    {
     "name": "stdout",
     "output_type": "stream",
     "text": [
      "k is bigger than the number of bonds !\n",
      "k is bigger than the number of bonds !\n",
      "k is bigger than the number of bonds !\n",
      "k is bigger than the number of bonds !\n",
      "k is bigger than the number of bonds !\n",
      "k is bigger than the number of bonds !\n"
     ]
    },
    {
     "name": "stderr",
     "output_type": "stream",
     "text": [
      " 37%|██████████████▏                       | 1861/5000 [00:17<00:28, 111.66it/s]"
     ]
    },
    {
     "name": "stdout",
     "output_type": "stream",
     "text": [
      "k is bigger than the number of bonds !\n",
      "k is bigger than the number of bonds !\n"
     ]
    },
    {
     "name": "stderr",
     "output_type": "stream",
     "text": [
      " 38%|██████████████▎                       | 1885/5000 [00:17<00:27, 111.88it/s]"
     ]
    },
    {
     "name": "stdout",
     "output_type": "stream",
     "text": [
      "k is bigger than the number of bonds !\n",
      "k is bigger than the number of bonds !\n",
      "k is bigger than the number of bonds !\n",
      "k is bigger than the number of bonds !\n",
      "k is bigger than the number of bonds !\n",
      "k is bigger than the number of bonds !\n"
     ]
    },
    {
     "name": "stderr",
     "output_type": "stream",
     "text": [
      "\r",
      " 38%|██████████████▊                        | 1897/5000 [00:18<00:33, 91.62it/s]"
     ]
    },
    {
     "name": "stdout",
     "output_type": "stream",
     "text": [
      "k is bigger than the number of bonds !\n",
      "k is bigger than the number of bonds !\n",
      "k is bigger than the number of bonds !\n"
     ]
    },
    {
     "name": "stderr",
     "output_type": "stream",
     "text": [
      " 38%|██████████████▉                        | 1918/5000 [00:18<00:33, 93.13it/s]"
     ]
    },
    {
     "name": "stdout",
     "output_type": "stream",
     "text": [
      "k is bigger than the number of bonds !\n",
      "k is bigger than the number of bonds !\n",
      "k is bigger than the number of bonds !\n",
      "k is bigger than the number of bonds !\n",
      "k is bigger than the number of bonds !\n",
      "k is bigger than the number of bonds !\n",
      "k is bigger than the number of bonds !\n",
      "k is bigger than the number of bonds !\n"
     ]
    },
    {
     "name": "stderr",
     "output_type": "stream",
     "text": [
      " 39%|███████████████▏                       | 1951/5000 [00:18<00:31, 97.72it/s]"
     ]
    },
    {
     "name": "stdout",
     "output_type": "stream",
     "text": [
      "k is bigger than the number of bonds !\n",
      "k is bigger than the number of bonds !\n",
      "k is bigger than the number of bonds !\n"
     ]
    },
    {
     "name": "stderr",
     "output_type": "stream",
     "text": [
      " 40%|███████████████                       | 1988/5000 [00:18<00:27, 109.96it/s]"
     ]
    },
    {
     "name": "stdout",
     "output_type": "stream",
     "text": [
      "k is bigger than the number of bonds !\n",
      "k is bigger than the number of bonds !\n",
      "k is bigger than the number of bonds !\n",
      "k is bigger than the number of bonds !\n",
      "k is bigger than the number of bonds !\n"
     ]
    },
    {
     "name": "stderr",
     "output_type": "stream",
     "text": [
      " 40%|███████████████▎                      | 2015/5000 [00:19<00:25, 118.61it/s]"
     ]
    },
    {
     "name": "stdout",
     "output_type": "stream",
     "text": [
      "k is bigger than the number of bonds !\n",
      "k is bigger than the number of bonds !\n",
      "k is bigger than the number of bonds !\n",
      "k is bigger than the number of bonds !\n",
      "k is bigger than the number of bonds !\n",
      "k is bigger than the number of bonds !\n",
      "k is bigger than the number of bonds !\n"
     ]
    },
    {
     "name": "stderr",
     "output_type": "stream",
     "text": [
      " 41%|███████████████▌                      | 2042/5000 [00:19<00:25, 113.98it/s]"
     ]
    },
    {
     "name": "stdout",
     "output_type": "stream",
     "text": [
      "k is bigger than the number of bonds !\n",
      "k is bigger than the number of bonds !\n",
      "k is bigger than the number of bonds !\n"
     ]
    },
    {
     "name": "stderr",
     "output_type": "stream",
     "text": [
      "\r",
      " 41%|███████████████▌                      | 2055/5000 [00:19<00:25, 117.00it/s]"
     ]
    },
    {
     "name": "stdout",
     "output_type": "stream",
     "text": [
      "k is bigger than the number of bonds !\n",
      "k is bigger than the number of bonds !\n",
      "k is bigger than the number of bonds !\n",
      "k is bigger than the number of bonds !\n",
      "k is bigger than the number of bonds !\n",
      "k is bigger than the number of bonds !\n",
      "k is bigger than the number of bonds !\n",
      "k is bigger than the number of bonds !\n",
      "k is bigger than the number of bonds !\n"
     ]
    },
    {
     "name": "stderr",
     "output_type": "stream",
     "text": [
      " 42%|███████████████▉                      | 2092/5000 [00:19<00:25, 115.05it/s]"
     ]
    },
    {
     "name": "stdout",
     "output_type": "stream",
     "text": [
      "k is bigger than the number of bonds !\n",
      "k is bigger than the number of bonds !\n"
     ]
    },
    {
     "name": "stderr",
     "output_type": "stream",
     "text": [
      " 42%|████████████████                      | 2116/5000 [00:20<00:25, 112.02it/s]"
     ]
    },
    {
     "name": "stdout",
     "output_type": "stream",
     "text": [
      "k is bigger than the number of bonds !\n",
      "k is bigger than the number of bonds !\n",
      "k is bigger than the number of bonds !\n"
     ]
    },
    {
     "name": "stderr",
     "output_type": "stream",
     "text": [
      " 43%|████████████████▎                     | 2139/5000 [00:20<00:27, 103.62it/s]"
     ]
    },
    {
     "name": "stdout",
     "output_type": "stream",
     "text": [
      "k is bigger than the number of bonds !\n",
      "k is bigger than the number of bonds !\n",
      "k is bigger than the number of bonds !\n"
     ]
    },
    {
     "name": "stderr",
     "output_type": "stream",
     "text": [
      " 43%|████████████████▍                     | 2162/5000 [00:20<00:27, 102.77it/s]"
     ]
    },
    {
     "name": "stdout",
     "output_type": "stream",
     "text": [
      "k is bigger than the number of bonds !\n",
      "k is bigger than the number of bonds !\n",
      "k is bigger than the number of bonds !\n"
     ]
    },
    {
     "name": "stderr",
     "output_type": "stream",
     "text": [
      " 44%|████████████████▋                     | 2196/5000 [00:20<00:25, 107.85it/s]"
     ]
    },
    {
     "name": "stdout",
     "output_type": "stream",
     "text": [
      "k is bigger than the number of bonds !\n",
      "k is bigger than the number of bonds !\n",
      "k is bigger than the number of bonds !\n",
      "k is bigger than the number of bonds !\n",
      "k is bigger than the number of bonds !\n"
     ]
    },
    {
     "name": "stderr",
     "output_type": "stream",
     "text": [
      " 44%|████████████████▉                     | 2221/5000 [00:21<00:24, 115.31it/s]"
     ]
    },
    {
     "name": "stdout",
     "output_type": "stream",
     "text": [
      "k is bigger than the number of bonds !\n",
      "k is bigger than the number of bonds !\n",
      "k is bigger than the number of bonds !\n",
      "k is bigger than the number of bonds !\n",
      "k is bigger than the number of bonds !\n"
     ]
    },
    {
     "name": "stderr",
     "output_type": "stream",
     "text": [
      " 45%|█████████████████                     | 2246/5000 [00:21<00:24, 113.86it/s]"
     ]
    },
    {
     "name": "stdout",
     "output_type": "stream",
     "text": [
      "k is bigger than the number of bonds !\n",
      "k is bigger than the number of bonds !\n",
      "k is bigger than the number of bonds !\n",
      "k is bigger than the number of bonds !\n",
      "k is bigger than the number of bonds !\n",
      "k is bigger than the number of bonds !\n"
     ]
    },
    {
     "name": "stderr",
     "output_type": "stream",
     "text": [
      " 45%|█████████████████▎                    | 2270/5000 [00:21<00:25, 106.47it/s]"
     ]
    },
    {
     "name": "stdout",
     "output_type": "stream",
     "text": [
      "k is bigger than the number of bonds !\n",
      "k is bigger than the number of bonds !\n",
      "k is bigger than the number of bonds !\n",
      "k is bigger than the number of bonds !\n",
      "k is bigger than the number of bonds !\n"
     ]
    },
    {
     "name": "stderr",
     "output_type": "stream",
     "text": [
      " 46%|█████████████████▍                    | 2292/5000 [00:21<00:26, 102.71it/s]"
     ]
    },
    {
     "name": "stdout",
     "output_type": "stream",
     "text": [
      "k is bigger than the number of bonds !\n",
      "k is bigger than the number of bonds !\n",
      "k is bigger than the number of bonds !\n",
      "k is bigger than the number of bonds !\n",
      "k is bigger than the number of bonds !\n"
     ]
    },
    {
     "name": "stderr",
     "output_type": "stream",
     "text": [
      " 47%|█████████████████▋                    | 2326/5000 [00:22<00:25, 103.87it/s]"
     ]
    },
    {
     "name": "stdout",
     "output_type": "stream",
     "text": [
      "k is bigger than the number of bonds !\n",
      "k is bigger than the number of bonds !\n",
      "k is bigger than the number of bonds !\n",
      "k is bigger than the number of bonds !\n"
     ]
    },
    {
     "name": "stderr",
     "output_type": "stream",
     "text": [
      " 47%|█████████████████▉                    | 2364/5000 [00:22<00:23, 113.81it/s]"
     ]
    },
    {
     "name": "stdout",
     "output_type": "stream",
     "text": [
      "k is bigger than the number of bonds !\n",
      "k is bigger than the number of bonds !\n",
      "k is bigger than the number of bonds !\n",
      "k is bigger than the number of bonds !\n",
      "k is bigger than the number of bonds !\n",
      "k is bigger than the number of bonds !\n"
     ]
    },
    {
     "name": "stderr",
     "output_type": "stream",
     "text": [
      " 48%|██████████████████▏                   | 2388/5000 [00:22<00:24, 107.14it/s]"
     ]
    },
    {
     "name": "stdout",
     "output_type": "stream",
     "text": [
      "k is bigger than the number of bonds !\n",
      "k is bigger than the number of bonds !\n",
      "k is bigger than the number of bonds !\n"
     ]
    },
    {
     "name": "stderr",
     "output_type": "stream",
     "text": [
      " 48%|██████████████████▍                   | 2422/5000 [00:22<00:25, 102.81it/s]"
     ]
    },
    {
     "name": "stdout",
     "output_type": "stream",
     "text": [
      "k is bigger than the number of bonds !\n",
      "k is bigger than the number of bonds !\n",
      "k is bigger than the number of bonds !\n",
      "k is bigger than the number of bonds !\n",
      "k is bigger than the number of bonds !\n",
      "k is bigger than the number of bonds !\n",
      "k is bigger than the number of bonds !\n",
      "k is bigger than the number of bonds !\n",
      "k is bigger than the number of bonds !\n"
     ]
    },
    {
     "name": "stderr",
     "output_type": "stream",
     "text": [
      " 49%|██████████████████▌                   | 2444/5000 [00:23<00:24, 104.26it/s]"
     ]
    },
    {
     "name": "stdout",
     "output_type": "stream",
     "text": [
      "k is bigger than the number of bonds !\n",
      "k is bigger than the number of bonds !\n",
      "k is bigger than the number of bonds !\n",
      "k is bigger than the number of bonds !\n"
     ]
    },
    {
     "name": "stderr",
     "output_type": "stream",
     "text": [
      " 50%|██████████████████▊                   | 2477/5000 [00:23<00:24, 103.56it/s]"
     ]
    },
    {
     "name": "stdout",
     "output_type": "stream",
     "text": [
      "k is bigger than the number of bonds !\n",
      "k is bigger than the number of bonds !\n",
      "k is bigger than the number of bonds !\n"
     ]
    },
    {
     "name": "stderr",
     "output_type": "stream",
     "text": [
      " 50%|███████████████████                   | 2511/5000 [00:23<00:23, 103.72it/s]"
     ]
    },
    {
     "name": "stdout",
     "output_type": "stream",
     "text": [
      "k is bigger than the number of bonds !\n",
      "k is bigger than the number of bonds !\n"
     ]
    },
    {
     "name": "stderr",
     "output_type": "stream",
     "text": [
      " 51%|███████████████████▎                  | 2536/5000 [00:23<00:21, 113.78it/s]"
     ]
    },
    {
     "name": "stdout",
     "output_type": "stream",
     "text": [
      "k is bigger than the number of bonds !\n",
      "k is bigger than the number of bonds !\n",
      "k is bigger than the number of bonds !\n",
      "k is bigger than the number of bonds !\n",
      "k is bigger than the number of bonds !\n",
      "k is bigger than the number of bonds !\n",
      "k is bigger than the number of bonds !\n",
      "k is bigger than the number of bonds !\n"
     ]
    },
    {
     "name": "stderr",
     "output_type": "stream",
     "text": [
      " 52%|███████████████████▌                  | 2576/5000 [00:24<00:19, 122.81it/s]"
     ]
    },
    {
     "name": "stdout",
     "output_type": "stream",
     "text": [
      "k is bigger than the number of bonds !\n",
      "k is bigger than the number of bonds !\n",
      "k is bigger than the number of bonds !\n",
      "k is bigger than the number of bonds !\n",
      "k is bigger than the number of bonds !\n"
     ]
    },
    {
     "name": "stderr",
     "output_type": "stream",
     "text": [
      " 52%|███████████████████▊                  | 2602/5000 [00:24<00:20, 119.19it/s]"
     ]
    },
    {
     "name": "stdout",
     "output_type": "stream",
     "text": [
      "k is bigger than the number of bonds !\n",
      "k is bigger than the number of bonds !\n",
      "k is bigger than the number of bonds !\n"
     ]
    },
    {
     "name": "stderr",
     "output_type": "stream",
     "text": [
      " 53%|████████████████████                  | 2638/5000 [00:24<00:21, 111.26it/s]"
     ]
    },
    {
     "name": "stdout",
     "output_type": "stream",
     "text": [
      "k is bigger than the number of bonds !\n",
      "k is bigger than the number of bonds !\n",
      "k is bigger than the number of bonds !\n",
      "k is bigger than the number of bonds !\n"
     ]
    },
    {
     "name": "stderr",
     "output_type": "stream",
     "text": [
      " 53%|████████████████████▏                 | 2661/5000 [00:25<00:21, 106.51it/s]"
     ]
    },
    {
     "name": "stdout",
     "output_type": "stream",
     "text": [
      "k is bigger than the number of bonds !\n",
      "k is bigger than the number of bonds !\n",
      "k is bigger than the number of bonds !\n",
      "k is bigger than the number of bonds !\n"
     ]
    },
    {
     "name": "stderr",
     "output_type": "stream",
     "text": [
      " 54%|████████████████████▌                 | 2712/5000 [00:25<00:19, 118.78it/s]"
     ]
    },
    {
     "name": "stdout",
     "output_type": "stream",
     "text": [
      "k is bigger than the number of bonds !\n",
      "k is bigger than the number of bonds !\n",
      "k is bigger than the number of bonds !\n",
      "k is bigger than the number of bonds !\n"
     ]
    },
    {
     "name": "stderr",
     "output_type": "stream",
     "text": [
      " 56%|█████████████████████▎                | 2809/5000 [00:26<00:19, 114.05it/s]"
     ]
    },
    {
     "name": "stdout",
     "output_type": "stream",
     "text": [
      "k is bigger than the number of bonds !\n"
     ]
    },
    {
     "name": "stderr",
     "output_type": "stream",
     "text": [
      " 74%|████████████████████████████          | 3687/5000 [00:34<00:11, 118.63it/s]"
     ]
    },
    {
     "name": "stdout",
     "output_type": "stream",
     "text": [
      "k is bigger than the number of bonds !\n",
      "k is bigger than the number of bonds !\n"
     ]
    },
    {
     "name": "stderr",
     "output_type": "stream",
     "text": [
      " 75%|████████████████████████████▍         | 3738/5000 [00:34<00:10, 117.30it/s]"
     ]
    },
    {
     "name": "stdout",
     "output_type": "stream",
     "text": [
      "k is bigger than the number of bonds !\n"
     ]
    },
    {
     "name": "stderr",
     "output_type": "stream",
     "text": [
      " 82%|███████████████████████████████▏      | 4107/5000 [00:38<00:07, 114.88it/s]"
     ]
    },
    {
     "name": "stdout",
     "output_type": "stream",
     "text": [
      "k is bigger than the number of bonds !\n"
     ]
    },
    {
     "name": "stderr",
     "output_type": "stream",
     "text": [
      " 83%|███████████████████████████████▍      | 4133/5000 [00:38<00:07, 119.32it/s]"
     ]
    },
    {
     "name": "stdout",
     "output_type": "stream",
     "text": [
      "k is bigger than the number of bonds !\n"
     ]
    },
    {
     "name": "stderr",
     "output_type": "stream",
     "text": [
      " 83%|███████████████████████████████▌      | 4157/5000 [00:38<00:07, 117.16it/s]"
     ]
    },
    {
     "name": "stdout",
     "output_type": "stream",
     "text": [
      "k is bigger than the number of bonds !\n"
     ]
    },
    {
     "name": "stderr",
     "output_type": "stream",
     "text": [
      " 94%|███████████████████████████████████▋  | 4692/5000 [00:43<00:02, 117.54it/s]"
     ]
    },
    {
     "name": "stdout",
     "output_type": "stream",
     "text": [
      "k is bigger than the number of bonds !\n",
      "k is bigger than the number of bonds !\n"
     ]
    },
    {
     "name": "stderr",
     "output_type": "stream",
     "text": [
      "100%|█████████████████████████████████████▉| 4988/5000 [00:46<00:00, 120.30it/s]"
     ]
    },
    {
     "name": "stdout",
     "output_type": "stream",
     "text": [
      "k is bigger than the number of bonds !\n",
      "k is bigger than the number of bonds !\n",
      "k is bigger than the number of bonds !\n"
     ]
    },
    {
     "name": "stderr",
     "output_type": "stream",
     "text": [
      "100%|██████████████████████████████████████| 5000/5000 [00:46<00:00, 108.04it/s]\n"
     ]
    },
    {
     "name": "stdout",
     "output_type": "stream",
     "text": [
      "GEF EdgeSHAPer :  0.1461289076291561\n"
     ]
    },
    {
     "name": "stderr",
     "output_type": "stream",
     "text": [
      "  0%|                                        | 13/5000 [00:00<00:39, 127.27it/s]"
     ]
    },
    {
     "name": "stdout",
     "output_type": "stream",
     "text": [
      "k is bigger than the number of bonds !\n"
     ]
    },
    {
     "name": "stderr",
     "output_type": "stream",
     "text": [
      "\r",
      "  1%|▏                                       | 26/5000 [00:00<00:40, 124.19it/s]"
     ]
    },
    {
     "name": "stdout",
     "output_type": "stream",
     "text": [
      "k is bigger than the number of bonds !\n"
     ]
    },
    {
     "name": "stderr",
     "output_type": "stream",
     "text": [
      "  2%|▋                                       | 88/5000 [00:00<00:42, 116.39it/s]"
     ]
    },
    {
     "name": "stdout",
     "output_type": "stream",
     "text": [
      "k is bigger than the number of bonds !\n",
      "k is bigger than the number of bonds !\n"
     ]
    },
    {
     "name": "stderr",
     "output_type": "stream",
     "text": [
      "  4%|█▍                                     | 182/5000 [00:01<00:43, 111.36it/s]"
     ]
    },
    {
     "name": "stdout",
     "output_type": "stream",
     "text": [
      "k is bigger than the number of bonds !\n",
      "k is bigger than the number of bonds !\n"
     ]
    },
    {
     "name": "stderr",
     "output_type": "stream",
     "text": [
      "  5%|█▊                                     | 234/5000 [00:02<00:39, 122.19it/s]"
     ]
    },
    {
     "name": "stdout",
     "output_type": "stream",
     "text": [
      "k is bigger than the number of bonds !\n",
      "k is bigger than the number of bonds !\n",
      "k is bigger than the number of bonds !\n",
      "k is bigger than the number of bonds !\n"
     ]
    },
    {
     "name": "stderr",
     "output_type": "stream",
     "text": [
      "\r",
      "  5%|█▉                                     | 247/5000 [00:02<00:40, 117.39it/s]"
     ]
    },
    {
     "name": "stdout",
     "output_type": "stream",
     "text": [
      "k is bigger than the number of bonds !\n",
      "k is bigger than the number of bonds !\n",
      "k is bigger than the number of bonds !\n"
     ]
    },
    {
     "name": "stderr",
     "output_type": "stream",
     "text": [
      "  6%|██▏                                    | 286/5000 [00:02<00:40, 116.55it/s]"
     ]
    },
    {
     "name": "stdout",
     "output_type": "stream",
     "text": [
      "k is bigger than the number of bonds !\n"
     ]
    },
    {
     "name": "stderr",
     "output_type": "stream",
     "text": [
      "  6%|██▍                                    | 310/5000 [00:02<00:39, 117.71it/s]"
     ]
    },
    {
     "name": "stdout",
     "output_type": "stream",
     "text": [
      "k is bigger than the number of bonds !\n"
     ]
    },
    {
     "name": "stderr",
     "output_type": "stream",
     "text": [
      "  7%|██▉                                    | 370/5000 [00:03<00:39, 118.57it/s]"
     ]
    },
    {
     "name": "stdout",
     "output_type": "stream",
     "text": [
      "k is bigger than the number of bonds !\n",
      "k is bigger than the number of bonds !\n",
      "k is bigger than the number of bonds !\n",
      "k is bigger than the number of bonds !\n"
     ]
    },
    {
     "name": "stderr",
     "output_type": "stream",
     "text": [
      "  8%|███▎                                   | 419/5000 [00:03<00:38, 118.73it/s]"
     ]
    },
    {
     "name": "stdout",
     "output_type": "stream",
     "text": [
      "k is bigger than the number of bonds !\n",
      "k is bigger than the number of bonds !\n",
      "k is bigger than the number of bonds !\n",
      "k is bigger than the number of bonds !\n",
      "k is bigger than the number of bonds !\n"
     ]
    },
    {
     "name": "stderr",
     "output_type": "stream",
     "text": [
      "  9%|███▍                                   | 444/5000 [00:03<00:38, 117.32it/s]"
     ]
    },
    {
     "name": "stdout",
     "output_type": "stream",
     "text": [
      "k is bigger than the number of bonds !\n",
      "k is bigger than the number of bonds !\n",
      "k is bigger than the number of bonds !\n"
     ]
    },
    {
     "name": "stderr",
     "output_type": "stream",
     "text": [
      "  9%|███▋                                   | 468/5000 [00:04<00:38, 117.06it/s]"
     ]
    },
    {
     "name": "stdout",
     "output_type": "stream",
     "text": [
      "k is bigger than the number of bonds !\n",
      "k is bigger than the number of bonds !\n"
     ]
    },
    {
     "name": "stderr",
     "output_type": "stream",
     "text": [
      " 10%|███▉                                   | 504/5000 [00:04<00:39, 115.21it/s]"
     ]
    },
    {
     "name": "stdout",
     "output_type": "stream",
     "text": [
      "k is bigger than the number of bonds !\n",
      "k is bigger than the number of bonds !\n",
      "k is bigger than the number of bonds !\n"
     ]
    },
    {
     "name": "stderr",
     "output_type": "stream",
     "text": [
      " 11%|████▎                                  | 551/5000 [00:04<00:41, 106.17it/s]"
     ]
    },
    {
     "name": "stdout",
     "output_type": "stream",
     "text": [
      "k is bigger than the number of bonds !\n",
      "k is bigger than the number of bonds !\n",
      "k is bigger than the number of bonds !\n"
     ]
    },
    {
     "name": "stderr",
     "output_type": "stream",
     "text": [
      "\r",
      " 11%|████▍                                   | 562/5000 [00:05<00:50, 87.84it/s]"
     ]
    },
    {
     "name": "stdout",
     "output_type": "stream",
     "text": [
      "k is bigger than the number of bonds !\n",
      "k is bigger than the number of bonds !\n",
      "k is bigger than the number of bonds !\n"
     ]
    },
    {
     "name": "stderr",
     "output_type": "stream",
     "text": [
      " 12%|████▋                                   | 589/5000 [00:05<00:57, 76.13it/s]"
     ]
    },
    {
     "name": "stdout",
     "output_type": "stream",
     "text": [
      "k is bigger than the number of bonds !\n",
      "k is bigger than the number of bonds !\n",
      "k is bigger than the number of bonds !\n"
     ]
    },
    {
     "name": "stderr",
     "output_type": "stream",
     "text": [
      " 12%|████▊                                  | 624/5000 [00:05<00:43, 100.82it/s]"
     ]
    },
    {
     "name": "stdout",
     "output_type": "stream",
     "text": [
      "k is bigger than the number of bonds !\n",
      "k is bigger than the number of bonds !\n",
      "k is bigger than the number of bonds !\n",
      "k is bigger than the number of bonds !\n",
      "k is bigger than the number of bonds !\n",
      "k is bigger than the number of bonds !\n",
      "k is bigger than the number of bonds !\n",
      "k is bigger than the number of bonds !\n"
     ]
    },
    {
     "name": "stderr",
     "output_type": "stream",
     "text": [
      " 13%|█████                                  | 657/5000 [00:06<00:42, 101.04it/s]"
     ]
    },
    {
     "name": "stdout",
     "output_type": "stream",
     "text": [
      "k is bigger than the number of bonds !\n",
      "k is bigger than the number of bonds !\n"
     ]
    },
    {
     "name": "stderr",
     "output_type": "stream",
     "text": [
      " 14%|█████▎                                 | 681/5000 [00:06<00:40, 107.48it/s]"
     ]
    },
    {
     "name": "stdout",
     "output_type": "stream",
     "text": [
      "k is bigger than the number of bonds !\n",
      "k is bigger than the number of bonds !\n",
      "k is bigger than the number of bonds !\n",
      "k is bigger than the number of bonds !\n",
      "k is bigger than the number of bonds !\n",
      "k is bigger than the number of bonds !\n"
     ]
    },
    {
     "name": "stderr",
     "output_type": "stream",
     "text": [
      " 14%|█████▍                                 | 705/5000 [00:06<00:38, 110.28it/s]"
     ]
    },
    {
     "name": "stdout",
     "output_type": "stream",
     "text": [
      "k is bigger than the number of bonds !\n",
      "k is bigger than the number of bonds !\n",
      "k is bigger than the number of bonds !\n",
      "k is bigger than the number of bonds !\n",
      "k is bigger than the number of bonds !\n",
      "k is bigger than the number of bonds !\n",
      "k is bigger than the number of bonds !\n",
      "k is bigger than the number of bonds !\n"
     ]
    },
    {
     "name": "stderr",
     "output_type": "stream",
     "text": [
      " 15%|█████▋                                 | 730/5000 [00:06<00:36, 115.41it/s]"
     ]
    },
    {
     "name": "stdout",
     "output_type": "stream",
     "text": [
      "k is bigger than the number of bonds !\n",
      "k is bigger than the number of bonds !\n",
      "k is bigger than the number of bonds !\n",
      "k is bigger than the number of bonds !\n",
      "k is bigger than the number of bonds !\n",
      "k is bigger than the number of bonds !\n",
      "k is bigger than the number of bonds !\n",
      "k is bigger than the number of bonds !\n",
      "k is bigger than the number of bonds !\n",
      "k is bigger than the number of bonds !\n",
      "k is bigger than the number of bonds !\n",
      "k is bigger than the number of bonds !\n",
      "k is bigger than the number of bonds !\n",
      "k is bigger than the number of bonds !\n",
      "k is bigger than the number of bonds !\n",
      "k is bigger than the number of bonds !\n",
      "k is bigger than the number of bonds !\n",
      "k is bigger than the number of bonds !\n",
      "k is bigger than the number of bonds !\n"
     ]
    },
    {
     "name": "stderr",
     "output_type": "stream",
     "text": [
      " 16%|██████▍                                 | 801/5000 [00:07<00:42, 99.80it/s]"
     ]
    },
    {
     "name": "stdout",
     "output_type": "stream",
     "text": [
      "k is bigger than the number of bonds !\n",
      "k is bigger than the number of bonds !\n",
      "k is bigger than the number of bonds !\n",
      "k is bigger than the number of bonds !\n",
      "k is bigger than the number of bonds !\n"
     ]
    },
    {
     "name": "stderr",
     "output_type": "stream",
     "text": [
      " 17%|██████▋                                | 850/5000 [00:07<00:36, 113.98it/s]"
     ]
    },
    {
     "name": "stdout",
     "output_type": "stream",
     "text": [
      "k is bigger than the number of bonds !\n",
      "k is bigger than the number of bonds !\n",
      "k is bigger than the number of bonds !\n"
     ]
    },
    {
     "name": "stderr",
     "output_type": "stream",
     "text": [
      " 18%|██████▊                                | 875/5000 [00:08<00:35, 115.12it/s]"
     ]
    },
    {
     "name": "stdout",
     "output_type": "stream",
     "text": [
      "k is bigger than the number of bonds !\n",
      "k is bigger than the number of bonds !\n",
      "k is bigger than the number of bonds !\n",
      "k is bigger than the number of bonds !\n"
     ]
    },
    {
     "name": "stderr",
     "output_type": "stream",
     "text": [
      " 18%|███████▏                               | 915/5000 [00:08<00:32, 124.26it/s]"
     ]
    },
    {
     "name": "stdout",
     "output_type": "stream",
     "text": [
      "k is bigger than the number of bonds !\n"
     ]
    },
    {
     "name": "stderr",
     "output_type": "stream",
     "text": [
      " 19%|███████▎                               | 941/5000 [00:08<00:32, 126.05it/s]"
     ]
    },
    {
     "name": "stdout",
     "output_type": "stream",
     "text": [
      "k is bigger than the number of bonds !\n",
      "k is bigger than the number of bonds !\n",
      "k is bigger than the number of bonds !\n",
      "k is bigger than the number of bonds !\n",
      "k is bigger than the number of bonds !\n",
      "k is bigger than the number of bonds !\n",
      "k is bigger than the number of bonds !\n",
      "k is bigger than the number of bonds !\n",
      "k is bigger than the number of bonds !\n"
     ]
    },
    {
     "name": "stderr",
     "output_type": "stream",
     "text": [
      " 19%|███████▌                               | 968/5000 [00:08<00:31, 127.41it/s]"
     ]
    },
    {
     "name": "stdout",
     "output_type": "stream",
     "text": [
      "k is bigger than the number of bonds !\n",
      "k is bigger than the number of bonds !\n",
      "k is bigger than the number of bonds !\n",
      "k is bigger than the number of bonds !\n"
     ]
    },
    {
     "name": "stderr",
     "output_type": "stream",
     "text": [
      " 20%|███████▋                              | 1008/5000 [00:09<00:30, 129.01it/s]"
     ]
    },
    {
     "name": "stdout",
     "output_type": "stream",
     "text": [
      "k is bigger than the number of bonds !\n",
      "k is bigger than the number of bonds !\n",
      "k is bigger than the number of bonds !\n",
      "k is bigger than the number of bonds !\n"
     ]
    },
    {
     "name": "stderr",
     "output_type": "stream",
     "text": [
      " 21%|███████▊                              | 1035/5000 [00:09<00:31, 127.81it/s]"
     ]
    },
    {
     "name": "stdout",
     "output_type": "stream",
     "text": [
      "k is bigger than the number of bonds !\n",
      "k is bigger than the number of bonds !\n",
      "k is bigger than the number of bonds !\n",
      "k is bigger than the number of bonds !\n",
      "k is bigger than the number of bonds !\n"
     ]
    },
    {
     "name": "stderr",
     "output_type": "stream",
     "text": [
      " 21%|████████                              | 1061/5000 [00:09<00:30, 127.28it/s]"
     ]
    },
    {
     "name": "stdout",
     "output_type": "stream",
     "text": [
      "k is bigger than the number of bonds !\n",
      "k is bigger than the number of bonds !\n",
      "k is bigger than the number of bonds !\n",
      "k is bigger than the number of bonds !\n"
     ]
    },
    {
     "name": "stderr",
     "output_type": "stream",
     "text": [
      " 22%|████████▎                             | 1101/5000 [00:09<00:30, 127.27it/s]"
     ]
    },
    {
     "name": "stdout",
     "output_type": "stream",
     "text": [
      "k is bigger than the number of bonds !\n",
      "k is bigger than the number of bonds !\n",
      "k is bigger than the number of bonds !\n",
      "k is bigger than the number of bonds !\n",
      "k is bigger than the number of bonds !\n"
     ]
    },
    {
     "name": "stderr",
     "output_type": "stream",
     "text": [
      " 23%|████████▌                             | 1127/5000 [00:10<00:30, 127.12it/s]"
     ]
    },
    {
     "name": "stdout",
     "output_type": "stream",
     "text": [
      "k is bigger than the number of bonds !\n",
      "k is bigger than the number of bonds !\n",
      "k is bigger than the number of bonds !\n",
      "k is bigger than the number of bonds !\n"
     ]
    },
    {
     "name": "stderr",
     "output_type": "stream",
     "text": [
      " 23%|████████▊                             | 1153/5000 [00:10<00:30, 126.26it/s]"
     ]
    },
    {
     "name": "stdout",
     "output_type": "stream",
     "text": [
      "k is bigger than the number of bonds !\n",
      "k is bigger than the number of bonds !\n",
      "k is bigger than the number of bonds !\n",
      "k is bigger than the number of bonds !\n"
     ]
    },
    {
     "name": "stderr",
     "output_type": "stream",
     "text": [
      " 24%|████████▉                             | 1179/5000 [00:10<00:30, 126.07it/s]"
     ]
    },
    {
     "name": "stdout",
     "output_type": "stream",
     "text": [
      "k is bigger than the number of bonds !\n",
      "k is bigger than the number of bonds !\n",
      "k is bigger than the number of bonds !\n",
      "k is bigger than the number of bonds !\n"
     ]
    },
    {
     "name": "stderr",
     "output_type": "stream",
     "text": [
      " 25%|█████████▎                            | 1231/5000 [00:10<00:29, 126.37it/s]"
     ]
    },
    {
     "name": "stdout",
     "output_type": "stream",
     "text": [
      "k is bigger than the number of bonds !\n",
      "k is bigger than the number of bonds !\n"
     ]
    },
    {
     "name": "stderr",
     "output_type": "stream",
     "text": [
      " 25%|█████████▋                            | 1270/5000 [00:11<00:29, 125.14it/s]"
     ]
    },
    {
     "name": "stdout",
     "output_type": "stream",
     "text": [
      "k is bigger than the number of bonds !\n",
      "k is bigger than the number of bonds !\n",
      "k is bigger than the number of bonds !\n"
     ]
    },
    {
     "name": "stderr",
     "output_type": "stream",
     "text": [
      "\r",
      " 26%|█████████▊                            | 1283/5000 [00:11<00:30, 120.15it/s]"
     ]
    },
    {
     "name": "stdout",
     "output_type": "stream",
     "text": [
      "k is bigger than the number of bonds !\n",
      "k is bigger than the number of bonds !\n",
      "k is bigger than the number of bonds !\n"
     ]
    },
    {
     "name": "stderr",
     "output_type": "stream",
     "text": [
      " 26%|█████████▉                            | 1309/5000 [00:11<00:31, 118.11it/s]"
     ]
    },
    {
     "name": "stdout",
     "output_type": "stream",
     "text": [
      "k is bigger than the number of bonds !\n",
      "k is bigger than the number of bonds !\n",
      "k is bigger than the number of bonds !\n"
     ]
    },
    {
     "name": "stderr",
     "output_type": "stream",
     "text": [
      " 27%|██████████▏                           | 1347/5000 [00:11<00:30, 121.18it/s]"
     ]
    },
    {
     "name": "stdout",
     "output_type": "stream",
     "text": [
      "k is bigger than the number of bonds !\n",
      "k is bigger than the number of bonds !\n",
      "k is bigger than the number of bonds !\n"
     ]
    },
    {
     "name": "stderr",
     "output_type": "stream",
     "text": [
      " 27%|██████████▍                           | 1374/5000 [00:12<00:28, 125.76it/s]"
     ]
    },
    {
     "name": "stdout",
     "output_type": "stream",
     "text": [
      "k is bigger than the number of bonds !\n",
      "k is bigger than the number of bonds !\n",
      "k is bigger than the number of bonds !\n",
      "k is bigger than the number of bonds !\n"
     ]
    },
    {
     "name": "stderr",
     "output_type": "stream",
     "text": [
      " 28%|██████████▋                           | 1413/5000 [00:12<00:29, 122.92it/s]"
     ]
    },
    {
     "name": "stdout",
     "output_type": "stream",
     "text": [
      "k is bigger than the number of bonds !\n",
      "k is bigger than the number of bonds !\n"
     ]
    },
    {
     "name": "stderr",
     "output_type": "stream",
     "text": [
      " 29%|██████████▉                           | 1439/5000 [00:12<00:29, 121.52it/s]"
     ]
    },
    {
     "name": "stdout",
     "output_type": "stream",
     "text": [
      "k is bigger than the number of bonds !\n"
     ]
    },
    {
     "name": "stderr",
     "output_type": "stream",
     "text": [
      " 29%|███████████▍                           | 1463/5000 [00:12<00:40, 88.31it/s]"
     ]
    },
    {
     "name": "stdout",
     "output_type": "stream",
     "text": [
      "k is bigger than the number of bonds !\n"
     ]
    },
    {
     "name": "stderr",
     "output_type": "stream",
     "text": [
      "\r",
      " 29%|███████████▍                           | 1473/5000 [00:13<00:43, 81.07it/s]"
     ]
    },
    {
     "name": "stdout",
     "output_type": "stream",
     "text": [
      "k is bigger than the number of bonds !\n",
      "k is bigger than the number of bonds !\n"
     ]
    },
    {
     "name": "stderr",
     "output_type": "stream",
     "text": [
      " 30%|███████████▍                          | 1509/5000 [00:13<00:34, 102.57it/s]"
     ]
    },
    {
     "name": "stdout",
     "output_type": "stream",
     "text": [
      "k is bigger than the number of bonds !\n"
     ]
    },
    {
     "name": "stderr",
     "output_type": "stream",
     "text": [
      " 32%|███████████▉                          | 1575/5000 [00:13<00:27, 123.96it/s]"
     ]
    },
    {
     "name": "stdout",
     "output_type": "stream",
     "text": [
      "k is bigger than the number of bonds !\n",
      "k is bigger than the number of bonds !\n",
      "k is bigger than the number of bonds !\n",
      "k is bigger than the number of bonds !\n",
      "k is bigger than the number of bonds !\n"
     ]
    },
    {
     "name": "stderr",
     "output_type": "stream",
     "text": [
      " 32%|████████████▏                         | 1601/5000 [00:14<00:27, 125.40it/s]"
     ]
    },
    {
     "name": "stdout",
     "output_type": "stream",
     "text": [
      "k is bigger than the number of bonds !\n"
     ]
    },
    {
     "name": "stderr",
     "output_type": "stream",
     "text": [
      " 33%|████████████▎                         | 1627/5000 [00:14<00:27, 122.77it/s]"
     ]
    },
    {
     "name": "stdout",
     "output_type": "stream",
     "text": [
      "k is bigger than the number of bonds !\n",
      "k is bigger than the number of bonds !\n",
      "k is bigger than the number of bonds !\n",
      "k is bigger than the number of bonds !\n",
      "k is bigger than the number of bonds !\n",
      "k is bigger than the number of bonds !\n"
     ]
    },
    {
     "name": "stderr",
     "output_type": "stream",
     "text": [
      " 33%|█████████████                          | 1670/5000 [00:14<00:41, 79.97it/s]"
     ]
    },
    {
     "name": "stdout",
     "output_type": "stream",
     "text": [
      "k is bigger than the number of bonds !\n"
     ]
    },
    {
     "name": "stderr",
     "output_type": "stream",
     "text": [
      " 34%|█████████████▏                         | 1695/5000 [00:15<00:45, 72.88it/s]"
     ]
    },
    {
     "name": "stdout",
     "output_type": "stream",
     "text": [
      "k is bigger than the number of bonds !\n",
      "k is bigger than the number of bonds !\n"
     ]
    },
    {
     "name": "stderr",
     "output_type": "stream",
     "text": [
      " 35%|█████████████▍                         | 1727/5000 [00:15<00:46, 70.23it/s]"
     ]
    },
    {
     "name": "stdout",
     "output_type": "stream",
     "text": [
      "k is bigger than the number of bonds !\n"
     ]
    },
    {
     "name": "stderr",
     "output_type": "stream",
     "text": [
      " 35%|█████████████▋                         | 1751/5000 [00:16<00:45, 71.06it/s]"
     ]
    },
    {
     "name": "stdout",
     "output_type": "stream",
     "text": [
      "k is bigger than the number of bonds !\n",
      "k is bigger than the number of bonds !\n",
      "k is bigger than the number of bonds !\n"
     ]
    },
    {
     "name": "stderr",
     "output_type": "stream",
     "text": [
      " 36%|█████████████▌                        | 1788/5000 [00:16<00:30, 104.00it/s]"
     ]
    },
    {
     "name": "stdout",
     "output_type": "stream",
     "text": [
      "k is bigger than the number of bonds !\n",
      "k is bigger than the number of bonds !\n",
      "k is bigger than the number of bonds !\n",
      "k is bigger than the number of bonds !\n",
      "k is bigger than the number of bonds !\n"
     ]
    },
    {
     "name": "stderr",
     "output_type": "stream",
     "text": [
      " 36%|█████████████▊                        | 1814/5000 [00:16<00:27, 114.71it/s]"
     ]
    },
    {
     "name": "stdout",
     "output_type": "stream",
     "text": [
      "k is bigger than the number of bonds !\n",
      "k is bigger than the number of bonds !\n",
      "k is bigger than the number of bonds !\n",
      "k is bigger than the number of bonds !\n",
      "k is bigger than the number of bonds !\n",
      "k is bigger than the number of bonds !\n"
     ]
    },
    {
     "name": "stderr",
     "output_type": "stream",
     "text": [
      " 37%|██████████████                        | 1856/5000 [00:16<00:25, 125.58it/s]"
     ]
    },
    {
     "name": "stdout",
     "output_type": "stream",
     "text": [
      "k is bigger than the number of bonds !\n",
      "k is bigger than the number of bonds !\n",
      "k is bigger than the number of bonds !\n"
     ]
    },
    {
     "name": "stderr",
     "output_type": "stream",
     "text": [
      " 38%|██████████████▎                       | 1882/5000 [00:17<00:25, 123.95it/s]"
     ]
    },
    {
     "name": "stdout",
     "output_type": "stream",
     "text": [
      "k is bigger than the number of bonds !\n",
      "k is bigger than the number of bonds !\n",
      "k is bigger than the number of bonds !\n",
      "k is bigger than the number of bonds !\n",
      "k is bigger than the number of bonds !\n",
      "k is bigger than the number of bonds !\n",
      "k is bigger than the number of bonds !\n",
      "k is bigger than the number of bonds !\n"
     ]
    },
    {
     "name": "stderr",
     "output_type": "stream",
     "text": [
      " 38%|██████████████▌                       | 1921/5000 [00:17<00:24, 124.84it/s]"
     ]
    },
    {
     "name": "stdout",
     "output_type": "stream",
     "text": [
      "k is bigger than the number of bonds !\n",
      "k is bigger than the number of bonds !\n",
      "k is bigger than the number of bonds !\n",
      "k is bigger than the number of bonds !\n",
      "k is bigger than the number of bonds !\n",
      "k is bigger than the number of bonds !\n",
      "k is bigger than the number of bonds !\n",
      "k is bigger than the number of bonds !\n",
      "k is bigger than the number of bonds !\n"
     ]
    },
    {
     "name": "stderr",
     "output_type": "stream",
     "text": [
      " 39%|██████████████▉                       | 1960/5000 [00:17<00:26, 115.34it/s]"
     ]
    },
    {
     "name": "stdout",
     "output_type": "stream",
     "text": [
      "k is bigger than the number of bonds !\n",
      "k is bigger than the number of bonds !\n",
      "k is bigger than the number of bonds !\n"
     ]
    },
    {
     "name": "stderr",
     "output_type": "stream",
     "text": [
      " 40%|███████████████                       | 1985/5000 [00:18<00:27, 108.09it/s]"
     ]
    },
    {
     "name": "stdout",
     "output_type": "stream",
     "text": [
      "k is bigger than the number of bonds !\n",
      "k is bigger than the number of bonds !\n",
      "k is bigger than the number of bonds !\n",
      "k is bigger than the number of bonds !\n",
      "k is bigger than the number of bonds !\n"
     ]
    },
    {
     "name": "stderr",
     "output_type": "stream",
     "text": [
      " 40%|███████████████▎                      | 2011/5000 [00:18<00:26, 114.95it/s]"
     ]
    },
    {
     "name": "stdout",
     "output_type": "stream",
     "text": [
      "k is bigger than the number of bonds !\n",
      "k is bigger than the number of bonds !\n",
      "k is bigger than the number of bonds !\n",
      "k is bigger than the number of bonds !\n",
      "k is bigger than the number of bonds !\n",
      "k is bigger than the number of bonds !\n"
     ]
    },
    {
     "name": "stderr",
     "output_type": "stream",
     "text": [
      " 41%|███████████████▍                      | 2035/5000 [00:18<00:26, 109.96it/s]"
     ]
    },
    {
     "name": "stdout",
     "output_type": "stream",
     "text": [
      "k is bigger than the number of bonds !\n",
      "k is bigger than the number of bonds !\n",
      "k is bigger than the number of bonds !\n",
      "k is bigger than the number of bonds !\n"
     ]
    },
    {
     "name": "stderr",
     "output_type": "stream",
     "text": [
      " 41%|███████████████▋                      | 2061/5000 [00:18<00:25, 115.18it/s]"
     ]
    },
    {
     "name": "stdout",
     "output_type": "stream",
     "text": [
      "k is bigger than the number of bonds !\n",
      "k is bigger than the number of bonds !\n",
      "k is bigger than the number of bonds !\n",
      "k is bigger than the number of bonds !\n",
      "k is bigger than the number of bonds !\n",
      "k is bigger than the number of bonds !\n",
      "k is bigger than the number of bonds !\n",
      "k is bigger than the number of bonds !\n",
      "k is bigger than the number of bonds !\n"
     ]
    },
    {
     "name": "stderr",
     "output_type": "stream",
     "text": [
      " 42%|███████████████▊                      | 2087/5000 [00:18<00:24, 118.97it/s]"
     ]
    },
    {
     "name": "stdout",
     "output_type": "stream",
     "text": [
      "k is bigger than the number of bonds !\n",
      "k is bigger than the number of bonds !\n",
      "k is bigger than the number of bonds !\n"
     ]
    },
    {
     "name": "stderr",
     "output_type": "stream",
     "text": [
      " 42%|████████████████                      | 2113/5000 [00:19<00:23, 120.74it/s]"
     ]
    },
    {
     "name": "stdout",
     "output_type": "stream",
     "text": [
      "k is bigger than the number of bonds !\n",
      "k is bigger than the number of bonds !\n"
     ]
    },
    {
     "name": "stderr",
     "output_type": "stream",
     "text": [
      " 43%|████████████████▎                     | 2149/5000 [00:19<00:27, 104.95it/s]"
     ]
    },
    {
     "name": "stdout",
     "output_type": "stream",
     "text": [
      "k is bigger than the number of bonds !\n",
      "k is bigger than the number of bonds !\n",
      "k is bigger than the number of bonds !\n",
      "k is bigger than the number of bonds !\n"
     ]
    },
    {
     "name": "stderr",
     "output_type": "stream",
     "text": [
      " 43%|████████████████▌                     | 2174/5000 [00:19<00:25, 113.01it/s]"
     ]
    },
    {
     "name": "stdout",
     "output_type": "stream",
     "text": [
      "k is bigger than the number of bonds !\n",
      "k is bigger than the number of bonds !\n",
      "k is bigger than the number of bonds !\n",
      "k is bigger than the number of bonds !\n",
      "k is bigger than the number of bonds !\n",
      "k is bigger than the number of bonds !\n"
     ]
    },
    {
     "name": "stderr",
     "output_type": "stream",
     "text": [
      " 44%|████████████████▊                     | 2213/5000 [00:20<00:22, 121.81it/s]"
     ]
    },
    {
     "name": "stdout",
     "output_type": "stream",
     "text": [
      "k is bigger than the number of bonds !\n",
      "k is bigger than the number of bonds !\n",
      "k is bigger than the number of bonds !\n",
      "k is bigger than the number of bonds !\n",
      "k is bigger than the number of bonds !\n"
     ]
    },
    {
     "name": "stderr",
     "output_type": "stream",
     "text": [
      " 45%|█████████████████                     | 2239/5000 [00:20<00:22, 124.17it/s]"
     ]
    },
    {
     "name": "stdout",
     "output_type": "stream",
     "text": [
      "k is bigger than the number of bonds !\n",
      "k is bigger than the number of bonds !\n",
      "k is bigger than the number of bonds !\n",
      "k is bigger than the number of bonds !\n",
      "k is bigger than the number of bonds !\n",
      "k is bigger than the number of bonds !\n"
     ]
    },
    {
     "name": "stderr",
     "output_type": "stream",
     "text": [
      " 45%|█████████████████▏                    | 2266/5000 [00:20<00:21, 126.64it/s]"
     ]
    },
    {
     "name": "stdout",
     "output_type": "stream",
     "text": [
      "k is bigger than the number of bonds !\n",
      "k is bigger than the number of bonds !\n",
      "k is bigger than the number of bonds !\n",
      "k is bigger than the number of bonds !\n",
      "k is bigger than the number of bonds !\n",
      "k is bigger than the number of bonds !\n"
     ]
    },
    {
     "name": "stderr",
     "output_type": "stream",
     "text": [
      " 46%|█████████████████▍                    | 2293/5000 [00:20<00:21, 125.25it/s]"
     ]
    },
    {
     "name": "stdout",
     "output_type": "stream",
     "text": [
      "k is bigger than the number of bonds !\n",
      "k is bigger than the number of bonds !\n",
      "k is bigger than the number of bonds !\n",
      "k is bigger than the number of bonds !\n",
      "k is bigger than the number of bonds !\n"
     ]
    },
    {
     "name": "stderr",
     "output_type": "stream",
     "text": [
      " 47%|█████████████████▋                    | 2333/5000 [00:21<00:20, 128.16it/s]"
     ]
    },
    {
     "name": "stdout",
     "output_type": "stream",
     "text": [
      "k is bigger than the number of bonds !\n",
      "k is bigger than the number of bonds !\n",
      "k is bigger than the number of bonds !\n",
      "k is bigger than the number of bonds !\n"
     ]
    },
    {
     "name": "stderr",
     "output_type": "stream",
     "text": [
      " 47%|█████████████████▉                    | 2360/5000 [00:21<00:20, 128.94it/s]"
     ]
    },
    {
     "name": "stdout",
     "output_type": "stream",
     "text": [
      "k is bigger than the number of bonds !\n",
      "k is bigger than the number of bonds !\n",
      "k is bigger than the number of bonds !\n",
      "k is bigger than the number of bonds !\n",
      "k is bigger than the number of bonds !\n",
      "k is bigger than the number of bonds !\n",
      "k is bigger than the number of bonds !\n"
     ]
    },
    {
     "name": "stderr",
     "output_type": "stream",
     "text": [
      " 48%|██████████████████▎                   | 2402/5000 [00:21<00:19, 130.21it/s]"
     ]
    },
    {
     "name": "stdout",
     "output_type": "stream",
     "text": [
      "k is bigger than the number of bonds !\n",
      "k is bigger than the number of bonds !\n",
      "k is bigger than the number of bonds !\n"
     ]
    },
    {
     "name": "stderr",
     "output_type": "stream",
     "text": [
      " 49%|██████████████████▍                   | 2429/5000 [00:21<00:20, 128.52it/s]"
     ]
    },
    {
     "name": "stdout",
     "output_type": "stream",
     "text": [
      "k is bigger than the number of bonds !\n",
      "k is bigger than the number of bonds !\n",
      "k is bigger than the number of bonds !\n",
      "k is bigger than the number of bonds !\n",
      "k is bigger than the number of bonds !\n",
      "k is bigger than the number of bonds !\n",
      "k is bigger than the number of bonds !\n",
      "k is bigger than the number of bonds !\n",
      "k is bigger than the number of bonds !\n"
     ]
    },
    {
     "name": "stderr",
     "output_type": "stream",
     "text": [
      " 49%|██████████████████▋                   | 2455/5000 [00:21<00:19, 128.14it/s]"
     ]
    },
    {
     "name": "stdout",
     "output_type": "stream",
     "text": [
      "k is bigger than the number of bonds !\n",
      "k is bigger than the number of bonds !\n",
      "k is bigger than the number of bonds !\n",
      "k is bigger than the number of bonds !\n",
      "k is bigger than the number of bonds !\n"
     ]
    },
    {
     "name": "stderr",
     "output_type": "stream",
     "text": [
      " 50%|██████████████████▊                   | 2481/5000 [00:22<00:19, 127.78it/s]"
     ]
    },
    {
     "name": "stdout",
     "output_type": "stream",
     "text": [
      "k is bigger than the number of bonds !\n"
     ]
    },
    {
     "name": "stderr",
     "output_type": "stream",
     "text": [
      " 50%|███████████████████▏                  | 2520/5000 [00:22<00:19, 127.49it/s]"
     ]
    },
    {
     "name": "stdout",
     "output_type": "stream",
     "text": [
      "k is bigger than the number of bonds !\n",
      "k is bigger than the number of bonds !\n",
      "k is bigger than the number of bonds !\n"
     ]
    },
    {
     "name": "stderr",
     "output_type": "stream",
     "text": [
      " 51%|███████████████████▎                  | 2547/5000 [00:22<00:19, 128.58it/s]"
     ]
    },
    {
     "name": "stdout",
     "output_type": "stream",
     "text": [
      "k is bigger than the number of bonds !\n",
      "k is bigger than the number of bonds !\n",
      "k is bigger than the number of bonds !\n",
      "k is bigger than the number of bonds !\n",
      "k is bigger than the number of bonds !\n",
      "k is bigger than the number of bonds !\n",
      "k is bigger than the number of bonds !\n",
      "k is bigger than the number of bonds !\n",
      "k is bigger than the number of bonds !\n"
     ]
    },
    {
     "name": "stderr",
     "output_type": "stream",
     "text": [
      " 52%|███████████████████▋                  | 2586/5000 [00:22<00:18, 127.64it/s]"
     ]
    },
    {
     "name": "stdout",
     "output_type": "stream",
     "text": [
      "k is bigger than the number of bonds !\n",
      "k is bigger than the number of bonds !\n",
      "k is bigger than the number of bonds !\n",
      "k is bigger than the number of bonds !\n",
      "k is bigger than the number of bonds !\n"
     ]
    },
    {
     "name": "stderr",
     "output_type": "stream",
     "text": [
      " 52%|████████████████████▎                  | 2612/5000 [00:23<00:24, 96.90it/s]"
     ]
    },
    {
     "name": "stdout",
     "output_type": "stream",
     "text": [
      "k is bigger than the number of bonds !\n"
     ]
    },
    {
     "name": "stderr",
     "output_type": "stream",
     "text": [
      "\r",
      " 52%|████████████████████▍                  | 2623/5000 [00:23<00:27, 87.79it/s]"
     ]
    },
    {
     "name": "stdout",
     "output_type": "stream",
     "text": [
      "k is bigger than the number of bonds !\n",
      "k is bigger than the number of bonds !\n",
      "k is bigger than the number of bonds !\n",
      "k is bigger than the number of bonds !\n"
     ]
    },
    {
     "name": "stderr",
     "output_type": "stream",
     "text": [
      " 53%|████████████████████▋                  | 2651/5000 [00:23<00:30, 77.74it/s]"
     ]
    },
    {
     "name": "stdout",
     "output_type": "stream",
     "text": [
      "k is bigger than the number of bonds !\n",
      "k is bigger than the number of bonds !\n",
      "k is bigger than the number of bonds !\n"
     ]
    },
    {
     "name": "stderr",
     "output_type": "stream",
     "text": [
      " 53%|████████████████████▊                  | 2673/5000 [00:24<00:25, 91.25it/s]"
     ]
    },
    {
     "name": "stdout",
     "output_type": "stream",
     "text": [
      "k is bigger than the number of bonds !\n"
     ]
    },
    {
     "name": "stderr",
     "output_type": "stream",
     "text": [
      " 54%|█████████████████████                  | 2706/5000 [00:24<00:23, 97.51it/s]"
     ]
    },
    {
     "name": "stdout",
     "output_type": "stream",
     "text": [
      "k is bigger than the number of bonds !\n",
      "k is bigger than the number of bonds !\n",
      "k is bigger than the number of bonds !\n",
      "k is bigger than the number of bonds !\n"
     ]
    },
    {
     "name": "stderr",
     "output_type": "stream",
     "text": [
      " 56%|█████████████████████▉                 | 2811/5000 [00:25<00:28, 77.79it/s]"
     ]
    },
    {
     "name": "stdout",
     "output_type": "stream",
     "text": [
      "k is bigger than the number of bonds !\n"
     ]
    },
    {
     "name": "stderr",
     "output_type": "stream",
     "text": [
      " 74%|████████████████████████████          | 3694/5000 [00:40<00:11, 117.59it/s]"
     ]
    },
    {
     "name": "stdout",
     "output_type": "stream",
     "text": [
      "k is bigger than the number of bonds !\n",
      "k is bigger than the number of bonds !\n"
     ]
    },
    {
     "name": "stderr",
     "output_type": "stream",
     "text": [
      " 75%|████████████████████████████▍         | 3743/5000 [00:40<00:11, 110.10it/s]"
     ]
    },
    {
     "name": "stdout",
     "output_type": "stream",
     "text": [
      "k is bigger than the number of bonds !\n"
     ]
    },
    {
     "name": "stderr",
     "output_type": "stream",
     "text": [
      " 82%|███████████████████████████████▉       | 4097/5000 [00:44<00:12, 72.73it/s]"
     ]
    },
    {
     "name": "stdout",
     "output_type": "stream",
     "text": [
      "k is bigger than the number of bonds !\n"
     ]
    },
    {
     "name": "stderr",
     "output_type": "stream",
     "text": [
      " 82%|████████████████████████████████▏      | 4121/5000 [00:44<00:12, 69.12it/s]"
     ]
    },
    {
     "name": "stdout",
     "output_type": "stream",
     "text": [
      "k is bigger than the number of bonds !\n"
     ]
    },
    {
     "name": "stderr",
     "output_type": "stream",
     "text": [
      " 83%|████████████████████████████████▍      | 4163/5000 [00:44<00:09, 90.10it/s]"
     ]
    },
    {
     "name": "stdout",
     "output_type": "stream",
     "text": [
      "k is bigger than the number of bonds !\n"
     ]
    },
    {
     "name": "stderr",
     "output_type": "stream",
     "text": [
      " 94%|███████████████████████████████████▋  | 4694/5000 [00:50<00:02, 111.32it/s]"
     ]
    },
    {
     "name": "stdout",
     "output_type": "stream",
     "text": [
      "k is bigger than the number of bonds !\n",
      "k is bigger than the number of bonds !\n"
     ]
    },
    {
     "name": "stderr",
     "output_type": "stream",
     "text": [
      "100%|█████████████████████████████████████▉| 4994/5000 [00:52<00:00, 114.71it/s]"
     ]
    },
    {
     "name": "stdout",
     "output_type": "stream",
     "text": [
      "k is bigger than the number of bonds !\n",
      "k is bigger than the number of bonds !\n",
      "k is bigger than the number of bonds !\n"
     ]
    },
    {
     "name": "stderr",
     "output_type": "stream",
     "text": [
      "100%|███████████████████████████████████████| 5000/5000 [00:52<00:00, 94.54it/s]\n"
     ]
    },
    {
     "name": "stdout",
     "output_type": "stream",
     "text": [
      "GEF regSHAPer :  0.10868193277707772\n"
     ]
    }
   ],
   "source": [
    "for k in [3,5,7,9]:\n",
    "    dict_gef = compute_gef(idx_mols,list_graphs,algo_dicts,model,k,algorithms)\n",
    "    graph_subgraph(dict_gef,k,col_dict,(2,14),(2,14),\"plots/pred_graph_subgraph/graph_subgraph_k_\"+str(k)+\".png\")"
   ]
  },
  {
   "cell_type": "code",
   "execution_count": 9,
   "id": "050fec86",
   "metadata": {},
   "outputs": [
    {
     "name": "stdout",
     "output_type": "stream",
     "text": [
      "GNNExplainer\n",
      "0.6967954875003494\n",
      "EdgeSHAPer\n",
      "0.46080155783267873\n",
      "regSHAPer\n",
      "0.25969855315680995\n"
     ]
    }
   ],
   "source": [
    "# MAE for last k (verif)\n",
    "for i,alg in enumerate(dict_gef.keys()):\n",
    "    print(alg)\n",
    "    print(np.mean((dict_gef[alg][0][:,0]-dict_gef[alg][0][:,1])**2))"
   ]
  },
  {
   "cell_type": "markdown",
   "id": "e500f592",
   "metadata": {},
   "source": [
    "#### Threshold graph"
   ]
  },
  {
   "cell_type": "code",
   "execution_count": 7,
   "id": "b71f5301",
   "metadata": {},
   "outputs": [
    {
     "name": "stdout",
     "output_type": "stream",
     "text": [
      "GNNExplainer\n"
     ]
    },
    {
     "name": "stderr",
     "output_type": "stream",
     "text": [
      "/Users/evandieren/Desktop/epfl/Q2/GNN_Explainability/experiments/Comparison_Explainers/../../utils/utils.py:376: UserWarning: To copy construct from a tensor, it is recommended to use sourceTensor.clone().detach() or sourceTensor.clone().detach().requires_grad_(True), rather than torch.tensor(sourceTensor).\n",
      "  expl = [refactor(torch.tensor(np.abs(algo_dicts[alg][i])),\n",
      "100%|██████████████████████████████████████| 5000/5000 [00:15<00:00, 327.60it/s]\n"
     ]
    },
    {
     "name": "stdout",
     "output_type": "stream",
     "text": [
      "# expl :  5000\n",
      "EdgeSHAPer\n"
     ]
    },
    {
     "name": "stderr",
     "output_type": "stream",
     "text": [
      "100%|██████████████████████████████████████| 5000/5000 [00:12<00:00, 385.42it/s]\n"
     ]
    },
    {
     "name": "stdout",
     "output_type": "stream",
     "text": [
      "# expl :  5000\n",
      "regSHAPer\n"
     ]
    },
    {
     "name": "stderr",
     "output_type": "stream",
     "text": [
      "100%|██████████████████████████████████████| 5000/5000 [00:14<00:00, 342.12it/s]\n"
     ]
    },
    {
     "name": "stdout",
     "output_type": "stream",
     "text": [
      "# expl :  5000\n"
     ]
    }
   ],
   "source": [
    "thresh = np.arange(0,1.01,0.01)\n",
    "compute_tresh(thresh,5000,algo_dicts,col_dict,algorithms,\"plots/threshold/threshold_plot.png\")"
   ]
  },
  {
   "cell_type": "markdown",
   "id": "5bf81c31",
   "metadata": {},
   "source": [
    "#### Molecule visualization"
   ]
  },
  {
   "cell_type": "code",
   "execution_count": 17,
   "id": "12583566",
   "metadata": {},
   "outputs": [
    {
     "name": "stdout",
     "output_type": "stream",
     "text": [
      "15\n",
      "done\n",
      "15\n",
      "done\n",
      "15\n",
      "done\n",
      "12\n",
      "done\n",
      "12\n",
      "done\n",
      "12\n",
      "done\n"
     ]
    }
   ],
   "source": [
    "idx_mols = [629596,634384]\n",
    "\n",
    "mol_viz(algorithms,idx_mols,(10,10),dataset_PyG,algo_dicts,\"./plots/expl_viz/expl_mol\"+str(idx_mols))"
   ]
  },
  {
   "cell_type": "code",
   "execution_count": 16,
   "id": "77349902",
   "metadata": {},
   "outputs": [
    {
     "name": "stderr",
     "output_type": "stream",
     "text": [
      "/Users/evandieren/Desktop/epfl/Q2/GNN_Explainability/experiments/Comparison_Explainers/../../utils/utils.py:517: UserWarning: To copy construct from a tensor, it is recommended to use sourceTensor.clone().detach() or sourceTensor.clone().detach().requires_grad_(True), rather than torch.tensor(sourceTensor).\n",
      "  expl = refactor(torch.tensor(np.abs(algo_dicts[alg][idx_mol])),False,False)\n"
     ]
    },
    {
     "name": "stdout",
     "output_type": "stream",
     "text": [
      "14\n",
      "done\n",
      "14\n",
      "done\n",
      "14\n",
      "done\n",
      "9\n",
      "done\n",
      "9\n",
      "done\n",
      "9\n",
      "done\n",
      "16\n",
      "done\n",
      "16\n",
      "done\n",
      "16\n",
      "done\n",
      "15\n",
      "done\n",
      "15\n",
      "done\n",
      "15\n",
      "done\n"
     ]
    }
   ],
   "source": [
    "idx_mols = [algo_mol_indices[alg][idx] for idx in np.random.randint(5000,size=4)]\n",
    "idx_mols = [[idx_mols[0],idx_mols[1]],[idx_mols[2],idx_mols[3]]]\n",
    "for i in idx_mols:\n",
    "    mol_viz(algorithms,i,(10,10),dataset_PyG,algo_dicts,\"./plots/expl_viz/expl_mol\"+str(i))"
   ]
  },
  {
   "cell_type": "markdown",
   "id": "7ed67bf4",
   "metadata": {},
   "source": [
    "# Other snippets of code and/or old code"
   ]
  },
  {
   "cell_type": "code",
   "execution_count": null,
   "id": "fd976458",
   "metadata": {},
   "outputs": [],
   "source": [
    "\n",
    "idx_random = np.random.randint(5)\n",
    "idx_random"
   ]
  },
  {
   "cell_type": "code",
   "execution_count": null,
   "id": "bdfbbfc5",
   "metadata": {},
   "outputs": [],
   "source": [
    "# Show explanation -> broken due to indices missmatch\n",
    "idx = algo_mol_indices[\"regSHAP\"][40]\n",
    "print(idx)\n",
    "show_explanation(algorithms,dataset_PyG,dataset_smiles,idx,algo_dicts,\"jet\")"
   ]
  },
  {
   "cell_type": "code",
   "execution_count": null,
   "id": "0af4360a",
   "metadata": {},
   "outputs": [],
   "source": [
    "# typical barplot instead\n",
    "idx = algo_mol_indices[\"regSHAP\"][40]\n",
    "show_barplot_explanation(algorithms,dataset_PyG,idx,algo_dicts,\"out.png\")"
   ]
  },
  {
   "cell_type": "code",
   "execution_count": null,
   "id": "72f20fcf",
   "metadata": {},
   "outputs": [],
   "source": [
    "# Verifying the efficiency Shapley property\n",
    "data = dataset_PyG[0]\n",
    "x = data.x\n",
    "y = data.y\n",
    "e1 = data.edge_index[:,4:16]\n",
    "e2 = data.edge_index[:,-2:]\n",
    "\n",
    "edge_index = torch.cat((e1,e2),axis=1)\n",
    "new_edge_attr = torch.cat((data.edge_attr[4:16,:],data.edge_attr[-2:,:]),axis=0)\n",
    "new_x_idx = np.unique(edge_index[0]) # selecting the nodes which degree is > 0\n",
    "new_x = data.x[new_x_idx,:]\n",
    "new_edge_index = torch.vstack((rank_arr(edge_index[0],False),rank_arr(edge_index[1],False)))\n",
    "new_graph = Data(x=new_x,edge_index=new_edge_index,edge_attr=new_edge_attr,y=y)\n",
    "test_regSHAP = regSHAP(new_graph,64,model,42,False,False)\n",
    "batch = torch.zeros(new_graph.x.shape[0], dtype=int, device=new_graph.x.device)\n",
    "print(abs(sum(test_regSHAP)))\n",
    "print(model(new_graph.x,new_graph.edge_index,new_graph.edge_attr,batch))"
   ]
  },
  {
   "cell_type": "code",
   "execution_count": null,
   "id": "e6fcb733",
   "metadata": {},
   "outputs": [],
   "source": [
    "# Computing the mean, min and max number of edges in the 5000 molecules\n",
    "mol_idx = algo_mol_indices[alg][:5000]\n",
    "c = 0\n",
    "c_min = 50\n",
    "c_max = 0\n",
    "for mol in mol_idx:\n",
    "    explanation = algo_dicts[\"regSHAP\"][mol]\n",
    "    c_min = min(c_min,len(explanation))\n",
    "    c_max = max(c_max,len(explanation))\n",
    "    c += len(explanation)\n",
    "print(c/5000)\n",
    "print(c_min)\n",
    "print(c_max)"
   ]
  }
 ],
 "metadata": {
  "kernelspec": {
   "display_name": "Python 3 (ipykernel)",
   "language": "python",
   "name": "python3"
  },
  "language_info": {
   "codemirror_mode": {
    "name": "ipython",
    "version": 3
   },
   "file_extension": ".py",
   "mimetype": "text/x-python",
   "name": "python",
   "nbconvert_exporter": "python",
   "pygments_lexer": "ipython3",
   "version": "3.9.7"
  }
 },
 "nbformat": 4,
 "nbformat_minor": 5
}
