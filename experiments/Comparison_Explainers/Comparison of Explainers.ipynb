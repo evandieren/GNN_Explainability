{
 "cells": [
  {
   "cell_type": "markdown",
   "id": "f45558b2",
   "metadata": {},
   "source": [
    "# Comparison of Explainers : GNNExplainer, EdgeSHAPer, regSHAP"
   ]
  },
  {
   "cell_type": "code",
   "execution_count": null,
   "id": "52b4cc94",
   "metadata": {},
   "outputs": [],
   "source": [
    "# Imports\n",
    "%load_ext autoreload\n",
    "%autoreload 2\n",
    "\n",
    "import sys\n",
    "sys.path.insert(0, '../../EdgeSHAPer/src/')\n",
    "sys.path.insert(0,'../../models/pcqm4m-v2_ogb/')\n",
    "sys.path.insert(0,'../../utils/')\n",
    "sys.path.insert(0,'../../../AMLD-2021-Graphs/src/')\n",
    "\n",
    "import pandas as pd\n",
    "import numpy as np\n",
    "import matplotlib\n",
    "import matplotlib.pyplot as plt\n",
    "from tkinter import *\n",
    "matplotlib.use('TkAgg')\n",
    "\n",
    "# PyTorch related\n",
    "import torch\n",
    "import torch.nn.functional as F\n",
    "from torch_geometric.data.data import Data\n",
    "from torch_geometric.utils import to_undirected\n",
    "from torch_geometric.explain import Explainer,GNNExplainer,PGExplainer\n",
    "from torch_geometric.explain.metric import fidelity\n",
    "from gnn import GNN\n",
    "from visualization import * # AMDL-2021-Graphs\n",
    "from torch_geometric.utils import to_networkx\n",
    "import networkx as nx\n",
    "\n",
    "from utils import *\n",
    "\n",
    "from regSHAPer import regSHAP\n",
    "from edgeshaper import edgeshaper\n",
    "from scipy.special import binom\n",
    "from itertools import combinations\n",
    "\n",
    "# Dataset-related\n",
    "import ogb\n",
    "from ogb.lsc import PCQM4Mv2Dataset, PygPCQM4Mv2Dataset\n",
    "from ogb.utils import smiles2graph\n",
    "\n",
    "# Chemistry related\n",
    "import rdkit\n",
    "from rdkit import Chem\n",
    "from rdkit.Chem import AllChem"
   ]
  },
  {
   "cell_type": "code",
   "execution_count": null,
   "id": "af3b7e1f",
   "metadata": {},
   "outputs": [],
   "source": [
    "# ================== #\n",
    "# Importing datasets #\n",
    "# ================== #\n",
    "path_data = \"../../data/\"\n",
    "dataset_smiles = PCQM4Mv2Dataset(root=path_data,only_smiles = True)\n",
    "dataset_PyG = PygPCQM4Mv2Dataset(root=path_data)\n",
    "suppl = Chem.SDMolSupplier(path_data+'pcqm4m-v2-train.sdf')\n",
    "n_train = 3378606 # Number of molecules in the train subset of pcqm4m-v2 dataset"
   ]
  },
  {
   "cell_type": "code",
   "execution_count": null,
   "id": "7ba921d8",
   "metadata": {},
   "outputs": [],
   "source": [
    "# =================== #\n",
    "# Importing the model #\n",
    "# =================== #\n",
    "path_model = \"../../models/pcqm4m-v2_ogb/\"\n",
    "model_pt = torch.load(path_model+\"model_trained.pt\",map_location=torch.device('cpu'))\n",
    "\n",
    "shared_params = {\n",
    "        'num_layers': 5,\n",
    "        'emb_dim': 600,\n",
    "        'drop_ratio': 0,\n",
    "        'graph_pooling': 'sum'\n",
    "    }\n",
    "device = torch.device(\"cuda:\" + str(args.device)) if torch.cuda.is_available() else torch.device(\"cpu\")\n",
    "print(device)\n",
    "model = GNN(gnn_type = 'gcn', virtual_node = False, **shared_params).to('cpu')\n",
    "model.load_state_dict(model_pt['model_state_dict'])\n",
    "epoch = model_pt['epoch']\n",
    "print(epoch)"
   ]
  },
  {
   "cell_type": "code",
   "execution_count": null,
   "id": "38538873",
   "metadata": {},
   "outputs": [],
   "source": [
    "# ====================== #\n",
    "# Importing explanations #\n",
    "# ====================== #\n",
    "path_script = \"scripts/\"\n",
    "algo_files = {\"GNNExplainer\":\"gnnexplainer/model_5gr_gnnexpl_dict.pt\",\n",
    "            \"EdgeSHAPer\":\"EdgeSHAPer/5gr_edgeSHAPexpl_dict.pt\",\n",
    "            \"regSHAPer\":\"regSHAPer/diff_5gr_regSHAP_dict.pt\"}\n",
    "algorithms = list(algo_files.keys())\n",
    "\n",
    "algo_dicts = {}\n",
    "algo_mol_indices = {}\n",
    "for alg in algorithms:\n",
    "    algo_dicts[alg] = torch.load(path_script+algo_files[alg])\n",
    "    print(len(algo_dicts[alg].keys()), \"molecules for \"+alg)\n",
    "    algo_mol_indices[alg] = list(algo_dicts[alg].keys())"
   ]
  },
  {
   "cell_type": "code",
   "execution_count": null,
   "id": "f5807483",
   "metadata": {},
   "outputs": [],
   "source": [
    "# ===================== #\n",
    "# Creating GNNExplainer #\n",
    "# ===================== #\n",
    "gnn_explainer = Explainer(\n",
    "        model=model,\n",
    "        algorithm=GNNExplainer(epochs=500),\n",
    "        explanation_type=\"model\",\n",
    "        node_mask_type=None,\n",
    "        edge_mask_type=\"object\",\n",
    "        model_config=dict(\n",
    "            mode='regression',\n",
    "            task_level='graph',\n",
    "            return_type='raw',\n",
    "        )\n",
    "    )"
   ]
  },
  {
   "cell_type": "markdown",
   "id": "1b7f1051",
   "metadata": {},
   "source": [
    "## Metrics and visualization"
   ]
  },
  {
   "cell_type": "markdown",
   "id": "100c4ae5",
   "metadata": {},
   "source": [
    "### Metrics"
   ]
  },
  {
   "cell_type": "markdown",
   "id": "e297935f",
   "metadata": {},
   "source": [
    "#### FID +/-"
   ]
  },
  {
   "cell_type": "code",
   "execution_count": null,
   "id": "fb318326",
   "metadata": {
    "scrolled": false
   },
   "outputs": [],
   "source": [
    "idx_expl = np.arange(0,5000,1)\n",
    "print(\"number of mols :\",len(idx_expl))\n",
    "idx_mols = np.array([algo_mol_indices[\"EdgeSHAPer\"][i] for i in idx_expl])\n",
    "list_graphs = dataset_PyG[idx_mols]\n",
    "positive = False\n",
    "for alg in algorithms:\n",
    "    explanations = [torch.abs(torch.tensor(algo_dicts[alg][i])) for i in idx_mols]\n",
    "    print(explanations[0])\n",
    "    print(compute_fid(model,list_graphs,positive,explanations,5,None))"
   ]
  },
  {
   "cell_type": "markdown",
   "id": "d82769e2",
   "metadata": {},
   "source": [
    "#### GEF"
   ]
  },
  {
   "cell_type": "code",
   "execution_count": null,
   "id": "bb17f82d",
   "metadata": {},
   "outputs": [],
   "source": [
    "# Creating list of graphs and explanations\n",
    "idx_mols = algo_mol_indices[alg][:5000]\n",
    "list_graphs = dataset_PyG[idx_mols]\n",
    "\n",
    "expl = [torch.tensor(algo_dicts[alg][i]) for i in idx_mols]\n",
    "k = 5\n",
    "dict_gef = compute_gef(idx_mols,list_graphs,algo_dicts,model,k,algorithms)"
   ]
  },
  {
   "cell_type": "code",
   "execution_count": null,
   "id": "8e2d7423",
   "metadata": {},
   "outputs": [],
   "source": [
    "print(\"GNNExplainer:\",dict_gef[\"GNNExplainer\"][1])\n",
    "print(\"EdgeSHAPer:\",dict_gef[\"EdgeSHAPer\"][1])\n",
    "print(\"regSHAPer:\",dict_gef[\"regSHAPer\"][1])\n",
    "# regSHAP is better for this metric. (the lower the better)"
   ]
  },
  {
   "cell_type": "code",
   "execution_count": null,
   "id": "29fe5cd4",
   "metadata": {},
   "outputs": [],
   "source": [
    "# verif mean\n",
    "y = torch.tensor([data.y for data in list_graphs])\n",
    "print(torch.mean(y))\n",
    "print(np.mean(dict_gef[\"GNNExplainer\"][0][:,1]))"
   ]
  },
  {
   "cell_type": "markdown",
   "id": "50e32a59",
   "metadata": {},
   "source": [
    "### Plots for the report"
   ]
  },
  {
   "cell_type": "markdown",
   "id": "ed0f057e",
   "metadata": {},
   "source": [
    "#### Graph vs Subgraph predictions"
   ]
  },
  {
   "cell_type": "code",
   "execution_count": null,
   "id": "7779d870",
   "metadata": {},
   "outputs": [],
   "source": [
    "# Showing graph vs subgraph\n",
    "col_dict = {\"GNNExplainer\":\"red\",\n",
    "            \"EdgeSHAPer\":\"mediumblue\",\n",
    "            \"regSHAPer\":\"orange\"}\n",
    "# Creating list of graphs and explanations\n",
    "idx_mols = algo_mol_indices[alg][:5000]\n",
    "list_graphs = dataset_PyG[idx_mols]"
   ]
  },
  {
   "cell_type": "code",
   "execution_count": null,
   "id": "372b5450",
   "metadata": {},
   "outputs": [],
   "source": [
    "for k in [3,5,7,9]:\n",
    "    dict_gef = compute_gef(idx_mols,list_graphs,algo_dicts,model,k,algorithms)\n",
    "    graph_subgraph(dict_gef,k,col_dict,(2,14),(2,14),\"plots/pred_graph_subgraph/graph_subgraph_k_\"+str(k)+\".png\")"
   ]
  },
  {
   "cell_type": "code",
   "execution_count": null,
   "id": "050fec86",
   "metadata": {},
   "outputs": [],
   "source": [
    "# MAE for last k (verif)\n",
    "for i,alg in enumerate(dict_gef.keys()):\n",
    "    print(alg)\n",
    "    print(np.mean((dict_gef[alg][0][:,0]-dict_gef[alg][0][:,1])**2))"
   ]
  },
  {
   "cell_type": "markdown",
   "id": "e500f592",
   "metadata": {},
   "source": [
    "#### Threshold graph"
   ]
  },
  {
   "cell_type": "code",
   "execution_count": null,
   "id": "b71f5301",
   "metadata": {},
   "outputs": [],
   "source": [
    "thresh = np.arange(0,1.01,0.01)\n",
    "compute_tresh(thresh,5000,algo_dicts,col_dict,algorithms,\"plots/threshold/threshold_plot.png\")"
   ]
  },
  {
   "cell_type": "markdown",
   "id": "5bf81c31",
   "metadata": {},
   "source": [
    "#### Molecule visualization"
   ]
  },
  {
   "cell_type": "code",
   "execution_count": null,
   "id": "12583566",
   "metadata": {},
   "outputs": [],
   "source": [
    "idx_mols = [629596,634384]\n",
    "\n",
    "mol_viz(algorithms,idx_mols,(10,10),dataset_PyG,algo_dicts,\"./plots/expl_viz/expl_mol\"+str(idx_mols))"
   ]
  },
  {
   "cell_type": "code",
   "execution_count": null,
   "id": "77349902",
   "metadata": {},
   "outputs": [],
   "source": [
    "idx_mols = [algo_mol_indices[alg][idx] for idx in np.random.randint(5000,size=4)]\n",
    "idx_mols = [[idx_mols[0],idx_mols[1]],[idx_mols[2],idx_mols[3]]]\n",
    "for i in idx_mols:\n",
    "    mol_viz(algorithms,i,(10,10),dataset_PyG,algo_dicts,\"./plots/expl_viz/expl_mol\"+str(i))"
   ]
  },
  {
   "cell_type": "markdown",
   "id": "7ed67bf4",
   "metadata": {},
   "source": [
    "# Other snippets of code and/or old code"
   ]
  },
  {
   "cell_type": "code",
   "execution_count": null,
   "id": "fd976458",
   "metadata": {},
   "outputs": [],
   "source": [
    "\n",
    "idx_random = np.random.randint(5)\n",
    "idx_random"
   ]
  },
  {
   "cell_type": "code",
   "execution_count": null,
   "id": "bdfbbfc5",
   "metadata": {},
   "outputs": [],
   "source": [
    "# Show explanation -> broken due to indices missmatch\n",
    "idx = algo_mol_indices[\"regSHAP\"][40]\n",
    "print(idx)\n",
    "show_explanation(algorithms,dataset_PyG,dataset_smiles,idx,algo_dicts,\"jet\")"
   ]
  },
  {
   "cell_type": "code",
   "execution_count": null,
   "id": "0af4360a",
   "metadata": {},
   "outputs": [],
   "source": [
    "# typical barplot instead\n",
    "idx = algo_mol_indices[\"regSHAP\"][40]\n",
    "show_barplot_explanation(algorithms,dataset_PyG,idx,algo_dicts,\"out.png\")"
   ]
  },
  {
   "cell_type": "code",
   "execution_count": null,
   "id": "72f20fcf",
   "metadata": {},
   "outputs": [],
   "source": [
    "# Verifying the efficiency Shapley property\n",
    "data = dataset_PyG[0]\n",
    "x = data.x\n",
    "y = data.y\n",
    "e1 = data.edge_index[:,4:16]\n",
    "e2 = data.edge_index[:,-2:]\n",
    "\n",
    "edge_index = torch.cat((e1,e2),axis=1)\n",
    "new_edge_attr = torch.cat((data.edge_attr[4:16,:],data.edge_attr[-2:,:]),axis=0)\n",
    "new_x_idx = np.unique(edge_index[0]) # selecting the nodes which degree is > 0\n",
    "new_x = data.x[new_x_idx,:]\n",
    "new_edge_index = torch.vstack((rank_arr(edge_index[0],False),rank_arr(edge_index[1],False)))\n",
    "new_graph = Data(x=new_x,edge_index=new_edge_index,edge_attr=new_edge_attr,y=y)\n",
    "test_regSHAP = regSHAP(new_graph,64,model,42,False,False)\n",
    "batch = torch.zeros(new_graph.x.shape[0], dtype=int, device=new_graph.x.device)\n",
    "print(abs(sum(test_regSHAP)))\n",
    "print(model(new_graph.x,new_graph.edge_index,new_graph.edge_attr,batch))"
   ]
  },
  {
   "cell_type": "code",
   "execution_count": null,
   "id": "e6fcb733",
   "metadata": {},
   "outputs": [],
   "source": [
    "# Computing the mean, min and max number of edges in the 5000 molecules\n",
    "mol_idx = algo_mol_indices[alg][:5000]\n",
    "c = 0\n",
    "c_min = 50\n",
    "c_max = 0\n",
    "for mol in mol_idx:\n",
    "    explanation = algo_dicts[\"regSHAP\"][mol]\n",
    "    c_min = min(c_min,len(explanation))\n",
    "    c_max = max(c_max,len(explanation))\n",
    "    c += len(explanation)\n",
    "print(c/5000)\n",
    "print(c_min)\n",
    "print(c_max)"
   ]
  }
 ],
 "metadata": {
  "kernelspec": {
   "display_name": "Python 3 (ipykernel)",
   "language": "python",
   "name": "python3"
  },
  "language_info": {
   "codemirror_mode": {
    "name": "ipython",
    "version": 3
   },
   "file_extension": ".py",
   "mimetype": "text/x-python",
   "name": "python",
   "nbconvert_exporter": "python",
   "pygments_lexer": "ipython3",
   "version": "3.11.5"
  }
 },
 "nbformat": 4,
 "nbformat_minor": 5
}
